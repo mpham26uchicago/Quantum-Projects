{
 "cells": [
  {
   "cell_type": "code",
   "execution_count": 1,
   "id": "19adf63d",
   "metadata": {},
   "outputs": [
    {
     "name": "stderr",
     "output_type": "stream",
     "text": [
      "Duplicate key in file '/Users/minhpham/.matplotlib/matplotlibrc', line 2 ('backend: TkAgg')\n",
      "Duplicate key in file '/Users/minhpham/.matplotlib/matplotlibrc', line 3 ('backend: TkAgg')\n",
      "/Library/Frameworks/Python.framework/Versions/3.8/lib/python3.8/site-packages/qiskit/aqua/operators/operator_globals.py:48: DeprecationWarning: `from_label` is deprecated and will be removed no earlier than 3 months after the release date. Use Pauli(label) instead.\n",
      "  X = make_immutable(PrimitiveOp(Pauli.from_label('X')))\n"
     ]
    }
   ],
   "source": [
    "from frozen_yoghourt import *"
   ]
  },
  {
   "cell_type": "code",
   "execution_count": 2,
   "id": "3424af13",
   "metadata": {},
   "outputs": [],
   "source": [
    "# Define general loss function\n",
    "\n",
    "loss = lambda y_hat, y: np.mean(np.linalg.norm(np.abs(np.abs(y_hat) - y), axis = 0))/np.sqrt(2)"
   ]
  },
  {
   "cell_type": "code",
   "execution_count": 3,
   "id": "3d3e2a5e",
   "metadata": {},
   "outputs": [
    {
     "data": {
      "image/png": "[encoded data removed]",
      "text/plain": [
       "<Figure size 1110x325.08 with 1 Axes>"
      ]
     },
     "execution_count": 3,
     "metadata": {},
     "output_type": "execute_result"
    }
   ],
   "source": [
    "circ = q(5)\n",
    "circ.u(0, 0, 0, 4)\n",
    "circ.cx(3, 4)\n",
    "circ.u(0, 0, 0, 4)\n",
    "circ.cx(0, 4)\n",
    "circ.u(0, 0, 0, 4)\n",
    "circ.cx(1, 4)\n",
    "circ.u(0, 0, 0, 4)\n",
    "circ.cx(2, 4)\n",
    "circ.u(0, 0, 0, 4)\n",
    "circ.cx(0, 4)\n",
    "circ.u(0, 0, 0, 4)\n",
    "circ.cx(1, 4)\n",
    "circ.u(0, 0, 0, 4)\n",
    "circ.cx(2, 4)\n",
    "circ.u(0, 0, 0, 4)\n",
    "circ.cx(3, 4)\n",
    "circ.u(0, 0, 0, 4)\n",
    "\n",
    "milk(circ)"
   ]
  },
  {
   "cell_type": "code",
   "execution_count": null,
   "id": "0f2ad3fa",
   "metadata": {
    "scrolled": true
   },
   "outputs": [],
   "source": [
    "# print Unpack angles\n",
    "'''for i in range(9):\n",
    "    print(f'U{i} = U(a[{3*i}], a[{3*i+1}], a[{3*i+2}])')'''\n",
    "    \n",
    "# print ### |state>\n",
    "'''i = 0\n",
    "for elem in product(['0', '1'], repeat = 4):\n",
    "    print(f\"### |{''.join(elem)}>\")\n",
    "    print(f\"Uh{i} = U8@\")\n",
    "    print('\\n')\n",
    "    i+=1'''\n",
    "\n",
    "'''for i in range(9):\n",
    "    print('circ.u(0, 0, 0, 4)')'''\n",
    "\n",
    "i = 0\n",
    "for elem in product(['0', '1'], repeat = 4):\n",
    "    print(f\"### |{''.join(elem)}>\")\n",
    "    print(f\"L{i} = loss(Uh{i}, I)\")\n",
    "    print('\\n')\n",
    "    i+=1\n",
    "\n"
   ]
  },
  {
   "cell_type": "code",
   "execution_count": 132,
   "id": "f33acc9f",
   "metadata": {},
   "outputs": [],
   "source": [
    "def cost_func(angles):\n",
    "    \n",
    "    a = angles\n",
    "    \n",
    "    # Unpack angles\n",
    "    \n",
    "    U0 = U(a[0], a[1], a[2])\n",
    "    U1 = U(a[3], a[4], a[5])\n",
    "    U2 = U(a[6], a[7], a[8])\n",
    "    U3 = U(a[9], a[10], a[11])\n",
    "    U4 = U(a[12], a[13], a[14])\n",
    "    U5 = U(a[15], a[16], a[17])\n",
    "    U6 = U(a[18], a[19], a[20])\n",
    "    U7 = U(a[21], a[22], a[23])\n",
    "    U8 = U(a[24], a[25], a[26])\n",
    "    \n",
    "\n",
    "    # Calculate the predicted value for each input (Uh: U hat)\n",
    "\n",
    "    ### |0000>\n",
    "    Uh0 = U8@U7@U6@U5@U4@U3@U2@U1@U0\n",
    "\n",
    "\n",
    "    ### |0001>\n",
    "    Uh1 = U8@U7@U6@U5@(X)@U4@U3@U2@(X)@U1@U0\n",
    "\n",
    "\n",
    "    ### |0010>\n",
    "    Uh2 = U8@U7@U6@(X)@U5@U4@U3@(X)@U2@U1@U0\n",
    "\n",
    "\n",
    "    ### |0011>\n",
    "    Uh3 = U8@U7@U6@(X)@U5@(X)@U4@U3@(X)@U2@(X)@U1@U0\n",
    "\n",
    "\n",
    "    ### |0100>\n",
    "    Uh4 = U8@U7@(X)@U6@U5@U4@(X)@U3@U2@U1@U0\n",
    "\n",
    "\n",
    "    ### |0101>\n",
    "    Uh5 = U8@U7@(X)@U6@U5@(X)@U4@(X)@U3@U2@(X)@U1@U0\n",
    "\n",
    "\n",
    "    ### |0110>\n",
    "    Uh6 = U8@U7@(X)@U6@(X)@U5@U4@(X)@U3@(X)@U2@U1@U0\n",
    "\n",
    "\n",
    "    ### |0111>\n",
    "    Uh7 = U8@U7@(X)@U6@(X)@U5@(X)@U4@(X)@U3@(X)@U2@(X)@U1@U0\n",
    "\n",
    "\n",
    "    ### |1000>\n",
    "    Uh8 = U8@(X)@U7@U6@U5@U4@U3@U2@U1@(X)@U0\n",
    "\n",
    "\n",
    "    ### |1001>\n",
    "    Uh9 = U8@(X)@U7@U6@U5@(X)@U4@U3@U2@(X)@U1@(X)@U0\n",
    "\n",
    "\n",
    "    ### |1010>\n",
    "    Uh10 = U8@(X)@U7@U6@(X)@U5@U4@U3@(X)@U2@U1@(X)@U0\n",
    "\n",
    "\n",
    "    ### |1011>\n",
    "    Uh11 = U8@(X)@U7@U6@(X)@U5@(X)@U4@U3@(X)@U2@(X)@U1@(X)@U0\n",
    "\n",
    "\n",
    "    ### |1100>\n",
    "    Uh12 = U8@(X)@U7@(X)@U6@U5@U4@(X)@U3@U2@U1@(X)@U0\n",
    "\n",
    "\n",
    "    ### |1101>\n",
    "    Uh13 = U8@(X)@U7@(X)@U6@U5@(X)@U4@(X)@U3@U2@(X)@U1@(X)@U0\n",
    "\n",
    "\n",
    "    ### |1110>\n",
    "    Uh14 = U8@(X)@U7@(X)@U6@(X)@U5@U4@(X)@U3@(X)@U2@U1@(X)@U0\n",
    "\n",
    "\n",
    "    ### |1111>\n",
    "    Uh15 = U8@(X)@U7@(X)@U6@(X)@U5@(X)@U4@(X)@U3@(X)@U2@(X)@U1@(X)@U0\n",
    "\n",
    "    # Calculate the loss function for each input\n",
    "\n",
    "    ### |0000>\n",
    "    L0 = loss(Uh0, I)\n",
    "\n",
    "\n",
    "    ### |0001>\n",
    "    L1 = loss(Uh1, I)\n",
    "\n",
    "\n",
    "    ### |0010>\n",
    "    L2 = loss(Uh2, I)\n",
    "\n",
    "\n",
    "    ### |0011>\n",
    "    L3 = loss(Uh3, I)\n",
    "\n",
    "\n",
    "    ### |0100>\n",
    "    L4 = loss(Uh4, I)\n",
    "\n",
    "\n",
    "    ### |0101>\n",
    "    L5 = loss(Uh5, I)\n",
    "\n",
    "\n",
    "    ### |0110>\n",
    "    L6 = loss(Uh6, I)\n",
    "\n",
    "\n",
    "    ### |0111>\n",
    "    L7 = loss(Uh7, I)\n",
    "\n",
    "\n",
    "    ### |1000>\n",
    "    L8 = loss(Uh8, I)\n",
    "\n",
    "\n",
    "    ### |1001>\n",
    "    L9 = loss(Uh9, I)\n",
    "\n",
    "\n",
    "    ### |1010>\n",
    "    L10 = loss(Uh10, I)\n",
    "\n",
    "\n",
    "    ### |1011>\n",
    "    L11 = loss(Uh11, I)\n",
    "\n",
    "\n",
    "    ### |1100>\n",
    "    L12 = loss(Uh12, I)\n",
    "\n",
    "\n",
    "    ### |1101>\n",
    "    L13 = loss(Uh13, I)\n",
    "\n",
    "\n",
    "    ### |1110>\n",
    "    L14 = loss(Uh14, I)\n",
    "\n",
    "\n",
    "    ### |1111>\n",
    "    L15 = loss(Uh15, X)\n",
    "\n",
    "    # Calculate cost\n",
    "    cost = (L0 + L1 + L2 + L3 + L4 + L5 + L6 + L7 + L8 + L9 + L10 + L11 + L12 + L13 + L14 + L15*3)/18\n",
    "    \n",
    "    return cost"
   ]
  },
  {
   "cell_type": "code",
   "execution_count": 133,
   "id": "409bf51c",
   "metadata": {},
   "outputs": [
    {
     "data": {
      "text/plain": [
       "'trust-krylov'"
      ]
     },
     "execution_count": 133,
     "metadata": {},
     "output_type": "execute_result"
    }
   ],
   "source": [
    "import scipy as sp\n",
    "\n",
    "# Optimizer List\n",
    "\n",
    "\"Nelder-Mead\" \n",
    "\"Powell\" \n",
    "\"CG\" \n",
    "\"BFGS\" \n",
    "\"Newton-CG\" \n",
    "\"L-BFGS-B\" \n",
    "\"TNC\" \n",
    "\"COBYLA\" \n",
    "\"SLSQP\" \n",
    "\"trust-constr\"\n",
    "\"dogleg\" \n",
    "\"trust-ncg\" \n",
    "\"trust-exact\" \n",
    "\"trust-krylov\" "
   ]
  },
  {
   "cell_type": "code",
   "execution_count": 134,
   "id": "1de8402d",
   "metadata": {},
   "outputs": [],
   "source": [
    "# x0 = np.random.uniform(low = 0, high = 2*np.pi, size = (27,))\n",
    "# x0 =result.x\n",
    "\n",
    "x0 = np.array([1.26877441, 1.94025024, 0.04166109, 3.79817765, 1.15682571,\n",
    "       4.30372471, 3.91377073, 1.19386354, 1.7595274 , 1.11882425,\n",
    "       5.94907575, 3.05037308, 6.05794917, 2.8095988 , 4.75488987,\n",
    "       0.64184606, 6.12317863, 1.25647973, 5.90915751, 2.7509485 ,\n",
    "       1.50972202, 2.00471491, 1.5710645 , 6.15926556, 3.96402098,\n",
    "       4.73478399, 3.19430392])\n",
    "\n",
    "# Optimize Parameters\n",
    "\n",
    "result = sp.optimize.minimize(cost_func, x0, method = \"Nelder-Mead\" )\n",
    "\n",
    "# Unpacking the trained parameters\n",
    "a = result.x"
   ]
  },
  {
   "cell_type": "code",
   "execution_count": 135,
   "id": "7ee03be3",
   "metadata": {},
   "outputs": [
    {
     "data": {
      "image/png": "[encoded data removed]",
      "text/plain": [
       "<Figure size 1591.6x686.28 with 1 Axes>"
      ]
     },
     "execution_count": 135,
     "metadata": {},
     "output_type": "execute_result"
    }
   ],
   "source": [
    "circ = q(5)\n",
    "\n",
    "circ.u(a[0], a[1], a[2], 4)\n",
    "circ.cx(3, 4)\n",
    "circ.u(a[3], a[4], a[5], 4)\n",
    "circ.cx(0, 4)\n",
    "circ.u(a[6], a[7], a[8], 4)\n",
    "circ.cx(1, 4)\n",
    "circ.u(a[9], a[10], a[11], 4)\n",
    "circ.cx(2, 4)\n",
    "circ.u(a[12], a[13], a[14], 4)\n",
    "circ.cx(0, 4)\n",
    "circ.u(a[15], a[16], a[17], 4)\n",
    "circ.cx(1, 4)\n",
    "circ.u(a[18], a[19], a[20], 4)\n",
    "circ.cx(2, 4)\n",
    "circ.u(a[21], a[22], a[23], 4)\n",
    "circ.cx(3, 4)\n",
    "circ.u(a[24], a[25], a[26], 4)\n",
    "\n",
    "milk(circ)"
   ]
  },
  {
   "cell_type": "code",
   "execution_count": 136,
   "id": "b4ba7a25",
   "metadata": {},
   "outputs": [
    {
     "data": {
      "text/latex": [
       "$\\displaystyle \\left[\\begin{array}{cccccccccccccccccccccccccccccccc}0.9673208273 & 0.0 & 0.0 & 0.0 & 0.0 & 0.0 & 0.0 & 0.0 & 0.0 & 0.0 & 0.0 & 0.0 & 0.0 & 0.0 & 0.0 & 0.0 & 0.2535555504 & 0.0 & 0.0 & 0.0 & 0.0 & 0.0 & 0.0 & 0.0 & 0.0 & 0.0 & 0.0 & 0.0 & 0.0 & 0.0 & 0.0 & 0.0\\\\0.0 & 0.8647685653 & 0.0 & 0.0 & 0.0 & 0.0 & 0.0 & 0.0 & 0.0 & 0.0 & 0.0 & 0.0 & 0.0 & 0.0 & 0.0 & 0.0 & 0.0 & 0.5021706169 & 0.0 & 0.0 & 0.0 & 0.0 & 0.0 & 0.0 & 0.0 & 0.0 & 0.0 & 0.0 & 0.0 & 0.0 & 0.0 & 0.0\\\\0.0 & 0.0 & 0.9999315055 & 0.0 & 0.0 & 0.0 & 0.0 & 0.0 & 0.0 & 0.0 & 0.0 & 0.0 & 0.0 & 0.0 & 0.0 & 0.0 & 0.0 & 0.0 & 0.0117040302 & 0.0 & 0.0 & 0.0 & 0.0 & 0.0 & 0.0 & 0.0 & 0.0 & 0.0 & 0.0 & 0.0 & 0.0 & 0.0\\\\0.0 & 0.0 & 0.0 & 0.9977460313 & 0.0 & 0.0 & 0.0 & 0.0 & 0.0 & 0.0 & 0.0 & 0.0 & 0.0 & 0.0 & 0.0 & 0.0 & 0.0 & 0.0 & 0.0 & 0.0671033313 & 0.0 & 0.0 & 0.0 & 0.0 & 0.0 & 0.0 & 0.0 & 0.0 & 0.0 & 0.0 & 0.0 & 0.0\\\\0.0 & 0.0 & 0.0 & 0.0 & 0.9999999934 & 0.0 & 0.0 & 0.0 & 0.0 & 0.0 & 0.0 & 0.0 & 0.0 & 0.0 & 0.0 & 0.0 & 0.0 & 0.0 & 0.0 & 0.0 & 0.0001148595 & 0.0 & 0.0 & 0.0 & 0.0 & 0.0 & 0.0 & 0.0 & 0.0 & 0.0 & 0.0 & 0.0\\\\0.0 & 0.0 & 0.0 & 0.0 & 0.0 & 0.9719206394 & 0.0 & 0.0 & 0.0 & 0.0 & 0.0 & 0.0 & 0.0 & 0.0 & 0.0 & 0.0 & 0.0 & 0.0 & 0.0 & 0.0 & 0.0 & 0.2353088836 & 0.0 & 0.0 & 0.0 & 0.0 & 0.0 & 0.0 & 0.0 & 0.0 & 0.0 & 0.0\\\\0.0 & 0.0 & 0.0 & 0.0 & 0.0 & 0.0 & 0.9998627593 & 0.0 & 0.0 & 0.0 & 0.0 & 0.0 & 0.0 & 0.0 & 0.0 & 0.0 & 0.0 & 0.0 & 0.0 & 0.0 & 0.0 & 0.0 & 0.0165669128 & 0.0 & 0.0 & 0.0 & 0.0 & 0.0 & 0.0 & 0.0 & 0.0 & 0.0\\\\0.0 & 0.0 & 0.0 & 0.0 & 0.0 & 0.0 & 0.0 & 0.0083789629 & 0.0 & 0.0 & 0.0 & 0.0 & 0.0 & 0.0 & 0.0 & 0.0 & 0.0 & 0.0 & 0.0 & 0.0 & 0.0 & 0.0 & 0.0 & 0.9999648959 & 0.0 & 0.0 & 0.0 & 0.0 & 0.0 & 0.0 & 0.0 & 0.0\\\\0.0 & 0.0 & 0.0 & 0.0 & 0.0 & 0.0 & 0.0 & 0.0 & 0.9678072398 & 0.0 & 0.0 & 0.0 & 0.0 & 0.0 & 0.0 & 0.0 & 0.0 & 0.0 & 0.0 & 0.0 & 0.0 & 0.0 & 0.0 & 0.0 & 0.2516925638 & 0.0 & 0.0 & 0.0 & 0.0 & 0.0 & 0.0 & 0.0\\\\0.0 & 0.0 & 0.0 & 0.0 & 0.0 & 0.0 & 0.0 & 0.0 & 0.0 & 0.8657512937 & 0.0 & 0.0 & 0.0 & 0.0 & 0.0 & 0.0 & 0.0 & 0.0 & 0.0 & 0.0 & 0.0 & 0.0 & 0.0 & 0.0 & 0.0 & 0.5004744723 & 0.0 & 0.0 & 0.0 & 0.0 & 0.0 & 0.0\\\\0.0 & 0.0 & 0.0 & 0.0 & 0.0 & 0.0 & 0.0 & 0.0 & 0.0 & 0.0 & 0.9999968018 & 0.0 & 0.0 & 0.0 & 0.0 & 0.0 & 0.0 & 0.0 & 0.0 & 0.0 & 0.0 & 0.0 & 0.0 & 0.0 & 0.0 & 0.0 & 0.0025291205 & 0.0 & 0.0 & 0.0 & 0.0 & 0.0\\\\0.0 & 0.0 & 0.0 & 0.0 & 0.0 & 0.0 & 0.0 & 0.0 & 0.0 & 0.0 & 0.0 & 0.9978735211 & 0.0 & 0.0 & 0.0 & 0.0 & 0.0 & 0.0 & 0.0 & 0.0 & 0.0 & 0.0 & 0.0 & 0.0 & 0.0 & 0.0 & 0.0 & 0.065180026 & 0.0 & 0.0 & 0.0 & 0.0\\\\0.0 & 0.0 & 0.0 & 0.0 & 0.0 & 0.0 & 0.0 & 0.0 & 0.0 & 0.0 & 0.0 & 0.0 & 0.9999490307 & 0.0 & 0.0 & 0.0 & 0.0 & 0.0 & 0.0 & 0.0 & 0.0 & 0.0 & 0.0 & 0.0 & 0.0 & 0.0 & 0.0 & 0.0 & 0.0100963376 & 0.0 & 0.0 & 0.0\\\\0.0 & 0.0 & 0.0 & 0.0 & 0.0 & 0.0 & 0.0 & 0.0 & 0.0 & 0.0 & 0.0 & 0.0 & 0.0 & 0.9737234446 & 0.0 & 0.0 & 0.0 & 0.0 & 0.0 & 0.0 & 0.0 & 0.0 & 0.0 & 0.0 & 0.0 & 0.0 & 0.0 & 0.0 & 0.0 & 0.2277337338 & 0.0 & 0.0\\\\0.0 & 0.0 & 0.0 & 0.0 & 0.0 & 0.0 & 0.0 & 0.0 & 0.0 & 0.0 & 0.0 & 0.0 & 0.0 & 0.0 & 0.9997058071 & 0.0 & 0.0 & 0.0 & 0.0 & 0.0 & 0.0 & 0.0 & 0.0 & 0.0 & 0.0 & 0.0 & 0.0 & 0.0 & 0.0 & 0.0 & 0.0242548819 & 0.0\\\\0.0 & 0.0 & 0.0 & 0.0 & 0.0 & 0.0 & 0.0 & 0.0 & 0.0 & 0.0 & 0.0 & 0.0 & 0.0 & 0.0 & 0.0 & 0.0012480763 & 0.0 & 0.0 & 0.0 & 0.0 & 0.0 & 0.0 & 0.0 & 0.0 & 0.0 & 0.0 & 0.0 & 0.0 & 0.0 & 0.0 & 0.0 & 0.9999992212\\\\0.2535555504 & 0.0 & 0.0 & 0.0 & 0.0 & 0.0 & 0.0 & 0.0 & 0.0 & 0.0 & 0.0 & 0.0 & 0.0 & 0.0 & 0.0 & 0.0 & 0.9673208273 & 0.0 & 0.0 & 0.0 & 0.0 & 0.0 & 0.0 & 0.0 & 0.0 & 0.0 & 0.0 & 0.0 & 0.0 & 0.0 & 0.0 & 0.0\\\\0.0 & 0.5021706169 & 0.0 & 0.0 & 0.0 & 0.0 & 0.0 & 0.0 & 0.0 & 0.0 & 0.0 & 0.0 & 0.0 & 0.0 & 0.0 & 0.0 & 0.0 & 0.8647685653 & 0.0 & 0.0 & 0.0 & 0.0 & 0.0 & 0.0 & 0.0 & 0.0 & 0.0 & 0.0 & 0.0 & 0.0 & 0.0 & 0.0\\\\0.0 & 0.0 & 0.0117040302 & 0.0 & 0.0 & 0.0 & 0.0 & 0.0 & 0.0 & 0.0 & 0.0 & 0.0 & 0.0 & 0.0 & 0.0 & 0.0 & 0.0 & 0.0 & 0.9999315055 & 0.0 & 0.0 & 0.0 & 0.0 & 0.0 & 0.0 & 0.0 & 0.0 & 0.0 & 0.0 & 0.0 & 0.0 & 0.0\\\\0.0 & 0.0 & 0.0 & 0.0671033313 & 0.0 & 0.0 & 0.0 & 0.0 & 0.0 & 0.0 & 0.0 & 0.0 & 0.0 & 0.0 & 0.0 & 0.0 & 0.0 & 0.0 & 0.0 & 0.9977460313 & 0.0 & 0.0 & 0.0 & 0.0 & 0.0 & 0.0 & 0.0 & 0.0 & 0.0 & 0.0 & 0.0 & 0.0\\\\0.0 & 0.0 & 0.0 & 0.0 & 0.0001148595 & 0.0 & 0.0 & 0.0 & 0.0 & 0.0 & 0.0 & 0.0 & 0.0 & 0.0 & 0.0 & 0.0 & 0.0 & 0.0 & 0.0 & 0.0 & 0.9999999934 & 0.0 & 0.0 & 0.0 & 0.0 & 0.0 & 0.0 & 0.0 & 0.0 & 0.0 & 0.0 & 0.0\\\\0.0 & 0.0 & 0.0 & 0.0 & 0.0 & 0.2353088836 & 0.0 & 0.0 & 0.0 & 0.0 & 0.0 & 0.0 & 0.0 & 0.0 & 0.0 & 0.0 & 0.0 & 0.0 & 0.0 & 0.0 & 0.0 & 0.9719206394 & 0.0 & 0.0 & 0.0 & 0.0 & 0.0 & 0.0 & 0.0 & 0.0 & 0.0 & 0.0\\\\0.0 & 0.0 & 0.0 & 0.0 & 0.0 & 0.0 & 0.0165669128 & 0.0 & 0.0 & 0.0 & 0.0 & 0.0 & 0.0 & 0.0 & 0.0 & 0.0 & 0.0 & 0.0 & 0.0 & 0.0 & 0.0 & 0.0 & 0.9998627593 & 0.0 & 0.0 & 0.0 & 0.0 & 0.0 & 0.0 & 0.0 & 0.0 & 0.0\\\\0.0 & 0.0 & 0.0 & 0.0 & 0.0 & 0.0 & 0.0 & 0.9999648959 & 0.0 & 0.0 & 0.0 & 0.0 & 0.0 & 0.0 & 0.0 & 0.0 & 0.0 & 0.0 & 0.0 & 0.0 & 0.0 & 0.0 & 0.0 & 0.0083789629 & 0.0 & 0.0 & 0.0 & 0.0 & 0.0 & 0.0 & 0.0 & 0.0\\\\0.0 & 0.0 & 0.0 & 0.0 & 0.0 & 0.0 & 0.0 & 0.0 & 0.2516925638 & 0.0 & 0.0 & 0.0 & 0.0 & 0.0 & 0.0 & 0.0 & 0.0 & 0.0 & 0.0 & 0.0 & 0.0 & 0.0 & 0.0 & 0.0 & 0.9678072398 & 0.0 & 0.0 & 0.0 & 0.0 & 0.0 & 0.0 & 0.0\\\\0.0 & 0.0 & 0.0 & 0.0 & 0.0 & 0.0 & 0.0 & 0.0 & 0.0 & 0.5004744723 & 0.0 & 0.0 & 0.0 & 0.0 & 0.0 & 0.0 & 0.0 & 0.0 & 0.0 & 0.0 & 0.0 & 0.0 & 0.0 & 0.0 & 0.0 & 0.8657512937 & 0.0 & 0.0 & 0.0 & 0.0 & 0.0 & 0.0\\\\0.0 & 0.0 & 0.0 & 0.0 & 0.0 & 0.0 & 0.0 & 0.0 & 0.0 & 0.0 & 0.0025291205 & 0.0 & 0.0 & 0.0 & 0.0 & 0.0 & 0.0 & 0.0 & 0.0 & 0.0 & 0.0 & 0.0 & 0.0 & 0.0 & 0.0 & 0.0 & 0.9999968018 & 0.0 & 0.0 & 0.0 & 0.0 & 0.0\\\\0.0 & 0.0 & 0.0 & 0.0 & 0.0 & 0.0 & 0.0 & 0.0 & 0.0 & 0.0 & 0.0 & 0.065180026 & 0.0 & 0.0 & 0.0 & 0.0 & 0.0 & 0.0 & 0.0 & 0.0 & 0.0 & 0.0 & 0.0 & 0.0 & 0.0 & 0.0 & 0.0 & 0.9978735211 & 0.0 & 0.0 & 0.0 & 0.0\\\\0.0 & 0.0 & 0.0 & 0.0 & 0.0 & 0.0 & 0.0 & 0.0 & 0.0 & 0.0 & 0.0 & 0.0 & 0.0100963376 & 0.0 & 0.0 & 0.0 & 0.0 & 0.0 & 0.0 & 0.0 & 0.0 & 0.0 & 0.0 & 0.0 & 0.0 & 0.0 & 0.0 & 0.0 & 0.9999490307 & 0.0 & 0.0 & 0.0\\\\0.0 & 0.0 & 0.0 & 0.0 & 0.0 & 0.0 & 0.0 & 0.0 & 0.0 & 0.0 & 0.0 & 0.0 & 0.0 & 0.2277337338 & 0.0 & 0.0 & 0.0 & 0.0 & 0.0 & 0.0 & 0.0 & 0.0 & 0.0 & 0.0 & 0.0 & 0.0 & 0.0 & 0.0 & 0.0 & 0.9737234446 & 0.0 & 0.0\\\\0.0 & 0.0 & 0.0 & 0.0 & 0.0 & 0.0 & 0.0 & 0.0 & 0.0 & 0.0 & 0.0 & 0.0 & 0.0 & 0.0 & 0.0242548819 & 0.0 & 0.0 & 0.0 & 0.0 & 0.0 & 0.0 & 0.0 & 0.0 & 0.0 & 0.0 & 0.0 & 0.0 & 0.0 & 0.0 & 0.0 & 0.9997058071 & 0.0\\\\0.0 & 0.0 & 0.0 & 0.0 & 0.0 & 0.0 & 0.0 & 0.0 & 0.0 & 0.0 & 0.0 & 0.0 & 0.0 & 0.0 & 0.0 & 0.9999992212 & 0.0 & 0.0 & 0.0 & 0.0 & 0.0 & 0.0 & 0.0 & 0.0 & 0.0 & 0.0 & 0.0 & 0.0 & 0.0 & 0.0 & 0.0 & 0.0012480763\\end{array}\\right]$"
      ],
      "text/plain": [
       "Matrix([\n",
       "[0.9673208273,          0.0,          0.0,          0.0,          0.0,          0.0,          0.0,          0.0,          0.0,          0.0,          0.0,          0.0,          0.0,          0.0,          0.0,          0.0, 0.2535555504,          0.0,          0.0,          0.0,          0.0,          0.0,          0.0,          0.0,          0.0,          0.0,          0.0,          0.0,          0.0,          0.0,          0.0,          0.0],\n",
       "[         0.0, 0.8647685653,          0.0,          0.0,          0.0,          0.0,          0.0,          0.0,          0.0,          0.0,          0.0,          0.0,          0.0,          0.0,          0.0,          0.0,          0.0, 0.5021706169,          0.0,          0.0,          0.0,          0.0,          0.0,          0.0,          0.0,          0.0,          0.0,          0.0,          0.0,          0.0,          0.0,          0.0],\n",
       "[         0.0,          0.0, 0.9999315055,          0.0,          0.0,          0.0,          0.0,          0.0,          0.0,          0.0,          0.0,          0.0,          0.0,          0.0,          0.0,          0.0,          0.0,          0.0, 0.0117040302,          0.0,          0.0,          0.0,          0.0,          0.0,          0.0,          0.0,          0.0,          0.0,          0.0,          0.0,          0.0,          0.0],\n",
       "[         0.0,          0.0,          0.0, 0.9977460313,          0.0,          0.0,          0.0,          0.0,          0.0,          0.0,          0.0,          0.0,          0.0,          0.0,          0.0,          0.0,          0.0,          0.0,          0.0, 0.0671033313,          0.0,          0.0,          0.0,          0.0,          0.0,          0.0,          0.0,          0.0,          0.0,          0.0,          0.0,          0.0],\n",
       "[         0.0,          0.0,          0.0,          0.0, 0.9999999934,          0.0,          0.0,          0.0,          0.0,          0.0,          0.0,          0.0,          0.0,          0.0,          0.0,          0.0,          0.0,          0.0,          0.0,          0.0, 0.0001148595,          0.0,          0.0,          0.0,          0.0,          0.0,          0.0,          0.0,          0.0,          0.0,          0.0,          0.0],\n",
       "[         0.0,          0.0,          0.0,          0.0,          0.0, 0.9719206394,          0.0,          0.0,          0.0,          0.0,          0.0,          0.0,          0.0,          0.0,          0.0,          0.0,          0.0,          0.0,          0.0,          0.0,          0.0, 0.2353088836,          0.0,          0.0,          0.0,          0.0,          0.0,          0.0,          0.0,          0.0,          0.0,          0.0],\n",
       "[         0.0,          0.0,          0.0,          0.0,          0.0,          0.0, 0.9998627593,          0.0,          0.0,          0.0,          0.0,          0.0,          0.0,          0.0,          0.0,          0.0,          0.0,          0.0,          0.0,          0.0,          0.0,          0.0, 0.0165669128,          0.0,          0.0,          0.0,          0.0,          0.0,          0.0,          0.0,          0.0,          0.0],\n",
       "[         0.0,          0.0,          0.0,          0.0,          0.0,          0.0,          0.0, 0.0083789629,          0.0,          0.0,          0.0,          0.0,          0.0,          0.0,          0.0,          0.0,          0.0,          0.0,          0.0,          0.0,          0.0,          0.0,          0.0, 0.9999648959,          0.0,          0.0,          0.0,          0.0,          0.0,          0.0,          0.0,          0.0],\n",
       "[         0.0,          0.0,          0.0,          0.0,          0.0,          0.0,          0.0,          0.0, 0.9678072398,          0.0,          0.0,          0.0,          0.0,          0.0,          0.0,          0.0,          0.0,          0.0,          0.0,          0.0,          0.0,          0.0,          0.0,          0.0, 0.2516925638,          0.0,          0.0,          0.0,          0.0,          0.0,          0.0,          0.0],\n",
       "[         0.0,          0.0,          0.0,          0.0,          0.0,          0.0,          0.0,          0.0,          0.0, 0.8657512937,          0.0,          0.0,          0.0,          0.0,          0.0,          0.0,          0.0,          0.0,          0.0,          0.0,          0.0,          0.0,          0.0,          0.0,          0.0, 0.5004744723,          0.0,          0.0,          0.0,          0.0,          0.0,          0.0],\n",
       "[         0.0,          0.0,          0.0,          0.0,          0.0,          0.0,          0.0,          0.0,          0.0,          0.0, 0.9999968018,          0.0,          0.0,          0.0,          0.0,          0.0,          0.0,          0.0,          0.0,          0.0,          0.0,          0.0,          0.0,          0.0,          0.0,          0.0, 0.0025291205,          0.0,          0.0,          0.0,          0.0,          0.0],\n",
       "[         0.0,          0.0,          0.0,          0.0,          0.0,          0.0,          0.0,          0.0,          0.0,          0.0,          0.0, 0.9978735211,          0.0,          0.0,          0.0,          0.0,          0.0,          0.0,          0.0,          0.0,          0.0,          0.0,          0.0,          0.0,          0.0,          0.0,          0.0,  0.065180026,          0.0,          0.0,          0.0,          0.0],\n",
       "[         0.0,          0.0,          0.0,          0.0,          0.0,          0.0,          0.0,          0.0,          0.0,          0.0,          0.0,          0.0, 0.9999490307,          0.0,          0.0,          0.0,          0.0,          0.0,          0.0,          0.0,          0.0,          0.0,          0.0,          0.0,          0.0,          0.0,          0.0,          0.0, 0.0100963376,          0.0,          0.0,          0.0],\n",
       "[         0.0,          0.0,          0.0,          0.0,          0.0,          0.0,          0.0,          0.0,          0.0,          0.0,          0.0,          0.0,          0.0, 0.9737234446,          0.0,          0.0,          0.0,          0.0,          0.0,          0.0,          0.0,          0.0,          0.0,          0.0,          0.0,          0.0,          0.0,          0.0,          0.0, 0.2277337338,          0.0,          0.0],\n",
       "[         0.0,          0.0,          0.0,          0.0,          0.0,          0.0,          0.0,          0.0,          0.0,          0.0,          0.0,          0.0,          0.0,          0.0, 0.9997058071,          0.0,          0.0,          0.0,          0.0,          0.0,          0.0,          0.0,          0.0,          0.0,          0.0,          0.0,          0.0,          0.0,          0.0,          0.0, 0.0242548819,          0.0],\n",
       "[         0.0,          0.0,          0.0,          0.0,          0.0,          0.0,          0.0,          0.0,          0.0,          0.0,          0.0,          0.0,          0.0,          0.0,          0.0, 0.0012480763,          0.0,          0.0,          0.0,          0.0,          0.0,          0.0,          0.0,          0.0,          0.0,          0.0,          0.0,          0.0,          0.0,          0.0,          0.0, 0.9999992212],\n",
       "[0.2535555504,          0.0,          0.0,          0.0,          0.0,          0.0,          0.0,          0.0,          0.0,          0.0,          0.0,          0.0,          0.0,          0.0,          0.0,          0.0, 0.9673208273,          0.0,          0.0,          0.0,          0.0,          0.0,          0.0,          0.0,          0.0,          0.0,          0.0,          0.0,          0.0,          0.0,          0.0,          0.0],\n",
       "[         0.0, 0.5021706169,          0.0,          0.0,          0.0,          0.0,          0.0,          0.0,          0.0,          0.0,          0.0,          0.0,          0.0,          0.0,          0.0,          0.0,          0.0, 0.8647685653,          0.0,          0.0,          0.0,          0.0,          0.0,          0.0,          0.0,          0.0,          0.0,          0.0,          0.0,          0.0,          0.0,          0.0],\n",
       "[         0.0,          0.0, 0.0117040302,          0.0,          0.0,          0.0,          0.0,          0.0,          0.0,          0.0,          0.0,          0.0,          0.0,          0.0,          0.0,          0.0,          0.0,          0.0, 0.9999315055,          0.0,          0.0,          0.0,          0.0,          0.0,          0.0,          0.0,          0.0,          0.0,          0.0,          0.0,          0.0,          0.0],\n",
       "[         0.0,          0.0,          0.0, 0.0671033313,          0.0,          0.0,          0.0,          0.0,          0.0,          0.0,          0.0,          0.0,          0.0,          0.0,          0.0,          0.0,          0.0,          0.0,          0.0, 0.9977460313,          0.0,          0.0,          0.0,          0.0,          0.0,          0.0,          0.0,          0.0,          0.0,          0.0,          0.0,          0.0],\n",
       "[         0.0,          0.0,          0.0,          0.0, 0.0001148595,          0.0,          0.0,          0.0,          0.0,          0.0,          0.0,          0.0,          0.0,          0.0,          0.0,          0.0,          0.0,          0.0,          0.0,          0.0, 0.9999999934,          0.0,          0.0,          0.0,          0.0,          0.0,          0.0,          0.0,          0.0,          0.0,          0.0,          0.0],\n",
       "[         0.0,          0.0,          0.0,          0.0,          0.0, 0.2353088836,          0.0,          0.0,          0.0,          0.0,          0.0,          0.0,          0.0,          0.0,          0.0,          0.0,          0.0,          0.0,          0.0,          0.0,          0.0, 0.9719206394,          0.0,          0.0,          0.0,          0.0,          0.0,          0.0,          0.0,          0.0,          0.0,          0.0],\n",
       "[         0.0,          0.0,          0.0,          0.0,          0.0,          0.0, 0.0165669128,          0.0,          0.0,          0.0,          0.0,          0.0,          0.0,          0.0,          0.0,          0.0,          0.0,          0.0,          0.0,          0.0,          0.0,          0.0, 0.9998627593,          0.0,          0.0,          0.0,          0.0,          0.0,          0.0,          0.0,          0.0,          0.0],\n",
       "[         0.0,          0.0,          0.0,          0.0,          0.0,          0.0,          0.0, 0.9999648959,          0.0,          0.0,          0.0,          0.0,          0.0,          0.0,          0.0,          0.0,          0.0,          0.0,          0.0,          0.0,          0.0,          0.0,          0.0, 0.0083789629,          0.0,          0.0,          0.0,          0.0,          0.0,          0.0,          0.0,          0.0],\n",
       "[         0.0,          0.0,          0.0,          0.0,          0.0,          0.0,          0.0,          0.0, 0.2516925638,          0.0,          0.0,          0.0,          0.0,          0.0,          0.0,          0.0,          0.0,          0.0,          0.0,          0.0,          0.0,          0.0,          0.0,          0.0, 0.9678072398,          0.0,          0.0,          0.0,          0.0,          0.0,          0.0,          0.0],\n",
       "[         0.0,          0.0,          0.0,          0.0,          0.0,          0.0,          0.0,          0.0,          0.0, 0.5004744723,          0.0,          0.0,          0.0,          0.0,          0.0,          0.0,          0.0,          0.0,          0.0,          0.0,          0.0,          0.0,          0.0,          0.0,          0.0, 0.8657512937,          0.0,          0.0,          0.0,          0.0,          0.0,          0.0],\n",
       "[         0.0,          0.0,          0.0,          0.0,          0.0,          0.0,          0.0,          0.0,          0.0,          0.0, 0.0025291205,          0.0,          0.0,          0.0,          0.0,          0.0,          0.0,          0.0,          0.0,          0.0,          0.0,          0.0,          0.0,          0.0,          0.0,          0.0, 0.9999968018,          0.0,          0.0,          0.0,          0.0,          0.0],\n",
       "[         0.0,          0.0,          0.0,          0.0,          0.0,          0.0,          0.0,          0.0,          0.0,          0.0,          0.0,  0.065180026,          0.0,          0.0,          0.0,          0.0,          0.0,          0.0,          0.0,          0.0,          0.0,          0.0,          0.0,          0.0,          0.0,          0.0,          0.0, 0.9978735211,          0.0,          0.0,          0.0,          0.0],\n",
       "[         0.0,          0.0,          0.0,          0.0,          0.0,          0.0,          0.0,          0.0,          0.0,          0.0,          0.0,          0.0, 0.0100963376,          0.0,          0.0,          0.0,          0.0,          0.0,          0.0,          0.0,          0.0,          0.0,          0.0,          0.0,          0.0,          0.0,          0.0,          0.0, 0.9999490307,          0.0,          0.0,          0.0],\n",
       "[         0.0,          0.0,          0.0,          0.0,          0.0,          0.0,          0.0,          0.0,          0.0,          0.0,          0.0,          0.0,          0.0, 0.2277337338,          0.0,          0.0,          0.0,          0.0,          0.0,          0.0,          0.0,          0.0,          0.0,          0.0,          0.0,          0.0,          0.0,          0.0,          0.0, 0.9737234446,          0.0,          0.0],\n",
       "[         0.0,          0.0,          0.0,          0.0,          0.0,          0.0,          0.0,          0.0,          0.0,          0.0,          0.0,          0.0,          0.0,          0.0, 0.0242548819,          0.0,          0.0,          0.0,          0.0,          0.0,          0.0,          0.0,          0.0,          0.0,          0.0,          0.0,          0.0,          0.0,          0.0,          0.0, 0.9997058071,          0.0],\n",
       "[         0.0,          0.0,          0.0,          0.0,          0.0,          0.0,          0.0,          0.0,          0.0,          0.0,          0.0,          0.0,          0.0,          0.0,          0.0, 0.9999992212,          0.0,          0.0,          0.0,          0.0,          0.0,          0.0,          0.0,          0.0,          0.0,          0.0,          0.0,          0.0,          0.0,          0.0,          0.0, 0.0012480763]])"
      ]
     },
     "metadata": {},
     "output_type": "display_data"
    }
   ],
   "source": [
    "view(np.abs(get(circ, nice = False)))"
   ]
  },
  {
   "cell_type": "code",
   "execution_count": null,
   "id": "59f23476",
   "metadata": {},
   "outputs": [],
   "source": [
    "np.sum(np.round(np.abs(get(circ, nice = False))) - np.abs(get(circ, nice = False)))"
   ]
  },
  {
   "cell_type": "code",
   "execution_count": null,
   "id": "e1e755bc",
   "metadata": {},
   "outputs": [],
   "source": [
    "result.x"
   ]
  },
  {
   "cell_type": "code",
   "execution_count": null,
   "id": "47cb7b7c",
   "metadata": {},
   "outputs": [],
   "source": [
    "# Change cost weighting"
   ]
  },
  {
   "cell_type": "code",
   "execution_count": null,
   "id": "a81ca5fd",
   "metadata": {},
   "outputs": [],
   "source": [
    "dtp(circ)"
   ]
  },
  {
   "cell_type": "code",
   "execution_count": null,
   "id": "1637c09a",
   "metadata": {},
   "outputs": [],
   "source": [
    "array([ 5.61198903,  3.52434712,  3.48247813,  2.17424838,  3.93968332,\n",
    "        1.07392755,  2.80810776,  3.95699461,  5.05239419,  2.22435202,\n",
    "        4.86973101,  0.85745189,  4.90636816,  5.29279684,  6.075291  ,\n",
    "        0.13501051,  2.32539574,  6.34871352,  3.6886369 ,  4.86403952,\n",
    "        3.43467613,  4.83377124,  4.83181499,  5.98709935,  0.60447049,\n",
    "        4.53486147,  4.13502118,  3.16651365,  6.23598464,  2.52055742,\n",
    "        1.60572711,  1.62646803,  5.32321492,  0.98002714,  2.57197608,\n",
    "        1.44794492,  2.22685202,  0.39680176,  5.27866614,  3.16244403,\n",
    "        6.04013001,  5.12269354,  2.2373655 ,  5.60283001,  5.60599754,\n",
    "        5.0934175 ,  5.21095798,  2.53766069,  2.78566524,  5.75635446,\n",
    "        3.80233445,  2.3053403 , -1.22984673,  3.94523896])"
   ]
  },
  {
   "cell_type": "code",
   "execution_count": 89,
   "id": "9e4ef3db",
   "metadata": {},
   "outputs": [],
   "source": [
    "cost_list = []\n",
    "\n",
    "for i in range(0, 50_000):\n",
    "    np.random.seed(i)\n",
    "    w = np.random.uniform(low = 0, high = 2*np.pi, size = (27,))\n",
    "    cost_list.append(cost_func(w))\n",
    "    "
   ]
  },
  {
   "cell_type": "code",
   "execution_count": 90,
   "id": "29649dae",
   "metadata": {},
   "outputs": [
    {
     "data": {
      "text/plain": [
       "0.23098600332611877"
      ]
     },
     "execution_count": 90,
     "metadata": {},
     "output_type": "execute_result"
    }
   ],
   "source": [
    "min(cost_list)"
   ]
  },
  {
   "cell_type": "code",
   "execution_count": 91,
   "id": "56bca78c",
   "metadata": {},
   "outputs": [
    {
     "data": {
      "text/plain": [
       "(array([3607]),)"
      ]
     },
     "execution_count": 91,
     "metadata": {},
     "output_type": "execute_result"
    }
   ],
   "source": [
    "np.where((np.array(cost_list) == min(cost_list)) )"
   ]
  },
  {
   "cell_type": "code",
   "execution_count": 65,
   "id": "2a65a2e5",
   "metadata": {},
   "outputs": [
    {
     "data": {
      "text/plain": [
       "0.23721232185001195"
      ]
     },
     "execution_count": 65,
     "metadata": {},
     "output_type": "execute_result"
    }
   ],
   "source": [
    "cost_list[7256]"
   ]
  },
  {
   "cell_type": "code",
   "execution_count": 66,
   "id": "5c6634bb",
   "metadata": {},
   "outputs": [
    {
     "data": {
      "text/plain": [
       "0.5329746227142619"
      ]
     },
     "execution_count": 66,
     "metadata": {},
     "output_type": "execute_result"
    }
   ],
   "source": [
    "cost_list[32859]"
   ]
  },
  {
   "cell_type": "code",
   "execution_count": 92,
   "id": "948e6863",
   "metadata": {},
   "outputs": [
    {
     "data": {
      "text/plain": [
       "0.23098600332611877"
      ]
     },
     "execution_count": 92,
     "metadata": {},
     "output_type": "execute_result"
    }
   ],
   "source": [
    "np.random.seed(3607)\n",
    "w = np.random.uniform(low = 0, high = 2*np.pi, size = (27,))\n",
    "cost_func(w)"
   ]
  },
  {
   "cell_type": "code",
   "execution_count": 93,
   "id": "583e874f",
   "metadata": {},
   "outputs": [
    {
     "data": {
      "text/plain": [
       "array([1.26877441, 1.94025024, 0.04166109, 3.79817765, 1.15682571,\n",
       "       4.30372471, 3.91377073, 1.19386354, 1.7595274 , 1.11882425,\n",
       "       5.94907575, 3.05037308, 6.05794917, 2.8095988 , 4.75488987,\n",
       "       0.64184606, 6.12317863, 1.25647973, 5.90915751, 2.7509485 ,\n",
       "       1.50972202, 2.00471491, 1.5710645 , 6.15926556, 3.96402098,\n",
       "       4.73478399, 3.19430392])"
      ]
     },
     "execution_count": 93,
     "metadata": {},
     "output_type": "execute_result"
    }
   ],
   "source": [
    "w"
   ]
  },
  {
   "cell_type": "code",
   "execution_count": null,
   "id": "6e03d2ef",
   "metadata": {},
   "outputs": [],
   "source": []
  }
 ],
 "metadata": {
  "kernelspec": {
   "display_name": "Python 3",
   "language": "python",
   "name": "python3"
  },
  "language_info": {
   "codemirror_mode": {
    "name": "ipython",
    "version": 3
   },
   "file_extension": ".py",
   "mimetype": "text/x-python",
   "name": "python",
   "nbconvert_exporter": "python",
   "pygments_lexer": "ipython3",
   "version": "3.8.3"
  }
 },
 "nbformat": 4,
 "nbformat_minor": 5
}
