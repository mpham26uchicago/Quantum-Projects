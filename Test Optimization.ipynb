{
 "cells": [
  {
   "cell_type": "code",
   "execution_count": null,
   "id": "19adf63d",
   "metadata": {},
   "outputs": [],
   "source": [
    "from frozen_yoghourt import *"
   ]
  },
  {
   "cell_type": "code",
   "execution_count": null,
   "id": "e3ddab56",
   "metadata": {},
   "outputs": [],
   "source": [
    "# Define general loss function\n",
    "\n",
    "loss = lambda y_hat, y: np.mean(np.linalg.norm(np.abs(np.abs(y_hat) - y), axis = 0))/np.sqrt(2)"
   ]
  },
  {
   "cell_type": "code",
   "execution_count": null,
   "id": "2b70f2e6",
   "metadata": {},
   "outputs": [],
   "source": [
    "dtp(CnX(3))"
   ]
  },
  {
   "cell_type": "code",
   "execution_count": null,
   "id": "94da59e5",
   "metadata": {},
   "outputs": [],
   "source": [
    "def cost_func(angles):\n",
    "    \n",
    "    # Unpack angles\n",
    "    \n",
    "    t0, p0, l0, t1, p1, l1, t2, p2, l2, t3, p3, l3, t4, p4, l4, t5, p5, l5, t6, p6, l6 = angles\n",
    "\n",
    "    # Initialize Unitary Matrices\n",
    "\n",
    "    U0 = U(t0, p0, l0)\n",
    "    U1 = U(t1, p1, l1)\n",
    "    U2 = U(t2, p2, l2)\n",
    "    U3 = U(t3, p3, l3)\n",
    "    U4 = U(t4, p4, l4)\n",
    "    U5 = U(t5, p5, l5)\n",
    "    U6 = U(t6, p6, l6)\n",
    "\n",
    "    # Calculate the predicted value for each input (Uh: U hat)\n",
    "\n",
    "    ## |000>\n",
    "    Uh0 = U6@U5@U4@U3@U2@U1@U0\n",
    "\n",
    "    ### |001>\n",
    "    Uh1 = U6@U5@U4@(X)@U3@U2@(X)@U1@U0\n",
    "\n",
    "    ### |010>\n",
    "    Uh2 = U6@U5@(X)@U4@U3@(X)@U2@U1@U0\n",
    "\n",
    "    ### |011>\n",
    "    Uh3 = U6@U5@(X)@U4@(X)@U3@(X)@U2@(X)@U1@U0\n",
    "\n",
    "    ### |100>\n",
    "    Uh4 = U6@(X)@U5@U4@U3@U2@U1@(X)@U0\n",
    "\n",
    "    ### |101>\n",
    "    Uh5 = U6@(X)@U5@U4@(X)@U3@U2@(X)@U1@(X)@U0\n",
    "\n",
    "    ### |110>\n",
    "    Uh6 = U6@(X)@U5@(X)@U4@U3@(X)@U2@U1@(X)@U0\n",
    "\n",
    "    ### |111>\n",
    "    Uh7 = U6@(X)@U5@(X)@U4@(X)@U3@(X)@U2@(X)@U1@(X)@U0\n",
    "\n",
    "    # Calculate the loss function for each input\n",
    "\n",
    "    ## |000>\n",
    "    L0 = loss(Uh0, I)\n",
    "\n",
    "    ### |001>\n",
    "    L1 = loss(Uh1, I)\n",
    "\n",
    "    ### |010>\n",
    "    L2 = loss(Uh2, I)\n",
    "\n",
    "    ### |011>\n",
    "    L3 = loss(Uh3, I)\n",
    "\n",
    "    ### |100>\n",
    "    L4 = loss(Uh4, I)\n",
    "\n",
    "    ### |101>\n",
    "    L5 = loss(Uh5, I)\n",
    "\n",
    "    ### |110>\n",
    "    L6 = loss(Uh6, I)\n",
    "\n",
    "    ### |111>\n",
    "    L7 = loss(Uh7, X)\n",
    "\n",
    "    # Calculate cost\n",
    "    cost = (L0 + L1 + L2 + L3 + L4 + L5 + L6 + L7)/8\n",
    "    \n",
    "    return cost"
   ]
  },
  {
   "cell_type": "code",
   "execution_count": null,
   "id": "01ec80ad",
   "metadata": {},
   "outputs": [],
   "source": [
    "import scipy as sp\n",
    "\n",
    "# Optimizer List\n",
    "\n",
    "\"Nelder-Mead\" \n",
    "\"Powell\" \n",
    "\"CG\" \n",
    "\"BFGS\" \n",
    "\"Newton-CG\" \n",
    "\"L-BFGS-B\" \n",
    "\"TNC\" \n",
    "\"COBYLA\" \n",
    "\"SLSQP\" \n",
    "\"trust-constr\"\n",
    "\"dogleg\" \n",
    "\"trust-ncg\" \n",
    "\"trust-exact\" \n",
    "\"trust-krylov\" "
   ]
  },
  {
   "cell_type": "code",
   "execution_count": null,
   "id": "e0808a69",
   "metadata": {},
   "outputs": [],
   "source": [
    "# x0 = np.random.uniform(low = 0, high = 2*np.pi, size = (21,))\n",
    "x0 = np.array([ 5.25045702,  0.60331093,  1.59609337,  7.32471707,  3.35701978,\n",
    "        5.63015169,  6.20367385,  5.11187372,  3.52911632,  6.20437395,\n",
    "       -0.36519281,  4.29050323,  3.0382421 ,  5.03020063,  1.10214528,\n",
    "        2.21405951,  3.48980063,  5.30409331,  0.8733388 ,  2.54145472,\n",
    "        2.74540961])"
   ]
  },
  {
   "cell_type": "code",
   "execution_count": null,
   "id": "86dd0d7e",
   "metadata": {
    "scrolled": true
   },
   "outputs": [],
   "source": [
    "# Optimize Parameters\n",
    "\n",
    "sp.optimize.minimize(cost_func, x0, method = \"Nelder-Mead\"  )"
   ]
  },
  {
   "cell_type": "code",
   "execution_count": null,
   "id": "8a50f992",
   "metadata": {},
   "outputs": [],
   "source": [
    "for i in range(7):\n",
    "    print(f\"circ.u(t{i}, p{i}, l{i}, 3)\")"
   ]
  },
  {
   "cell_type": "code",
   "execution_count": null,
   "id": "d1897d68",
   "metadata": {},
   "outputs": [],
   "source": [
    "# Unpacking the trained parameters\n",
    "\n",
    "t0, p0, l0, t1, p1, l1, t2, p2, l2, t3, p3, l3, t4, p4, l4, t5, p5, l5, t6, p6, l6 = np.array([ 5.250454  ,  0.60331355,  1.62876556,  7.32471985,  3.35702004,\n",
    "        5.63015065,  6.20367602,  5.11187262,  3.52911733,  6.20437598,\n",
    "       -0.36519761,  4.29050815,  3.03824653,  5.03020262,  1.10214735,\n",
    "        2.2140615 ,  3.48980395,  5.30409235,  0.87333929,  2.57453169,\n",
    "        2.74540863])\n",
    "\n",
    "circ = q(4)\n",
    "circ.u(t0, p0, l0, 3)\n",
    "circ.cx(2, 3)\n",
    "circ.u(t1, p1, l1, 3)\n",
    "circ.cx(0, 3)\n",
    "circ.u(t2, p2, l2, 3)\n",
    "circ.cx(1, 3)\n",
    "circ.u(t3, p3, l3, 3)\n",
    "circ.cx(0, 3)\n",
    "circ.u(t4, p4, l4, 3)\n",
    "circ.cx(1, 3)\n",
    "circ.u(t5, p5, l5, 3)\n",
    "circ.cx(2, 3)\n",
    "circ.u(t6, p6, l6, 3)\n",
    "\n",
    "milk(circ)"
   ]
  },
  {
   "cell_type": "code",
   "execution_count": null,
   "id": "eee739aa",
   "metadata": {},
   "outputs": [],
   "source": [
    "view(np.abs(get(circ, nice = False)))"
   ]
  },
  {
   "cell_type": "code",
   "execution_count": null,
   "id": "1fb21cc0",
   "metadata": {},
   "outputs": [],
   "source": []
  }
 ],
 "metadata": {
  "kernelspec": {
   "display_name": "Python 3",
   "language": "python",
   "name": "python3"
  },
  "language_info": {
   "codemirror_mode": {
    "name": "ipython",
    "version": 3
   },
   "file_extension": ".py",
   "mimetype": "text/x-python",
   "name": "python",
   "nbconvert_exporter": "python",
   "pygments_lexer": "ipython3",
   "version": "3.8.3"
  }
 },
 "nbformat": 4,
 "nbformat_minor": 5
}
