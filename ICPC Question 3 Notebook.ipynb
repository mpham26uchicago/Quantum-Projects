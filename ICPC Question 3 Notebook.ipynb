{
 "cells": [
  {
   "cell_type": "markdown",
   "metadata": {},
   "source": [
    "# Problem: Reflection unitaries"
   ]
  },
  {
   "cell_type": "markdown",
   "metadata": {},
   "source": [
    "In the previous two problems, the output of a classical Boolean function is computed into an additional qubit. However, quantum computers can also compute Boolean functions into the phase of a quantum state, which we explore in this problem.\n",
    "\n",
    "Suppose $f:\\{0,1\\}^n\\rightarrow\\{0,1\\}$ is a Boolean function. For $\\beta \\in R$, define an $\\textit{n}$-qubit unitary\n",
    "\n",
    "$$\n",
    "\\large\n",
    "\\begin{equation*}\n",
    "    U_f(\\beta) = \\sum_{x\\in\\{0,1\\}^n} e^{i\\beta f(x)}|x\\rangle \\langle x|\n",
    "\\tag{1}\n",
    "\\end{equation*}\n",
    "$$\n",
    "When $U_f$ is applied to computational basis state $|x\\rangle$ it adds a phase $e^{i\\beta}$ if $f(x) = 1$ and does  nothing otherwise.<br>\n",
    "Your goal in this problem is to implement $U_f$ for a variety of functions with $\\textit{n}$= 3\n",
    "<h3>\n",
    "\\begin{align}\n",
    "f_0(x_1x_2x_3)&=0,\\quad f_1(x_1x_2x_3)=x_1x_2x_3,\\quad f_2(x_1x_2x_3)=x_1x_2x_3+(1-x_1)(1-x_2)(1-x_3),\\\\\\nonumber\n",
    "f_3(x_1x_2x_3)&=x_1+x_2+x_3+x_1x_2x_3,\\quad f_4(x_1x_2x_3)=x_1+x_2+x_3.\n",
    "\\tag{2}\n",
    "\\end{align}\n",
    "</h3>\n",
    "Here, $f_m$ has m solutions to f(x) = 1. For instance,$f_2$ evaluates to 1 on the inputs x = 000 and x = 111.You may use $A \\geq 0$ ancilla qubits in your implementation initialized in $∣0^A\\rangle$ as long as they are returned to $∣0^A\\rangle$ by the end of the computation. Two examples are shown in Fig.2 for n= 2 functions.\n",
    "\n",
    "![icpc_reflections.png](icpc_reflections.png \"ShowMyImage\")\n",
    "\n",
    "The \"reflection unitaries\" $U_f(\\beta)$ are useful in some quantum algorithms. In particular, the famous Grover search algorithm uses these reflections to outperform classical search algorithms for unstructured lists."
   ]
  },
  {
   "cell_type": "code",
   "execution_count": 4,
   "metadata": {},
   "outputs": [],
   "source": [
    "def C2X(circ, control_qubit1, control_qubit2, target_qubit):    \n",
    "    circ.ch(control_qubit1, target_qubit)\n",
    "    circ.cz(control_qubit2, target_qubit)\n",
    "    circ.ch(control_qubit1, target_qubit)\n",
    "    \n",
    "def C2X(circ, control_qubit1, control_qubit2, target_qubit):    \n",
    "    \n",
    "    circ.ch(control_qubit1, target_qubit)\n",
    "    circ.cz(control_qubit2, target_qubit)\n",
    "    circ.ch(control_qubit1, target_qubit)\n",
    "    \n",
    "    return circ\n",
    "def CS():\n",
    "    circ = QuantumCircuit(1)\n",
    "    circ.s(0)\n",
    "    circ = circ.control(1)\n",
    "    \n",
    "    return circ\n",
    "\n",
    "def CS_dagger():\n",
    "    circ = QuantumCircuit(1)\n",
    "    circ.sdg(0)\n",
    "    circ = circ.control(1)\n",
    "    \n",
    "    return circ\n",
    "\n",
    "def CCZ(circ, c1, c2, t):\n",
    "    circ = circ.compose(CS(), [c2, t])\n",
    "    circ.cx(c1, c2)\n",
    "    circ = circ.compose(CS_dagger(), [c2, t])\n",
    "    circ.cx(c1, c2)\n",
    "    circ = circ.compose(CS(), [c1, t])\n",
    "\n",
    "    return circ\n",
    "\n",
    "def C3X(circ, c1, c2, c3, t):\n",
    "\n",
    "    circ.ch(c1, t)\n",
    "\n",
    "#     circ.barrier()\n",
    "\n",
    "    circ = CCZ(circ, c2, c3, t)\n",
    "\n",
    "#     circ.barrier()\n",
    "\n",
    "    circ.ch(c1, t)\n",
    "\n",
    "    return circ\n",
    "\n",
    "def C4X(circ, c1, c2, c3, c4, t):\n",
    "\n",
    "    circ.ch(c1, t)\n",
    "    circ.h(t)\n",
    "    circ.mct([c2, c3, c4], t)\n",
    "    circ.h(t)\n",
    "    circ.ch(c1, t)\n",
    "    return circ\n",
    "\n",
    "def C5X(circ, c1, c2, c3, c4, c5, t):\n",
    "\n",
    "    circ.ch(c1, t)\n",
    "    circ.h(t)\n",
    "    circ.mct([c2, c3, c4, c5], t)\n",
    "    circ.h(t)\n",
    "    circ.ch(c1, t)\n",
    "    return circ"
   ]
  },
  {
   "cell_type": "markdown",
   "metadata": {},
   "source": [
    "<h1>\n",
    "    $f_m$ for m = 0"
   ]
  },
  {
   "cell_type": "code",
   "execution_count": 5,
   "metadata": {},
   "outputs": [
    {
     "data": {
      "image/png": "[encoded data removed]",
      "text/plain": [
       "<Figure size 126.986x204.68 with 1 Axes>"
      ]
     },
     "metadata": {},
     "output_type": "display_data"
    }
   ],
   "source": [
    "# Importing the qiskit module\n",
    "from qiskit import *\n",
    "\n",
    "q0 =  3  # number of required qubits\n",
    "a0 = 0   # number of ancilla qubit\n",
    "beta = circuit.Parameter('beta') #Parameter for reflection \n",
    "\n",
    "# Defining Quantum Circuit with the given circuits\n",
    "def Circuit_0(q,a,beta):\n",
    "    if a != 0:\n",
    "        # initiating required and ancilla qubits\n",
    "        Q = QuantumRegister(q, 'input') \n",
    "        A = QuantumRegister(a, 'ancilla')  \n",
    "        \n",
    "        # creating circuit with above qubits\n",
    "        Circ = QuantumCircuit(Q,A)\n",
    "    else:\n",
    "        # initiating required qubits\n",
    "        Q = QuantumRegister(q, 'input') \n",
    "        \n",
    "        # creating circuit with above qubits\n",
    "        Circ = QuantumCircuit(Q)\n",
    "    \n",
    "    ##### Create you circuit below ######### \n",
    "    \n",
    "    \n",
    "    \n",
    "    ########################################\n",
    "    \n",
    "    # Uncomment to draw quantum circuit\n",
    "    display(Circ.draw('mpl'))\n",
    "    \n",
    "    # Transpiling the circuit into u, cnot\n",
    "    Circ = transpile(Circ, basis_gates=['u3','cx'])\n",
    "    \n",
    "    # Uncomment to draw transpiled circuit\n",
    "#     display(Circ.draw('mpl'))\n",
    "    \n",
    "    return Circ\n",
    "\n",
    "qc_3a = Circuit_0(q0,a0,beta)"
   ]
  },
  {
   "cell_type": "markdown",
   "metadata": {},
   "source": [
    "<h1>\n",
    "    $f_m$ for m = 1"
   ]
  },
  {
   "cell_type": "code",
   "execution_count": 6,
   "metadata": {},
   "outputs": [
    {
     "data": {
      "image/png": "[encoded data removed]",
      "text/plain": [
       "<Figure size 909.586x204.68 with 1 Axes>"
      ]
     },
     "metadata": {},
     "output_type": "display_data"
    }
   ],
   "source": [
    "# Importing the qiskit module\n",
    "from qiskit import *\n",
    "\n",
    "q1 = 3  # number of required qubits\n",
    "a1 =  0 # number of ancilla qubit\n",
    "beta = circuit.Parameter('beta') #Parameter for reflection \n",
    "\n",
    "# Defining Quantum Circuit with the given Circuits\n",
    "def Circuit_1(q,a,beta):\n",
    "    if a != 0:\n",
    "        # initiating required and ancilla qubits\n",
    "        Q = QuantumRegister(q, 'input') \n",
    "        A = QuantumRegister(a, 'ancilla')  \n",
    "        \n",
    "        # creating Circuit with above qubits\n",
    "        Circ = QuantumCircuit(Q,A)\n",
    "    else:\n",
    "        # initiating required qubits\n",
    "        Q = QuantumRegister(q, 'input') \n",
    "        \n",
    "        # creating Circuit with above qubits\n",
    "        Circ = QuantumCircuit(Q)\n",
    "    \n",
    "    ##### Create you Circuit below #########   \n",
    "    Circ.p(beta/4, [0, 1])\n",
    "    Circ.p(beta/2, 2)\n",
    "    # First switch\n",
    "    Circ.cx(0, 1)\n",
    "    Circ.p(-beta/4, 1)\n",
    "    Circ.cx(0, 1)\n",
    "    # Second switch\n",
    "#     Circ.ccx(0, 1, 2)\n",
    "    Circ = C2X(Circ, 0,1,2)\n",
    "    Circ.p(-beta/2, 2)\n",
    "    \n",
    "#     Circ.cx(2, 1)\n",
    "#     Circ.cx(2, 1)\n",
    "#     Circ.barrier()\n",
    "    Circ = C2X(Circ, 0,1,2)\n",
    "    \n",
    "    ########################################\n",
    "    \n",
    "    # Uncomment to draw quantum Circuit\n",
    "    display(Circ.draw('mpl'))\n",
    "    \n",
    "    # Transpiling the Circuit into u, cnot\n",
    "    Circ = transpile(Circ, basis_gates=['u3','cx'])\n",
    "    \n",
    "    # Uncomment to draw transpiled Circuit\n",
    "#     display(Circ.draw('mpl'))\n",
    "    \n",
    "    return Circ\n",
    "\n",
    "qc_3b = Circuit_1(q1,a1,beta)"
   ]
  },
  {
   "cell_type": "markdown",
   "metadata": {},
   "source": [
    "<h1>\n",
    "    $f_m$ for m = 2"
   ]
  },
  {
   "cell_type": "code",
   "execution_count": 12,
   "metadata": {},
   "outputs": [
    {
     "data": {
      "image/png": "[encoded data removed]",
      "text/plain": [
       "<Figure size 1631.99x445.48 with 1 Axes>"
      ]
     },
     "metadata": {},
     "output_type": "display_data"
    }
   ],
   "source": [
    "# Importing the qiskit module\n",
    "from qiskit import *\n",
    "\n",
    "q2 =  3 # number of required qubits\n",
    "a2 =  0 # number of ancilla qubit\n",
    "beta = circuit.Parameter('beta') #Parameter for reflection \n",
    "\n",
    "# Defining Quantum Circuit with the given circuits\n",
    "def Circuit_2(q,a,beta):\n",
    "    if a != 0:\n",
    "        # initiating required and ancilla qubits\n",
    "        Q = QuantumRegister(q, 'input') \n",
    "        A = QuantumRegister(a, 'ancilla')  \n",
    "        \n",
    "        # creating circuit with above qubits\n",
    "        Circ = QuantumCircuit(Q,A)\n",
    "    else:\n",
    "        # initiating required qubits\n",
    "        Q = QuantumRegister(q, 'input') \n",
    "        \n",
    "        # creating circuit with above qubits\n",
    "        Circ = QuantumCircuit(Q)\n",
    "    \n",
    "    ##### Create you circuit below #########\n",
    "    \n",
    "    Circ.p(beta/4, [0, 1])\n",
    "    Circ.p(beta/2, 2)\n",
    "    # First switch\n",
    "    Circ.cx(0, 1)\n",
    "    Circ.p(-beta/4, 1)\n",
    "    Circ.cx(0, 1)\n",
    "    # Second switch\n",
    "    Circ = C2X(Circ, 0,1,2)\n",
    "    Circ.p(-beta/2, 2)\n",
    "    # WTF Barrier eliminates weird phase what in the actual fuck qiskit\n",
    "    Circ = C2X(Circ, 0,1,2)\n",
    "    Circ.x([0, 1, 2])\n",
    "    Circ.p(beta/4, [0, 1])\n",
    "    Circ.p(beta/2, 2)\n",
    "    # Third switch\n",
    "    Circ.cx(0, 1)\n",
    "    Circ.p(-beta/4, 1)\n",
    "    Circ.cx(0, 1)\n",
    "    # Fourth switch\n",
    "    Circ = C2X(Circ, 0,1,2)\n",
    "    Circ.p(-beta/2, 2)\n",
    "    # WTF Barrier eliminates weird phase what in the actual fuck qiskit\n",
    "    Circ = C2X(Circ, 0,1,2)\n",
    "    Circ.x([0, 1, 2])\n",
    "    ########################################\n",
    "    \n",
    "    # Uncomment to draw quantum circuit\n",
    "    display(Circ.draw('mpl'))\n",
    "    \n",
    "    # Transpiling the circuit into u, cnot\n",
    "    Circ = transpile(Circ, basis_gates=['u3','cx'])\n",
    "    \n",
    "    # Uncomment to draw transpiled circuit\n",
    "#     display(Circ.draw('mpl'))\n",
    "    \n",
    "    return Circ\n",
    "\n",
    "qc_3c = Circuit_2(q2,a2,beta)"
   ]
  },
  {
   "cell_type": "markdown",
   "metadata": {},
   "source": [
    "<h1>\n",
    "    $f_m$ for m = 3"
   ]
  },
  {
   "cell_type": "code",
   "execution_count": 16,
   "metadata": {},
   "outputs": [
    {
     "data": {
      "image/png": "[encoded data removed]",
      "text/plain": [
       "<Figure size 1646.11x565.88 with 1 Axes>"
      ]
     },
     "metadata": {},
     "output_type": "display_data"
    }
   ],
   "source": [
    "# Importing the qiskit module\n",
    "from qiskit import *\n",
    "\n",
    "q3 = 3  # number of required qubits\n",
    "a3 = 1  # number of ancilla qubit\n",
    "beta = circuit.Parameter('beta') #Parameter for reflection \n",
    "\n",
    "# Defining Quantum Circuit with the given circuits\n",
    "def Circuit_3(q,a,beta):\n",
    "    if a != 0:\n",
    "        # initiating required and ancilla qubits\n",
    "        Q = QuantumRegister(q, 'input') \n",
    "        A = QuantumRegister(a, 'ancilla')  \n",
    "        \n",
    "        # creating circuit with above qubits\n",
    "        Circ = QuantumCircuit(Q,A)\n",
    "    else:\n",
    "        # initiating required qubits\n",
    "        Q = QuantumRegister(q, 'input') \n",
    "        \n",
    "        # creating circuit with above qubits\n",
    "        Circ = QuantumCircuit(Q)\n",
    "    \n",
    "    ##### Create you circuit below #########\n",
    "    \n",
    "    Circ.cx(0, 3)\n",
    "    Circ.cx(1, 3)\n",
    "    Circ.cx(2, 3)\n",
    "    Circ.p(beta, 3)\n",
    "    Circ.cx(2, 3)\n",
    "    Circ.cx(1, 3)\n",
    "    Circ.cx(0, 3)\n",
    "#     Circ.mct([0,1,2],3)\n",
    "    Circ = C3X(Circ, 0,1,2,3)\n",
    "    Circ.p(-beta, 3)\n",
    "    Circ = C3X(Circ, 0,1,2,3)\n",
    "    \n",
    "    ########################################\n",
    "    \n",
    "    # Uncomment to draw quantum circuit\n",
    "    display(Circ.draw('mpl'))\n",
    "    \n",
    "    # Transpiling the circuit into u, cnot\n",
    "    Circ = transpile(Circ, basis_gates=['u3','cx'])\n",
    "    \n",
    "    # Uncomment to draw transpiled circuit\n",
    "#     display(Circ.draw('mpl'))\n",
    "    \n",
    "    return Circ\n",
    "\n",
    "qc_3d = Circuit_3(q3,a3,beta)"
   ]
  },
  {
   "cell_type": "markdown",
   "metadata": {},
   "source": [
    "<h1>\n",
    "    $f_m$ for m = 4"
   ]
  },
  {
   "cell_type": "code",
   "execution_count": 17,
   "metadata": {},
   "outputs": [
    {
     "data": {
      "image/png": "[encoded data removed]",
      "text/plain": [
       "<Figure size 562.509x264.88 with 1 Axes>"
      ]
     },
     "metadata": {},
     "output_type": "display_data"
    }
   ],
   "source": [
    "# Importing the qiskit module\n",
    "from qiskit import *\n",
    "\n",
    "q4 = 3  # number of required qubits\n",
    "a4 =  1 # number of ancilla qubit\n",
    "beta = circuit.Parameter('beta') #Parameter for reflection \n",
    "\n",
    "# Defining Quantum Circuit with the given circuits\n",
    "def Circuit_4(q, a, beta):\n",
    "    if a != 0:\n",
    "        # initiating required and ancilla qubits\n",
    "        Q = QuantumRegister(q, 'input') \n",
    "        A = QuantumRegister(a, 'ancilla')   \n",
    "        \n",
    "        # creating circuit with above qubits\n",
    "        Circ = QuantumCircuit(Q,A)\n",
    "    else:\n",
    "        # initiating required qubits\n",
    "        Q = QuantumRegister(q, 'input') \n",
    "        \n",
    "        # creating circuit with above qubits\n",
    "        Circ = QuantumCircuit(Q)\n",
    "    \n",
    "    ##### Create you circuit below #########\n",
    "    \n",
    "    Circ.cx(0, 3)\n",
    "    Circ.cx(1, 3)\n",
    "    Circ.cx(2, 3)\n",
    "    Circ.p(beta, 3)\n",
    "    Circ.cx(2, 3)\n",
    "    Circ.cx(1, 3)\n",
    "    Circ.cx(0, 3)\n",
    "\n",
    "    ########################################\n",
    "    \n",
    "    # Uncomment to draw quantum circuit\n",
    "    display(Circ.draw('mpl'))\n",
    "    \n",
    "    # Transpiling the circuit into u, cnot\n",
    "    Circ = transpile(Circ, basis_gates=['u3','cx'])\n",
    "    \n",
    "    # Uncomment to draw transpiled circuit\n",
    "#     display(Circ.draw('mpl'))\n",
    "    \n",
    "    return Circ\n",
    "\n",
    "qc_3e = Circuit_4(q4,a4,beta)"
   ]
  },
  {
   "cell_type": "markdown",
   "metadata": {},
   "source": [
    "### Grader"
   ]
  },
  {
   "cell_type": "code",
   "execution_count": 18,
   "metadata": {},
   "outputs": [
    {
     "name": "stdout",
     "output_type": "stream",
     "text": [
      "Checking for circuit 0 ...\n",
      "Checking for circuit 1 ...\n",
      "Checking for circuit 2 ...\n",
      "Checking for circuit 3 ...\n",
      "Checking for circuit 4 ...\n",
      "Grading your answer for ex3. Please wait...\n",
      "\n",
      "Congratulations 🎉! Your answer is correct.\n",
      "Your cost is 937.\n",
      "Feel free to submit your answer.\n",
      "\n"
     ]
    }
   ],
   "source": [
    "# all_circuits = [qc_3a, qc_3b, qc_3c, qc_3d, qc_3e]\n",
    "from qc_grader import grade_ex3\n",
    "all_circuits = [qc_3a, qc_3b, qc_3c, qc_3d, qc_3e]\n",
    "\n",
    "grade_ex3(all_circuits)"
   ]
  },
  {
   "cell_type": "markdown",
   "metadata": {},
   "source": [
    "# Circuit verification and Cost Metric\n",
    "\n",
    "$\\textbf{Costing metric:}$ For the $m^{th}$ circuit, let $G_m$ be the number of 2-qubit gates, $D_m$ the depth,  and $A_m$ the number of ancillas. Your solution quality will be judged on the following cost metric: \n",
    "$$\\text{Cost} = \\sum_{m=0}^4 10G_m + D_m(n+A_m)$$ .\n",
    "The reasoning behind this metric relates to the error rates in quantum circuits. Notice that $D_m(n+A_m)$ is roughly the spacetime volume of the circuit (the collective number of timesteps qubits participating in thecircuit must be kept alive). Also, two-qubit gates are roughly (optimistically) 10 times as likely to fail as idling qubits. Thus, $Cost_n$ is roughly proportional to error rate of all of your circuits combined."
   ]
  },
  {
   "cell_type": "markdown",
   "metadata": {},
   "source": [
    "### Submission for evaluation "
   ]
  },
  {
   "cell_type": "code",
   "execution_count": 19,
   "metadata": {},
   "outputs": [
    {
     "name": "stdout",
     "output_type": "stream",
     "text": [
      "Checking for circuit 0 ...\n",
      "Checking for circuit 1 ...\n",
      "Checking for circuit 2 ...\n",
      "Checking for circuit 3 ...\n",
      "Checking for circuit 4 ...\n",
      "Submitting your answer for ex3. Please wait...\n",
      "Success 🎉! Your answer has been submitted.\n"
     ]
    }
   ],
   "source": [
    "## Uncomment and run the following code to submit\n",
    "from qc_grader import submit_ex3\n",
    "\n",
    "submit_ex3(all_circuits)"
   ]
  },
  {
   "cell_type": "code",
   "execution_count": null,
   "metadata": {},
   "outputs": [],
   "source": []
  }
 ],
 "metadata": {
  "kernelspec": {
   "display_name": "Python 3",
   "language": "python",
   "name": "python3"
  },
  "language_info": {
   "codemirror_mode": {
    "name": "ipython",
    "version": 3
   },
   "file_extension": ".py",
   "mimetype": "text/x-python",
   "name": "python",
   "nbconvert_exporter": "python",
   "pygments_lexer": "ipython3",
   "version": "3.8.6"
  }
 },
 "nbformat": 4,
 "nbformat_minor": 4
}
