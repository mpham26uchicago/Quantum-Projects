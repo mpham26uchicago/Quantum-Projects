{
 "cells": [
  {
   "cell_type": "code",
   "execution_count": 1,
   "id": "72ce2654",
   "metadata": {},
   "outputs": [
    {
     "name": "stderr",
     "output_type": "stream",
     "text": [
      "Duplicate key in file '/Users/minhpham/.matplotlib/matplotlibrc', line 2 ('backend: TkAgg')\n",
      "Duplicate key in file '/Users/minhpham/.matplotlib/matplotlibrc', line 3 ('backend: TkAgg')\n",
      "/Library/Frameworks/Python.framework/Versions/3.8/lib/python3.8/site-packages/qiskit/aqua/operators/operator_globals.py:48: DeprecationWarning: `from_label` is deprecated and will be removed no earlier than 3 months after the release date. Use Pauli(label) instead.\n",
      "  X = make_immutable(PrimitiveOp(Pauli.from_label('X')))\n"
     ]
    }
   ],
   "source": [
    "from frozen_yoghourt import *"
   ]
  },
  {
   "cell_type": "code",
   "execution_count": 2,
   "id": "bb8943b5",
   "metadata": {},
   "outputs": [],
   "source": [
    "## Total Difference function\n",
    "\n",
    "def cx_diff(y_hat, n):\n",
    "    qc = q(n+1)\n",
    "    qc.mct(list(range(n)), n)\n",
    "    y = get(qc, nice = False)\n",
    "    \n",
    "    diff = np.sum(np.abs(np.abs(y_hat) - y))\n",
    "    \n",
    "    return diff"
   ]
  },
  {
   "cell_type": "code",
   "execution_count": 3,
   "id": "39d89495",
   "metadata": {},
   "outputs": [],
   "source": [
    "# Define general loss function\n",
    "\n",
    "loss = lambda y_hat, y: np.mean(np.linalg.norm(np.abs(np.abs(y_hat) - y), axis = 0))/np.sqrt(2)"
   ]
  },
  {
   "cell_type": "code",
   "execution_count": 4,
   "id": "8b62666e",
   "metadata": {},
   "outputs": [],
   "source": [
    "## This function will calculate the cost for all the circuit that is \n",
    "## made up of cx with target as the last qubit, and U gates in between"
   ]
  },
  {
   "cell_type": "code",
   "execution_count": 5,
   "id": "c4c721ed",
   "metadata": {},
   "outputs": [],
   "source": [
    "def general_circ(n, order, angles):\n",
    "    \n",
    "    \n",
    "    \"\"\"\n",
    "    Create a circuit with all the angles and cx in order\n",
    "    \n",
    "    Parameters:\n",
    "    -----------\n",
    "    n: int\n",
    "        The number of control bits in the circuit\n",
    "    order: list\n",
    "        The order of the indices of control bits from left to right\n",
    "    angles: ndarray\n",
    "        Array of euler angles for the U gates\n",
    "        \n",
    "    Returns:\n",
    "    --------\n",
    "    circ: QuantumCircuit\n",
    "        Circuit with all the angles and cx in order\n",
    "        \n",
    "    \"\"\"\n",
    "    \n",
    "    circ = q(n+1)\n",
    "\n",
    "    for i, control in enumerate(order):\n",
    "        circ.u(angles[3*i], angles[3*i+1], angles[3*i+2], n)\n",
    "        circ.cx(control, n)\n",
    "\n",
    "    circ.u(angles[-3], angles[-2], angles[-1], n)\n",
    "    \n",
    "    return circ"
   ]
  },
  {
   "cell_type": "code",
   "execution_count": 6,
   "id": "97932524",
   "metadata": {},
   "outputs": [],
   "source": [
    "def general_cost(angles):\n",
    "    \n",
    "    ### Remember to write the values for n and order here because sp only allows function with 1 parameters\n",
    "    \n",
    "    n = 2\n",
    "    order = [0, 1, 0]\n",
    "    \n",
    "    \"\"\"\n",
    "    \n",
    "    This function will calculate the cost for all the circuit that is made up of cx with target as the last qubit, \n",
    "    and U gates in between\n",
    "    \n",
    "    Parameters:\n",
    "    -----------\n",
    "    n: int\n",
    "        The number of control bits in the circuit\n",
    "    order: list\n",
    "        The order of the indices of control bits from left to right\n",
    "    angles: ndarray\n",
    "        Array of euler angles for the U gates\n",
    "        \n",
    "        \n",
    "    Returns:\n",
    "    --------\n",
    "    cost: float\n",
    "        Average cost of all expected outputs\n",
    "        \n",
    "    \"\"\"\n",
    "    \n",
    "    m = len(order)\n",
    "    \n",
    "    # Initialize Parameter list\n",
    "    U_list = [U(angles[3*i], angles[3*i + 1], angles[3*i+2]) for i in range(m+1)]\n",
    "\n",
    "    cost = 0\n",
    "\n",
    "    # Create the list of inputs as tuples (q0, q1, q2, ..., q2^n)\n",
    "    input_list = product([I, X], repeat = n)\n",
    "\n",
    "    # Create the list of output\n",
    "    output_list = [I]*(2**n)\n",
    "    output_list[-1] = X\n",
    "\n",
    "    for j, inp in enumerate(input_list):\n",
    "\n",
    "        Uh_list = list.copy(U_list)\n",
    "\n",
    "        for k, index in enumerate(order):\n",
    "            Uh_list.insert(2*k+1, inp[index])\n",
    "\n",
    "        Uhi = mat_mul(*reversed(Uh_list))\n",
    "\n",
    "        cost += loss(Uhi, output_list[j])  \n",
    "\n",
    "    cost /= 2**n\n",
    "    \n",
    "    return cost"
   ]
  },
  {
   "cell_type": "markdown",
   "id": "8ce1bc63",
   "metadata": {},
   "source": [
    "### Testing Different Architecture"
   ]
  },
  {
   "cell_type": "code",
   "execution_count": 7,
   "id": "0675cb72",
   "metadata": {},
   "outputs": [
    {
     "data": {
      "text/plain": [
       "('SLSQP', 'trust-constr', 'dogleg', 'trust-ncg', 'trust-exact', 'trust-krylov')"
      ]
     },
     "execution_count": 7,
     "metadata": {},
     "output_type": "execute_result"
    }
   ],
   "source": [
    "# Optimizers List\n",
    "\"Nelder-Mead\" , \"Powell\" , \"CG\" , \"BFGS\" , \"Newton-CG\" , \"L-BFGS-B\" , \"TNC\" , \"COBYLA\" \n",
    "\"SLSQP\" , \"trust-constr\", \"dogleg\" , \"trust-ncg\" , \"trust-exact\" , \"trust-krylov\""
   ]
  },
  {
   "cell_type": "code",
   "execution_count": 16,
   "id": "4a87038a",
   "metadata": {},
   "outputs": [],
   "source": [
    "# Parameters\n",
    "n = 2\n",
    "order = [0, 1, 0]\n",
    "angles = np.random.uniform(0, 2*np.pi, (12,))"
   ]
  },
  {
   "cell_type": "code",
   "execution_count": 17,
   "id": "be025432",
   "metadata": {},
   "outputs": [],
   "source": [
    "# First Optimization Iterations\n",
    "result = sp.optimize.minimize(general_cost, angles, method = \"Nelder-Mead\" )"
   ]
  },
  {
   "cell_type": "code",
   "execution_count": 18,
   "id": "8671ef97",
   "metadata": {},
   "outputs": [],
   "source": [
    "# Further Optimization Iterations\n",
    "\n",
    "'''reps = \n",
    "\n",
    "for _ in range(reps):\n",
    "    result = sp.optimize.minimize(general_cost, result.x, method = \"Nelder-Mead\" )'''"
   ]
  },
  {
   "cell_type": "code",
   "execution_count": 19,
   "id": "78d9048d",
   "metadata": {},
   "outputs": [
    {
     "data": {
      "image/png": "[encoded data removed]",
      "text/plain": [
       "<Figure size 748.797x204.68 with 1 Axes>"
      ]
     },
     "execution_count": 19,
     "metadata": {},
     "output_type": "execute_result"
    }
   ],
   "source": [
    "# Draw Circuit\n",
    "circ = general_circ(n, order, result.x)\n",
    "\n",
    "milk(circ)"
   ]
  },
  {
   "cell_type": "code",
   "execution_count": 20,
   "id": "eb14e5de",
   "metadata": {},
   "outputs": [
    {
     "data": {
      "text/latex": [
       "$\\displaystyle \\left[\\begin{matrix}1.0 & 0.0 & 0.0 & 0.0 & 0.0 & 0.0 & 0.0 & 0.0\\\\0.0 & 1.0 & 0.0 & 0.0 & 0.0 & 0.0 & 0.0 & 0.0\\\\0.0 & 0.0 & 1.0 & 0.0 & 0.0 & 0.0 & 0.0 & 0.0\\\\0.0 & 0.0 & 0.0 & 0.0 & 0.0 & 0.0 & 0.0 & 1.0\\\\0.0 & 0.0 & 0.0 & 0.0 & 1.0 & 0.0 & 0.0 & 0.0\\\\0.0 & 0.0 & 0.0 & 0.0 & 0.0 & 1.0 & 0.0 & 0.0\\\\0.0 & 0.0 & 0.0 & 0.0 & 0.0 & 0.0 & 1.0 & 0.0\\\\0.0 & 0.0 & 0.0 & 1.0 & 0.0 & 0.0 & 0.0 & 0.0\\end{matrix}\\right]$"
      ],
      "text/plain": [
       "Matrix([\n",
       "[1.0, 0.0, 0.0, 0.0, 0.0, 0.0, 0.0, 0.0],\n",
       "[0.0, 1.0, 0.0, 0.0, 0.0, 0.0, 0.0, 0.0],\n",
       "[0.0, 0.0, 1.0, 0.0, 0.0, 0.0, 0.0, 0.0],\n",
       "[0.0, 0.0, 0.0, 0.0, 0.0, 0.0, 0.0, 1.0],\n",
       "[0.0, 0.0, 0.0, 0.0, 1.0, 0.0, 0.0, 0.0],\n",
       "[0.0, 0.0, 0.0, 0.0, 0.0, 1.0, 0.0, 0.0],\n",
       "[0.0, 0.0, 0.0, 0.0, 0.0, 0.0, 1.0, 0.0],\n",
       "[0.0, 0.0, 0.0, 1.0, 0.0, 0.0, 0.0, 0.0]])"
      ]
     },
     "metadata": {},
     "output_type": "display_data"
    }
   ],
   "source": [
    "# View Unitary\n",
    "view(np.abs(get(circ, nice = False)))"
   ]
  },
  {
   "cell_type": "code",
   "execution_count": 21,
   "id": "ee5197d0",
   "metadata": {},
   "outputs": [
    {
     "data": {
      "text/plain": [
       "2.2213807504752896e-15"
      ]
     },
     "execution_count": 21,
     "metadata": {},
     "output_type": "execute_result"
    }
   ],
   "source": [
    "# Get total between different value\n",
    "cx_diff(np.abs(get(circ, nice = False)), n)"
   ]
  }
 ],
 "metadata": {
  "kernelspec": {
   "display_name": "Python 3",
   "language": "python",
   "name": "python3"
  },
  "language_info": {
   "codemirror_mode": {
    "name": "ipython",
    "version": 3
   },
   "file_extension": ".py",
   "mimetype": "text/x-python",
   "name": "python",
   "nbconvert_exporter": "python",
   "pygments_lexer": "ipython3",
   "version": "3.8.3"
  }
 },
 "nbformat": 4,
 "nbformat_minor": 5
}
