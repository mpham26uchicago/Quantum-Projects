{
 "cells": [
  {
   "cell_type": "code",
   "execution_count": 17,
   "id": "3825986d",
   "metadata": {},
   "outputs": [],
   "source": [
    "from frozen_yoghourt import *"
   ]
  },
  {
   "cell_type": "code",
   "execution_count": 11,
   "id": "8fef450c",
   "metadata": {},
   "outputs": [],
   "source": [
    "## Define general loss function (Cost1)\n",
    "\n",
    "loss = lambda y_hat, y: np.mean(np.linalg.norm(np.abs(np.abs(y_hat) - y), axis = 0))/np.sqrt(2)\n",
    "\n",
    "## Total Difference function (Cost2)\n",
    "def cx_diff(y_hat, n):\n",
    "    qc = q(n+1)\n",
    "    qc.mct(list(range(n)), n)\n",
    "    y = get(qc, nice = False)\n",
    "    \n",
    "    diff = np.sum(np.abs(np.abs(y_hat) - y))\n",
    "    \n",
    "    return diff"
   ]
  },
  {
   "cell_type": "code",
   "execution_count": 12,
   "id": "bfe5a5d8",
   "metadata": {},
   "outputs": [],
   "source": [
    "## This function will calculate the cost for all the circuit that is \n",
    "## made up of cx with target as the last qubit, and U gates in between"
   ]
  },
  {
   "cell_type": "code",
   "execution_count": 13,
   "id": "5f4142b8",
   "metadata": {},
   "outputs": [],
   "source": [
    "def general_circ(n, order, angles):\n",
    "    \n",
    "    \n",
    "    \"\"\"\n",
    "    Create a circuit with all the angles and cx in order\n",
    "    \n",
    "    Parameters:\n",
    "    -----------\n",
    "    n: int\n",
    "        The number of control bits in the circuit\n",
    "    order: list\n",
    "        The order of the indices of control bits from left to right\n",
    "    angles: ndarray\n",
    "        Array of euler angles for the U gates\n",
    "        \n",
    "    Returns:\n",
    "    --------\n",
    "    circ: QuantumCircuit\n",
    "        Circuit with all the angles and cx in order\n",
    "        \n",
    "    \"\"\"\n",
    "    \n",
    "    circ = q(n+1)\n",
    "\n",
    "    for i, control in enumerate(order):\n",
    "        circ.u(angles[3*i], angles[3*i+1], angles[3*i+2], n)\n",
    "        circ.cx(control, n)\n",
    "\n",
    "    circ.u(angles[-3], angles[-2], angles[-1], n)\n",
    "    \n",
    "    return circ"
   ]
  },
  {
   "cell_type": "code",
   "execution_count": 14,
   "id": "582e2f43",
   "metadata": {},
   "outputs": [],
   "source": [
    "def general_cost(angles):\n",
    "    \n",
    "    ### Remember to write the values for n and order here because sp only allows function with 1 parameters\n",
    "    \n",
    "    n = 4\n",
    "    order = [3, 0, 1, 2, 1, 2, 0, 3, 0, 1, 2, 1, 0, 3]\n",
    "    \n",
    "    \"\"\"\n",
    "    \n",
    "    This function will calculate the cost for all the circuit that is made up of cx with target as the last qubit, \n",
    "    and U gates in between\n",
    "    \n",
    "    Parameters:\n",
    "    -----------\n",
    "    n: int\n",
    "        The number of control bits in the circuit\n",
    "    order: list\n",
    "        The order of the indices of control bits from left to right\n",
    "    angles: ndarray\n",
    "        Array of euler angles for the U gates\n",
    "        \n",
    "        \n",
    "    Returns:\n",
    "    --------\n",
    "    cost: float\n",
    "        Average cost of all expected outputs\n",
    "        \n",
    "    \"\"\"\n",
    "    \n",
    "    m = len(order)\n",
    "    \n",
    "    # Initialize Parameter list\n",
    "    U_list = [U(angles[3*i], angles[3*i + 1], angles[3*i+2]) for i in range(m+1)]\n",
    "\n",
    "    cost = 0\n",
    "\n",
    "    # Create the list of inputs as tuples (q0, q1, q2, ..., q2^n)\n",
    "    input_list = product([I, X], repeat = n)\n",
    "\n",
    "    # Create the list of output\n",
    "    output_list = [I]*(2**n)\n",
    "    output_list[-1] = X\n",
    "\n",
    "    for j, inp in enumerate(input_list):\n",
    "\n",
    "        Uh_list = list.copy(U_list)\n",
    "\n",
    "        for k, index in enumerate(order):\n",
    "            Uh_list.insert(2*k+1, inp[index])\n",
    "\n",
    "        Uhi = mat_mul(*reversed(Uh_list))\n",
    "\n",
    "        cost += loss(Uhi, output_list[j])  \n",
    "\n",
    "    cost /= 2**n\n",
    "    \n",
    "    return cost"
   ]
  },
  {
   "cell_type": "markdown",
   "id": "dd77a503",
   "metadata": {},
   "source": [
    "### Testing Different Architecture"
   ]
  },
  {
   "cell_type": "code",
   "execution_count": 15,
   "id": "2bdce5d0",
   "metadata": {},
   "outputs": [
    {
     "data": {
      "text/plain": [
       "('SLSQP', 'trust-constr', 'dogleg', 'trust-ncg', 'trust-exact', 'trust-krylov')"
      ]
     },
     "execution_count": 15,
     "metadata": {},
     "output_type": "execute_result"
    }
   ],
   "source": [
    "# Optimizers List\n",
    "\"Nelder-Mead\" , \"Powell\" , \"CG\" , \"BFGS\" , \"Newton-CG\" , \"L-BFGS-B\" , \"TNC\" , \"COBYLA\" \n",
    "\"SLSQP\" , \"trust-constr\", \"dogleg\" , \"trust-ncg\" , \"trust-exact\" , \"trust-krylov\""
   ]
  },
  {
   "cell_type": "code",
   "execution_count": 16,
   "id": "64a54f49",
   "metadata": {},
   "outputs": [],
   "source": [
    "# Parameters\n",
    "n = 4\n",
    "order = [3, 0, 1, 2, 1, 2, 0, 3, 0, 1, 2, 1, 0, 3]\n",
    "# angles = np.random.uniform(0, 2*np.pi, 3*(len(order)+1))\n",
    "\n",
    "angles = low_a"
   ]
  },
  {
   "cell_type": "code",
   "execution_count": null,
   "id": "5f629d35",
   "metadata": {},
   "outputs": [],
   "source": [
    "# First Optimization Iterations\n",
    "result = sp.optimize.minimize(general_cost, angles, method = \"Nelder-Mead\" )"
   ]
  },
  {
   "cell_type": "code",
   "execution_count": null,
   "id": "5d7c3a40",
   "metadata": {},
   "outputs": [],
   "source": [
    "# Further Optimization Iterations\n",
    "\n",
    "reps = 10\n",
    "\n",
    "for _ in range(reps):\n",
    "    \n",
    "    print(_)\n",
    "    result = sp.optimize.minimize(general_cost, result.x, method = \"Nelder-Mead\" )"
   ]
  },
  {
   "cell_type": "code",
   "execution_count": null,
   "id": "a36f6063",
   "metadata": {},
   "outputs": [],
   "source": [
    "print(f'The circuit will have cost of {len(order)*10 + len(order) +1}')"
   ]
  },
  {
   "cell_type": "code",
   "execution_count": null,
   "id": "0dc51ce2",
   "metadata": {},
   "outputs": [],
   "source": [
    "# Draw Circuit\n",
    "\n",
    "circ = general_circ(n, order, result.x)\n",
    "\n",
    "milk(circ)"
   ]
  },
  {
   "cell_type": "code",
   "execution_count": null,
   "id": "e2c681f6",
   "metadata": {},
   "outputs": [],
   "source": [
    "# View Unitary\n",
    "view(np.abs(get(circ, nice = False)))"
   ]
  },
  {
   "cell_type": "code",
   "execution_count": null,
   "id": "35dc5652",
   "metadata": {},
   "outputs": [],
   "source": [
    "# Get total between different value\n",
    "cx_diff(np.abs(get(circ, nice = False)), n)"
   ]
  },
  {
   "cell_type": "code",
   "execution_count": null,
   "id": "eb96d8d3",
   "metadata": {},
   "outputs": [],
   "source": [
    "2.1626495496161597e-13"
   ]
  },
  {
   "cell_type": "code",
   "execution_count": null,
   "id": "990c2b66",
   "metadata": {},
   "outputs": [],
   "source": [
    "result.x"
   ]
  },
  {
   "cell_type": "code",
   "execution_count": null,
   "id": "6a0b3b0a",
   "metadata": {},
   "outputs": [],
   "source": [
    "def lrp(n, order, no_val, cost2 = False):\n",
    "    cost1_list = []\n",
    "    cost2_list = []\n",
    "    \n",
    "    if cost2:\n",
    "\n",
    "        for i in range(50_000, 50_000+no_val):\n",
    "            np.random.seed(i)\n",
    "            angles = np.random.uniform(0, 2*np.pi, 3*(len(order)+1))\n",
    "\n",
    "            # Cost 1\n",
    "            cost1_list.append(general_cost(angles))\n",
    "\n",
    "            # Cost 2\n",
    "            circ = general_circ(n, order, angles)\n",
    "            cost2_list.append(cx_diff(np.abs(get(circ, nice = False)), n))\n",
    "            \n",
    "        index1 = np.where(cost1_list == min(cost1_list))[0][0]\n",
    "\n",
    "        print(f\"The lowest cost 1 is {cost1_list[index1]}\")\n",
    "\n",
    "        np.random.seed(index1)\n",
    "        low_a = np.random.uniform(0, 2*np.pi, 3*(len(order)+1))\n",
    "            \n",
    "        index2 = np.where(cost2_list == min(cost2_list))[0][0]\n",
    "\n",
    "        print(f\"The lowest cost 2 is {cost2_list[index2]}\")\n",
    "\n",
    "        np.random.seed(index2)\n",
    "        low_b = np.random.uniform(0, 2*np.pi, 3*(len(order)+1))\n",
    "        \n",
    "        return low_a, low_b\n",
    "    \n",
    "    else:\n",
    "        \n",
    "        for i in range(50_000, 50_000+no_val):\n",
    "            np.random.seed(i)\n",
    "            angles = np.random.uniform(0, 2*np.pi, 3*(len(order)+1))\n",
    "\n",
    "            # Cost 1\n",
    "            cost1_list.append(general_cost(angles))\n",
    "        \n",
    "\n",
    "    index1 = np.where(cost1_list == min(cost1_list))[0][0]\n",
    "\n",
    "    print(f\"The lowest cost 1 is {cost_list[index1]}\")\n",
    "\n",
    "    np.random.seed(index1)\n",
    "    low_a = np.random.uniform(0, 2*np.pi, 3*(len(order)+1))\n",
    "    \n",
    "    return low_a"
   ]
  },
  {
   "cell_type": "code",
   "execution_count": null,
   "id": "fc7a4da7",
   "metadata": {},
   "outputs": [],
   "source": [
    "lrp(n, order, 1000, cost2 = True)"
   ]
  },
  {
   "cell_type": "code",
   "execution_count": 49,
   "id": "8ba524fe",
   "metadata": {},
   "outputs": [
    {
     "name": "stdout",
     "output_type": "stream",
     "text": [
      "The lowest cost 1 is 0.37960749612140715\n",
      "The lowest cost 2 is 22.061866221948968\n"
     ]
    }
   ],
   "source": [
    "no_val = 500\n",
    "\n",
    "cost1_list = []\n",
    "cost2_list = []\n",
    "\n",
    "for i in range(0, no_val):\n",
    "    np.random.seed(i)\n",
    "    angles = np.random.uniform(0, 2*np.pi, 3*(len(order)+1))\n",
    "\n",
    "    # Cost 1\n",
    "    cost1_list.append(general_cost(angles))\n",
    "\n",
    "    # Cost 2\n",
    "    circ = general_circ(n, order, angles)\n",
    "    cost2_list.append(cx_diff(np.abs(get(circ, nice = False)), n))\n",
    "\n",
    "index1 = np.where(cost1_list == min(cost1_list))[0][0]\n",
    "\n",
    "print(f\"The lowest cost 1 is {cost1_list[index1]}\")\n",
    "\n",
    "np.random.seed(index1)\n",
    "low_a = np.random.uniform(0, 2*np.pi, 3*(len(order)+1))\n",
    "\n",
    "index2 = np.where(cost2_list == min(cost2_list))[0][0]\n",
    "\n",
    "print(f\"The lowest cost 2 is {cost2_list[index2]}\")\n",
    "\n",
    "np.random.seed(index2)\n",
    "low_b = np.random.uniform(0, 2*np.pi, 3*(len(order)+1))\n",
    "\n"
   ]
  },
  {
   "cell_type": "code",
   "execution_count": 50,
   "id": "b8dbafd7",
   "metadata": {},
   "outputs": [
    {
     "data": {
      "text/plain": [
       "[<matplotlib.lines.Line2D at 0x7fe93b80d5b0>]"
      ]
     },
     "execution_count": 50,
     "metadata": {},
     "output_type": "execute_result"
    },
    {
     "data": {
      "image/png": "[encoded data removed]",
      "text/plain": [
       "<Figure size 432x288 with 1 Axes>"
      ]
     },
     "metadata": {
      "needs_background": "light"
     },
     "output_type": "display_data"
    }
   ],
   "source": [
    "%matplotlib inline\n",
    "\n",
    "plt.plot(sorted(cost1_list), sorted(cost2_list), 'bo')"
   ]
  },
  {
   "cell_type": "code",
   "execution_count": 52,
   "id": "dbbc3481",
   "metadata": {},
   "outputs": [
    {
     "data": {
      "text/plain": [
       "(array([ 3.,  3.,  4., 11., 11., 19., 32., 37., 37., 55., 58., 47., 59.,\n",
       "        47., 28., 23., 15.,  6.,  3.,  2.]),\n",
       " array([0.3796075 , 0.39442784, 0.40924818, 0.42406853, 0.43888887,\n",
       "        0.45370921, 0.46852956, 0.4833499 , 0.49817025, 0.51299059,\n",
       "        0.52781093, 0.54263128, 0.55745162, 0.57227196, 0.58709231,\n",
       "        0.60191265, 0.616733  , 0.63155334, 0.64637368, 0.66119403,\n",
       "        0.67601437]),\n",
       " <BarContainer object of 20 artists>)"
      ]
     },
     "execution_count": 52,
     "metadata": {},
     "output_type": "execute_result"
    },
    {
     "data": {
      "image/png": "[encoded data removed]",
      "text/plain": [
       "<Figure size 432x288 with 1 Axes>"
      ]
     },
     "metadata": {
      "needs_background": "light"
     },
     "output_type": "display_data"
    }
   ],
   "source": [
    "# Distribution of cost 1\n",
    "\n",
    "plt.hist(cost1_list, bins = 20)"
   ]
  },
  {
   "cell_type": "code",
   "execution_count": 55,
   "id": "f7e4be62",
   "metadata": {},
   "outputs": [
    {
     "data": {
      "text/plain": [
       "(array([ 3.,  4.,  5., 11., 14., 27., 31., 36., 44., 49., 52., 55., 52.,\n",
       "        46., 24., 22., 14.,  7.,  2.,  2.]),\n",
       " array([22.06186622, 23.03981229, 24.01775836, 24.99570443, 25.9736505 ,\n",
       "        26.95159657, 27.92954265, 28.90748872, 29.88543479, 30.86338086,\n",
       "        31.84132693, 32.819273  , 33.79721907, 34.77516514, 35.75311121,\n",
       "        36.73105728, 37.70900335, 38.68694942, 39.66489549, 40.64284156,\n",
       "        41.62078763]),\n",
       " <BarContainer object of 20 artists>)"
      ]
     },
     "execution_count": 55,
     "metadata": {},
     "output_type": "execute_result"
    },
    {
     "data": {
      "image/png": "[encoded data removed]",
      "text/plain": [
       "<Figure size 432x288 with 1 Axes>"
      ]
     },
     "metadata": {
      "needs_background": "light"
     },
     "output_type": "display_data"
    }
   ],
   "source": [
    "# Distribution of cost 2\n",
    "\n",
    "plt.hist(cost2_list, bins = 20)"
   ]
  },
  {
   "cell_type": "code",
   "execution_count": null,
   "id": "0732933c",
   "metadata": {},
   "outputs": [],
   "source": []
  }
 ],
 "metadata": {
  "kernelspec": {
   "display_name": "Python 3",
   "language": "python",
   "name": "python3"
  },
  "language_info": {
   "codemirror_mode": {
    "name": "ipython",
    "version": 3
   },
   "file_extension": ".py",
   "mimetype": "text/x-python",
   "name": "python",
   "nbconvert_exporter": "python",
   "pygments_lexer": "ipython3",
   "version": "3.8.3"
  }
 },
 "nbformat": 4,
 "nbformat_minor": 5
}
