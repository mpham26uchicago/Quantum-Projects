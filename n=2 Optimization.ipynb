{
 "cells": [
  {
   "cell_type": "code",
   "execution_count": null,
   "id": "19adf63d",
   "metadata": {},
   "outputs": [],
   "source": [
    "from frozen_yoghourt import *"
   ]
  },
  {
   "cell_type": "code",
   "execution_count": null,
   "id": "40ef0ef5",
   "metadata": {},
   "outputs": [],
   "source": [
    "# Define general loss function\n",
    "\n",
    "loss = lambda y_hat, y: np.mean(np.linalg.norm(np.abs(np.abs(y_hat) - y), axis = 0))/np.sqrt(2)"
   ]
  },
  {
   "cell_type": "code",
   "execution_count": null,
   "id": "25af8c36",
   "metadata": {},
   "outputs": [],
   "source": [
    "def cost_func(angles):\n",
    "    \n",
    "    # Unpack angles\n",
    "    \n",
    "    t0, p0, l0, t1, p1, l1, t2, p2, l2, t3, p3, l3 = angles\n",
    "\n",
    "    # Initialize Unitary Matrices\n",
    "\n",
    "    U0 = U(t0, p0, l0)\n",
    "    U1 = U(t1, p1, l1)\n",
    "    U2 = U(t2, p2, l2)\n",
    "    U3 = U(t3, p3, l3)\n",
    "\n",
    "    # Calculate the predicted value for each input (Uh: U hat)\n",
    "\n",
    "    ## |00>\n",
    "    Uh0 = U3@U2@U1@U0\n",
    "\n",
    "    ## |01>\n",
    "    Uh1 = U3@U2@(X)@U1@U0\n",
    "\n",
    "    ## |10>\n",
    "    Uh2 = U3@(X)@U2@U1@(X)@U0\n",
    "\n",
    "    ## |11>\n",
    "    Uh3 = U3@(X)@U2@(X)@U1@(X)@U0\n",
    "\n",
    "    # Calculate the loss function for each input\n",
    "\n",
    "    ## |00>\n",
    "    L0 = loss(Uh0, I)\n",
    "\n",
    "    ## |01>\n",
    "    L1 = loss(Uh1, I)\n",
    "\n",
    "    ## |10>\n",
    "    L2 = loss(Uh2, I)\n",
    "\n",
    "    ## |11>\n",
    "    L3 = loss(Uh3, X)\n",
    "\n",
    "    # Calculate cost\n",
    "    cost = (L0 + L1 + L2 + L3)/4\n",
    "    \n",
    "    return cost"
   ]
  },
  {
   "cell_type": "code",
   "execution_count": null,
   "id": "ccd8eb89",
   "metadata": {},
   "outputs": [],
   "source": [
    "import scipy as sp"
   ]
  },
  {
   "cell_type": "code",
   "execution_count": null,
   "id": "dd07c2b6",
   "metadata": {},
   "outputs": [],
   "source": [
    "x0 = np.random.uniform(low = 0, high = 2*np.pi, size = (12,))"
   ]
  },
  {
   "cell_type": "code",
   "execution_count": null,
   "id": "880f2cfb",
   "metadata": {},
   "outputs": [],
   "source": [
    "# Optimizer List\n",
    "\n",
    "\"Nelder-Mead\" \n",
    "\"Powell\" \n",
    "\"CG\" \n",
    "\"BFGS\" \n",
    "\"Newton-CG\" \n",
    "\"L-BFGS-B\" \n",
    "\"TNC\" \n",
    "\"COBYLA\" \n",
    "\"SLSQP\" \n",
    "\"trust-constr\"\n",
    "\"dogleg\" \n",
    "\"trust-ncg\" \n",
    "\"trust-exact\" \n",
    "\"trust-krylov\" "
   ]
  },
  {
   "cell_type": "code",
   "execution_count": null,
   "id": "cf7d0c29",
   "metadata": {
    "scrolled": true
   },
   "outputs": [],
   "source": [
    "# Optimize Parameters\n",
    "\n",
    "sp.optimize.minimize(cost_func, x0, method = \"Powell\")"
   ]
  },
  {
   "cell_type": "code",
   "execution_count": null,
   "id": "17159c17",
   "metadata": {},
   "outputs": [],
   "source": [
    "# Unpacking the trained parameters\n",
    "\n",
    "t0, p0, l0, t1, p1, l1, t2, p2, l2, t3, p3, l3 = np.array([5.49634448, 3.19525247, 1.34392147, 1.95477951, 3.84669971,\n",
    "       4.24407383, 3.81230841, 3.97366712, 4.77109713, 1.60727276,\n",
    "       0.21736352, 3.92632534])\n",
    "\n",
    "circ = q(3)\n",
    "circ.u(t0, p0, l0, 2)\n",
    "circ.cx(0, 2)\n",
    "circ.u(t1, p1, l1, 2)\n",
    "circ.cx(1, 2)\n",
    "circ.u(t2, p2, l2, 2)\n",
    "circ.cx(0, 2)\n",
    "circ.u(t3, p3, l3, 2)\n",
    "\n",
    "milk(circ)"
   ]
  },
  {
   "cell_type": "code",
   "execution_count": null,
   "id": "59029d3e",
   "metadata": {},
   "outputs": [],
   "source": [
    "view(np.abs(get(circ, nice = False)))"
   ]
  }
 ],
 "metadata": {
  "kernelspec": {
   "display_name": "Python 3",
   "language": "python",
   "name": "python3"
  },
  "language_info": {
   "codemirror_mode": {
    "name": "ipython",
    "version": 3
   },
   "file_extension": ".py",
   "mimetype": "text/x-python",
   "name": "python",
   "nbconvert_exporter": "python",
   "pygments_lexer": "ipython3",
   "version": "3.8.3"
  }
 },
 "nbformat": 4,
 "nbformat_minor": 5
}
