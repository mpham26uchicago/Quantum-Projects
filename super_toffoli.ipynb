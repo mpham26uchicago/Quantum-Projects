{
 "cells": [
  {
   "cell_type": "markdown",
   "metadata": {},
   "source": [
    "## Tables of Content\n",
    "\n",
    "#### Linear Algebra Tools"
   ]
  },
  {
   "cell_type": "markdown",
   "metadata": {},
   "source": [
    "1. Operator Matrices\n",
    "    - Pauli: I, X, Y, Z\n",
    "    - Hadamard: H\n",
    "    - Phase: P\n",
    "    - Sqrt(X): SX\n",
    "    - Sqrt(Z): S\n",
    "    - Sqrt(H): SH\n",
    "    - 4rt (Z): T\n",
    "    - X root: Xrt(s)\n",
    "    - H root: Hrt(s)\n",
    "    - Rotation Matrices: Rx($\\theta$), Ry($\\theta$), Rz($\\theta$)\n",
    "    - U3 Matrix: U3($\\theta, \\phi, \\lambda$)\n",
    "    - Controlled-Not: CX\n",
    "    \n",
    "</br>\n",
    "\n",
    "2. Common Statevectors\n",
    "    - $|0\\rangle$: zero\n",
    "    - $|1\\rangle$: one\n",
    "    - $|+\\rangle$: plus\n",
    "    - $|-\\rangle$: minus\n",
    "    - $| \\uparrow \\rangle$: up\n",
    "    - $| \\downarrow \\rangle$: down\n",
    "    - Bell States: B00, B01, B10, B11\n",
    "  \n",
    "</br>\n",
    "\n",
    "3. Lambda Methods\n",
    "    - ndarray to list: to_list(array)\n",
    "    - tensor: *****initial_state\n",
    "    - matmul: *****initial_state\n",
    "    \n",
    "</br>\n",
    "    \n",
    "4. Full Methods\n",
    "    - Calculate Hermitian Conjugate: dagger(mat)\n",
    "    - Build CU matrix: cu_matrix(no_qubits, control, target, U, little_edian)\n",
    "    - Find RX, RY for arbitrary U3: angles_from_state_vectors(output_statevector)\n",
    "    \n",
    "</br>\n",
    "\n",
    "5. Visualizations\n",
    "    - view(mat, rounding = 10)\n"
   ]
  },
  {
   "cell_type": "markdown",
   "metadata": {},
   "source": [
    "#### Qiskit Tools"
   ]
  },
  {
   "cell_type": "markdown",
   "metadata": {},
   "source": [
    "1. Linear Algebra\n",
    "    - Short-hand QC: q(*****regs, name=None, global_phase=0)\n",
    "    - Multi-controlled Unitary: control_unitary(circ, unitary, *****controls, target)\n",
    "    - Control Phase: control_phase(circ, angle, control_bit, target_bit, recip=True, pi_on=True)\n",
    "\n",
    "</br>\n",
    "\n",
    "2. Visualizations\n",
    "    - Draw Circuit: milk(circ)\n",
    "    - Draw Transpiled Circuit: dtp(circ, print_details = True, visual = True, return_values = False)\n",
    "    - Get Unitary / Statevector Function: get(circ, types = 'unitary', nice = True)\n",
    "    - Displaying Histogram / Bloch / Counts: sim(circ, visual = 'hist')\n",
    "    \n",
    "</br>\n",
    "\n",
    "3. Toffoli Optimizaton Specific\n",
    "    - Unitary Checker: unitary_check(test_unitary)\n",
    "    - Multi-Hadamard Composition: h_relief(n, no_h)"
   ]
  },
  {
   "cell_type": "markdown",
   "metadata": {},
   "source": [
    "### Import"
   ]
  },
  {
   "cell_type": "code",
   "execution_count": 1,
   "metadata": {},
   "outputs": [
    {
     "name": "stderr",
     "output_type": "stream",
     "text": [
      "Duplicate key in file '/Users/minhpham/.matplotlib/matplotlibrc', line 2 ('backend: TkAgg')\n",
      "Duplicate key in file '/Users/minhpham/.matplotlib/matplotlibrc', line 3 ('backend: TkAgg')\n"
     ]
    }
   ],
   "source": [
    "import numpy as np\n",
    "import sympy\n",
    "from sympy import *\n",
    "from sympy.solvers.solveset import linsolve\n",
    "\n",
    "import matplotlib\n",
    "import matplotlib.pyplot as plt \n",
    "matplotlib.use('Agg')\n",
    "\n",
    "from sympy import Matrix, init_printing\n",
    "\n",
    "import qiskit\n",
    "from qiskit import *\n",
    "from qiskit import QuantumCircuit as q\n",
    "from qiskit.aqua.circuits import *\n",
    "\n",
    "# Representing Data\n",
    "from qiskit.providers.aer import QasmSimulator, StatevectorSimulator, UnitarySimulator\n",
    "from qiskit.tools.visualization import plot_histogram, plot_state_city, plot_bloch_multivector\n",
    "\n",
    "# Monitor Job on Real Machine\n",
    "from qiskit.tools.monitor import job_monitor\n",
    "\n",
    "from functools import reduce # perform sucessive tensor product\n",
    "\n",
    "# Calculating cost\n",
    "from sklearn.metrics import mean_squared_error\n",
    "\n",
    "# Generating random unitary matrix\n",
    "from scipy.stats import unitary_group\n",
    "\n",
    "# Measure run time\n",
    "import time\n",
    "\n",
    "# Almost Equal\n",
    "from numpy.testing import assert_almost_equal as aae"
   ]
  },
  {
   "cell_type": "markdown",
   "metadata": {},
   "source": [
    "### Linear Algebra Tools"
   ]
  },
  {
   "cell_type": "code",
   "execution_count": 2,
   "metadata": {
    "code_folding": []
   },
   "outputs": [],
   "source": [
    "# Matrices\n",
    "I = np.array([[1, 0], [0, 1]])\n",
    "X = np.array([[0, 1], [1, 0]])\n",
    "Y = np.array([[0, -1j], [1j, 0]])\n",
    "Z = np.array([[1, 0], [0, -1]])\n",
    "H = 1/np.sqrt(2)*np.array([[1, 1], [1, -1]])\n",
    "P = lambda theta: np.array([[1, 0], [0, np.exp(1j*theta)]])\n",
    "\n",
    "# sqrt(X)\n",
    "SX = 1/2 * np.array([[1+1j, 1-1j], [1-1j, 1+1j]])\n",
    "\n",
    "# sqrt(Z)\n",
    "S = np.array([[1, 0], [0, 1j]])\n",
    "\n",
    "# sqrt(H)\n",
    "SH = (1j/4-1/4)*np.array([[np.sqrt(2) + 2j, np.sqrt(2)], [np.sqrt(2), -np.sqrt(2)+2j]])\n",
    "\n",
    "# 4th root of Z\n",
    "T = np.array([[1, 0], [0, 1/np.sqrt(2) + 1/np.sqrt(2)*1j]])\n",
    "\n",
    "# X power\n",
    "Xp = lambda t: 1/2 * np.array([[1, 1], [1, 1]]) + np.exp(1j*np.pi*t)/(2) * np.array([[1, -1], [-1, 1]])\n",
    "\n",
    "# H power\n",
    "Hp = lambda t: np.exp(-1j*np.pi*t/2) * np.array([[np.cos(np.pi*t/2) + 1j/np.sqrt(2)* np.sin(np.pi*t/2), 1j/np.sqrt(2) * np.sin(np.pi*t/2)], \n",
    "                                                   [1j/np.sqrt(2) * np.sin(np.pi*t/2), np.cos(np.pi*t/2)-1j/np.sqrt(2)* np.sin(np.pi*t/2)]])\n",
    "\n",
    "CX = np.array([[1, 0, 0, 0], [0, 0, 0, 1], [0, 0, 1, 0], [0, 1, 0, 0]])\n",
    "\n",
    "# Rn Matrix Function\n",
    "Rx = lambda theta: np.array([[np.cos(theta/2), -1j*np.sin(theta/2)], [-1j*np.sin(theta/2), np.cos(theta/2)]])\n",
    "Ry = lambda theta: np.array([[np.cos(theta/2), -np.sin(theta/2)], [np.sin(theta/2), np.cos(theta/2)]])\n",
    "Rz = lambda theta: np.array([[np.exp(-1j*theta/2), 0], [0, np.exp(1j*theta/2)]])\n",
    "\n",
    "# U3 Matrix\n",
    "U3 = lambda theta, phi, lam: np.array([[np.cos(theta/2), -np.exp(1j*lam)*np.sin(theta/2)], \n",
    "                                       [np.exp(1j*phi)*np.sin(theta/2), np.exp(1j*lam + 1j*phi)*np.cos(theta/2)]])\n",
    "\n",
    "# Eigenvectors of Pauli Matrices\n",
    "zero = np.array([[1], [0]]) # Z plus basis state\n",
    "one = np.array([[0], [1]]) # Z plus basis state\n",
    "\n",
    "plus = np.array([[1], [1]])/np.sqrt(2) # X plus basis state\n",
    "minus = np.array([[1], [-1]])/np.sqrt(2) # X minus basis state\n",
    "\n",
    "up = np.array([[1], [1j]])/np.sqrt(2) # Y plus basis state\n",
    "down = np.array([[1], [-1j]])/np.sqrt(2) # Y plus basis state\n",
    "\n",
    "# Bell States\n",
    "B00 = np.array([[1], [0], [0], [1]])/np.sqrt(2) # Bell of 00\n",
    "B01 = np.array([[1], [0], [0], [-1]])/np.sqrt(2) # Bell of 01\n",
    "B10 = np.array([[0], [1], [1], [0]])/np.sqrt(2) # Bell of 10\n",
    "B11 = np.array([[0], [-1], [1], [0]])/np.sqrt(2) # Bell of 11\n",
    "\n",
    "# ndarray to list\n",
    "to_list = lambda array: list(np.squeeze(array))\n",
    "\n",
    "# Tensor Product of 2+ matrices/ vectors\n",
    "tensor = lambda *initial_state: reduce(lambda x, y: np.kron(x, y), initial_state)\n",
    "\n",
    "# Matrix Multiplicaton of 2+ matrices / vectors\n",
    "mat_mul = lambda *initial_state: reduce(lambda x, y: np.dot(x, y), initial_state)"
   ]
  },
  {
   "cell_type": "markdown",
   "metadata": {},
   "source": [
    "###### Calculate Hermitian Conjugate"
   ]
  },
  {
   "cell_type": "code",
   "execution_count": 3,
   "metadata": {
    "code_folding": [
     0
    ]
   },
   "outputs": [],
   "source": [
    "def dagger(mat):\n",
    "    \n",
    "    # Calculate Hermitian conjugate\n",
    "    mat_dagger = np.conj(mat.T)\n",
    "    \n",
    "    '''# Assert Hermitian identity\n",
    "    aae(np.dot(mat_dagger, mat), np.identity(mat.shape[0]))'''\n",
    "    \n",
    "    return mat_dagger"
   ]
  },
  {
   "cell_type": "markdown",
   "metadata": {},
   "source": [
    "###### CU Matrix"
   ]
  },
  {
   "cell_type": "code",
   "execution_count": 4,
   "metadata": {
    "code_folding": [
     0
    ]
   },
   "outputs": [],
   "source": [
    "def cu_matrix(no_qubits, control, target, U, little_edian = True):\n",
    "    \n",
    "    \"\"\"\n",
    "    Manually build the unitary matrix for non-adjacent CX gates\n",
    "    \n",
    "    Parameters:\n",
    "    -----------\n",
    "    no_qubits: int\n",
    "        Number of qubits in the circuit\n",
    "    control: int\n",
    "        Index of the control qubit (1st qubit is index 0)\n",
    "    target: int\n",
    "        Index of the target qubit (1st qubit is index 0)\n",
    "    U: ndarraych\n",
    "        Target unitary matrix\n",
    "    edian: bool (True: qiskit convention)\n",
    "        Qubits order convention\n",
    "        \n",
    "    Returns:\n",
    "    --------\n",
    "    cx_out:\n",
    "        Unitary matrix for CU gate\n",
    "    \"\"\"\n",
    "    \n",
    "    left = [I]*no_qubits\n",
    "    right = [I]*no_qubits\n",
    "    \n",
    "    left[control] = np.dot(zero, zero.T)\n",
    "    right[control] = np.dot(one, one.T)\n",
    "\n",
    "    right[target] = U\n",
    "\n",
    "    if little_edian:\n",
    "        cx_out = tensor(*reversed(left)) + tensor(*reversed(right))\n",
    "    else:\n",
    "        cx_out = tensor(*left) + tensor(*right)\n",
    "    \n",
    "    # This returns a unitary in qiskit 'little eddian', to switch back, simply switch the target for control\n",
    "          \n",
    "    return cx_out"
   ]
  },
  {
   "cell_type": "markdown",
   "metadata": {},
   "source": [
    "###### Angles from Statevector"
   ]
  },
  {
   "cell_type": "code",
   "execution_count": 5,
   "metadata": {
    "code_folding": [
     0
    ]
   },
   "outputs": [],
   "source": [
    "def angles_from_statevectors(output_statevector):\n",
    "    \n",
    "    \"\"\"\n",
    "    Calculate correct x, y rotation angles from an arbitrary output statevector\n",
    "    \n",
    "    Paramters:\n",
    "    ----------\n",
    "    output_statevector: ndarray\n",
    "        Desired output state\n",
    "        \n",
    "    Returns:\n",
    "    --------\n",
    "    phi: float\n",
    "        Angle to rotate about the y-axis [0, 2pi)\n",
    "    theta: float\n",
    "        Angle to rotate about the x-axis [0, 2pi)\n",
    "    \n",
    "    \"\"\"\n",
    "    \n",
    "    # Extract the components\n",
    "    x, z = output_statevector.real\n",
    "    y, w = output_statevector.imag\n",
    "    \n",
    "    # Calculate the correct angles\n",
    "    phi = 2*np.arctan2(z,x)[0]\n",
    "    theta = 2*np.arctan2(y,z)[0]\n",
    "    \n",
    "    print(f'phi: {phi}')\n",
    "    print(f'theta: {theta}')\n",
    "    \n",
    "    return phi, theta"
   ]
  },
  {
   "cell_type": "markdown",
   "metadata": {},
   "source": [
    "###### View Matrix"
   ]
  },
  {
   "cell_type": "code",
   "execution_count": 6,
   "metadata": {
    "code_folding": [
     0
    ]
   },
   "outputs": [],
   "source": [
    "def view(mat, rounding = 10):\n",
    "    display(Matrix(np.round(mat, rounding)))"
   ]
  },
  {
   "cell_type": "markdown",
   "metadata": {},
   "source": [
    "### Qiskit Tools"
   ]
  },
  {
   "cell_type": "markdown",
   "metadata": {},
   "source": [
    "###### Controlled Unitary"
   ]
  },
  {
   "cell_type": "code",
   "execution_count": 7,
   "metadata": {
    "code_folding": [
     0
    ]
   },
   "outputs": [],
   "source": [
    "def control_unitary(circ, unitary, controls, target):\n",
    "    \n",
    "    \"\"\"\n",
    "    Composed a multi-controlled single unitary target gate\n",
    "    \n",
    "    Parameters:\n",
    "    -----------\n",
    "    circ: QuantumCircuit\n",
    "        Qiskit circuit of appropriate size, no less qubit than the size of the controlled gate\n",
    "    unitary: ndarray of (2, 2)\n",
    "        Unitary operator for the target qubit\n",
    "    controls: list\n",
    "        Indices of controlled qubit on the original circuit\n",
    "    target: int\n",
    "        Index of target bit\n",
    "    \n",
    "    \n",
    "    Returns:\n",
    "    --------\n",
    "    new_circ: QuantumCircuit\n",
    "        Composed circuit with unitary target\n",
    "    \"\"\"\n",
    "\n",
    "    # Get info about circuit parameters\n",
    "    \n",
    "    no_controls = len(controls)\n",
    "    unitary_size = np.log2(len(unitary))\n",
    "\n",
    "\n",
    "    # Build unitary circuit\n",
    "\n",
    "    qc = QuantumCircuit(unitary_size)\n",
    "    qc.unitary(unitary, range(int(unitary_size)))\n",
    "    qc = qc.control(no_controls)\n",
    "\n",
    "    # Composed the control part in the circuit\n",
    "\n",
    "    new_circ = circ.compose(qc, (*controls, target))\n",
    "    \n",
    "    return new_circ"
   ]
  },
  {
   "cell_type": "markdown",
   "metadata": {},
   "source": [
    "##### Controlled Phase"
   ]
  },
  {
   "cell_type": "code",
   "execution_count": 8,
   "metadata": {
    "code_folding": [
     0
    ]
   },
   "outputs": [],
   "source": [
    "def control_phase(circ, angle, control_bit, target_bit, recip = True, pi_on = True):\n",
    "    \n",
    "    \"\"\"\n",
    "    Add a controlled-phase gate\n",
    "    \n",
    "    Parameters:\n",
    "    -----------\n",
    "    circ: QuantumCircuit\n",
    "        Inputted circuit\n",
    "        \n",
    "    angle: float\n",
    "        Phase Angle\n",
    "    \n",
    "    control_bit: int\n",
    "        Index of control bit\n",
    "    \n",
    "    target_bit: int\n",
    "        Index of target bit\n",
    "        \n",
    "    recip: bool (True)\n",
    "        Take the reciprocal of the angle\n",
    "        \n",
    "    pi_on: bool (True)\n",
    "        Multiply pi to the angle\n",
    "        \n",
    "    Returns:\n",
    "    --------\n",
    "    circ: QuantumCircuit\n",
    "        Circuit with built-in CP\n",
    "    \n",
    "    \"\"\"\n",
    "    \n",
    "    if recip:\n",
    "        angle = 1/angle\n",
    "    if pi_on:\n",
    "        angle *=np.pi\n",
    "        \n",
    "    \n",
    "    circ.cp(angle, control_bit, target_bit)\n",
    "    \n",
    "    return circ"
   ]
  },
  {
   "cell_type": "markdown",
   "metadata": {},
   "source": [
    "###### Draw Circuit"
   ]
  },
  {
   "cell_type": "code",
   "execution_count": 9,
   "metadata": {
    "code_folding": [
     0
    ]
   },
   "outputs": [],
   "source": [
    "def milk(circ):\n",
    "    return circ.draw('mpl')"
   ]
  },
  {
   "cell_type": "markdown",
   "metadata": {},
   "source": [
    "###### Draw Transpiled Circuit"
   ]
  },
  {
   "cell_type": "code",
   "execution_count": 10,
   "metadata": {
    "code_folding": [
     0
    ]
   },
   "outputs": [],
   "source": [
    "def dtp(circ, print_details = True, nice = True, return_values = False):\n",
    "    \n",
    "    \"\"\"\n",
    "    Draw and/or return information about the transpiled circuit\n",
    "    \n",
    "    Parameters:\n",
    "    -----------\n",
    "    circ: QuantumCircuit\n",
    "        QuantumCircuit to br transpiled\n",
    "    print_details: bool (True)\n",
    "        Print the number of u3 and cx gates used\n",
    "    nice: bool (True)\n",
    "        Show the transpiled circuit\n",
    "    return_values: bool (True)\n",
    "        Return the number of u3 and cx gates used\n",
    "        \n",
    "    Returns:\n",
    "    --------\n",
    "    no_cx: int\n",
    "        Number of cx gates used\n",
    "    no_u3: int\n",
    "        Number of u3 gates used\n",
    "    \n",
    "    \"\"\"\n",
    "    \n",
    "    # Transpile Circuit\n",
    "    circ = transpile(circ, basis_gates= ['u3', 'cx'], optimization_level=3)\n",
    "\n",
    "    # Count operations\n",
    "    gates = circ.count_ops()\n",
    "\n",
    "    # Compute cost\n",
    "    try:\n",
    "        no_u3 = gates['u3']\n",
    "    except:\n",
    "        no_u3 = 0\n",
    "        \n",
    "    try:\n",
    "        no_cx = gates['cx']\n",
    "    except:\n",
    "        no_cx = 0\n",
    "    \n",
    "    cost = no_u3 + 10*no_cx\n",
    "\n",
    "    if print_details:\n",
    "        # Print Circuit Details\n",
    "        print(f'cx: {no_cx}')\n",
    "\n",
    "        print(f'u3: {no_u3}')\n",
    "        print(f'Total cost: {cost}')\n",
    "    \n",
    "    if nice:\n",
    "        return circ.draw('mpl')\n",
    "    \n",
    "    if return_values:\n",
    "        return no_cx, no_u3"
   ]
  },
  {
   "cell_type": "markdown",
   "metadata": {},
   "source": [
    "###### Get Unitary/StateVector Function"
   ]
  },
  {
   "cell_type": "code",
   "execution_count": 11,
   "metadata": {
    "code_folding": [
     0
    ]
   },
   "outputs": [],
   "source": [
    "def get(circ, types = 'unitary', nice = True):\n",
    "    \n",
    "    \"\"\"\n",
    "    This function return the statevector or the unitary of the inputted circuit\n",
    "    \n",
    "    Parameters:\n",
    "    -----------\n",
    "    circ: QuantumCircuit\n",
    "        Inputted circuit without measurement gate\n",
    "    types: str ('unitary')\n",
    "        Get 'unitary' or 'statevector' option\n",
    "    nice: bool\n",
    "        Display the result nicely option or just return unitary/statevector as ndarray\n",
    "        \n",
    "    Returns:\n",
    "    --------\n",
    "    out: ndarray\n",
    "        Outputted unitary of statevector\n",
    "        \n",
    "    \"\"\"\n",
    "    \n",
    "    if types == 'statevector':\n",
    "        backend = BasicAer.get_backend('statevector_simulator')\n",
    "        out = execute(circ, backend).result().get_statevector()\n",
    "    else: \n",
    "        backend = BasicAer.get_backend('unitary_simulator')\n",
    "        out = execute(circ, backend).result().get_unitary()\n",
    "        \n",
    "    if nice:\n",
    "        display(Matrix(np.round(out, 10))) \n",
    "    else:\n",
    "        return out"
   ]
  },
  {
   "cell_type": "markdown",
   "metadata": {},
   "source": [
    "###### Displaying Histogram / Bloch / Counts"
   ]
  },
  {
   "cell_type": "code",
   "execution_count": 12,
   "metadata": {
    "code_folding": [
     0
    ]
   },
   "outputs": [],
   "source": [
    "def sim(circ, visual = 'hist'):\n",
    "    \n",
    "    \"\"\"\n",
    "    Displaying output of quantum circuit\n",
    "    \n",
    "    Parameters:\n",
    "    -----------\n",
    "    circ: QuantumCircuit\n",
    "        QuantumCircuit with or without measurement gates\n",
    "    visual: str ('hist')\n",
    "        'hist' (counts on histogram) or 'bloch' (statevectors on Bloch sphere) or None (get counts only)\n",
    "        \n",
    "    Returns:\n",
    "    --------\n",
    "    counts: dict\n",
    "        Counts of each CBS state\n",
    "    \"\"\"\n",
    "    \n",
    "    # Simulate circuit and display counts on a histogram\n",
    "    if visual == 'hist':\n",
    "        simulator = Aer.get_backend('qasm_simulator')\n",
    "        results = execute(circ, simulator).result()\n",
    "        counts = results.get_counts(circ)\n",
    "        plot_histogram(counts)\n",
    "        \n",
    "        return counts\n",
    "        \n",
    "    # Get the statevector and display on a Bloch sphere\n",
    "    elif visual == 'bloch':\n",
    "        backend = BasicAer.get_backend('statevector_simulator')\n",
    "        statevector = execute(circ, backend).result().get_statevector()\n",
    "        get(circ)\n",
    "        plot_bloch_multivector(statevector)\n",
    "        \n",
    "    # Just get counts\n",
    "    else:\n",
    "        simulator = Aer.get_backend('qasm_simulator')\n",
    "        results = execute(circ, simulator).result()\n",
    "        counts = results.get_counts(circ)\n",
    "        \n",
    "        return counts"
   ]
  },
  {
   "cell_type": "markdown",
   "metadata": {},
   "source": [
    "###### Unitary Checker"
   ]
  },
  {
   "cell_type": "code",
   "execution_count": 13,
   "metadata": {
    "code_folding": [
     0
    ]
   },
   "outputs": [],
   "source": [
    "def cx_check(test_unitary, perfect = False):\n",
    "    \n",
    "    \"\"\"\n",
    "    Check if the CnX unitary is correct\n",
    "    \n",
    "    Parameters:\n",
    "    -----------\n",
    "    test_unitary: ndarray\n",
    "        Unitary generated by the circuit\n",
    "    perfect: ndarray\n",
    "        Account for phase difference\n",
    "        \n",
    "    \"\"\"\n",
    "    \n",
    "    # Get length of unitary\n",
    "    if not perfect:\n",
    "        test_unitary = np.abs(test_unitary)\n",
    "        \n",
    "    size = test_unitary.shape[0]\n",
    "    \n",
    "    cx_theory = np.identity(size)\n",
    "\n",
    "    # Change all the difference\n",
    "    cx_theory[int(size/2) - 1, size - 1] = 1\n",
    "    cx_theory[size - 1, int(size/2) - 1] = 1\n",
    "    cx_theory[int(size/2) -1, int(size/2) -1] = 0\n",
    "    cx_theory[size - 1, size - 1] = 0\n",
    "\n",
    "    # Assert Similarity\n",
    "    aae(cx_theory, test_unitary)\n",
    "    \n",
    "    print('Unitary is correct')"
   ]
  },
  {
   "cell_type": "markdown",
   "metadata": {},
   "source": [
    "###### CnX/CnP (Multiple-controlled Not modulo phase shift circuit)"
   ]
  },
  {
   "cell_type": "code",
   "execution_count": 14,
   "metadata": {
    "code_folding": [
     0,
     52
    ]
   },
   "outputs": [],
   "source": [
    "def CnX(n, control_list = None, target = None, circ = None, theta = 1):\n",
    "    \n",
    "    # Build New Circuit\n",
    "    if circ == None:\n",
    "        circ = q(n+1)\n",
    "        control_list = list(range(n))\n",
    "        target = n\n",
    "    \n",
    "    # Base Case\n",
    "    if n == 1:\n",
    "        \n",
    "        circ.cx(*control_list, target)\n",
    "        \n",
    "        return circ\n",
    "    \n",
    "    if n==2:\n",
    "        circ.ch(control_list[0], target)\n",
    "        circ.cz(control_list[1], target)\n",
    "        circ.ch(control_list[0], target)\n",
    "        \n",
    "        return circ\n",
    "    \n",
    "    if n == 3:\n",
    "        circ.rcccx(*control_list, target)\n",
    "        \n",
    "        return circ\n",
    "    \n",
    "    # New Case\n",
    "    \n",
    "    # CH\n",
    "    circ.ch(control_list[0], target)\n",
    "    \n",
    "    # CP2\n",
    "    circ = control_phase(circ, theta*2, control_list[-1], target)\n",
    "    \n",
    "    # C(n-2)X\n",
    "    circ = CnX(n-2, control_list[1:-1], control_list[-1], circ)\n",
    "    \n",
    "    # -CP2\n",
    "    circ = control_phase(circ, -theta*2, control_list[-1], target)\n",
    "    \n",
    "    # C(n-2)X\n",
    "    circ = CnX(n-2, control_list[1:-1], control_list[-1], circ)\n",
    "    \n",
    "    # CnP\n",
    "    circ = CnP(n-2, control_list[1:-1], target, circ, theta*2)\n",
    "    \n",
    "    # CH\n",
    "    circ.ch(control_list[0], target)\n",
    "    \n",
    "    return circ\n",
    "\n",
    "def CnP(n, control_list = None, target = None, circ = None, theta = 1):\n",
    "    \n",
    "    # Build New Circuit\n",
    "    if circ == None:\n",
    "        circ = q(n+1)\n",
    "        control_list = list(range(n))\n",
    "        target = n\n",
    "    \n",
    "    # Base Case\n",
    "    if n ==1:\n",
    "        circ = control_phase(circ, theta, control_list, target)\n",
    "        \n",
    "        return circ \n",
    "    \n",
    "    # New Case\n",
    "    \n",
    "    # CP\n",
    "    circ = control_phase(circ, theta*2, control_list[-1], target)\n",
    "    \n",
    "    # C(n-1)X\n",
    "    circ = CnX(n-1, control_list[:-1], control_list[-1], circ)\n",
    "    \n",
    "    # -CP\n",
    "    circ = control_phase(circ, -theta*2, control_list[-1], target)\n",
    "    \n",
    "    # C(n-1)X\n",
    "    circ = CnX(n-1, control_list[:-1], control_list[-1], circ)\n",
    "    \n",
    "    # C(n-1)P\n",
    "    circ = CnP(n-1, control_list[:-1], target, circ, theta*2)\n",
    "    \n",
    "    return circ"
   ]
  },
  {
   "cell_type": "markdown",
   "metadata": {},
   "source": [
    "###### CnH / Multi-Hadamard Composition"
   ]
  },
  {
   "cell_type": "code",
   "execution_count": 18,
   "metadata": {
    "code_folding": [
     0,
     39
    ]
   },
   "outputs": [],
   "source": [
    "def CnH(n, control_list = None, target = None, circ = None, theta = 1):\n",
    "    \n",
    "    # Build New Circuit\n",
    "    if circ == None:\n",
    "        circ = q(n+1)\n",
    "        control_list = list(range(n))\n",
    "        target = n\n",
    "    \n",
    "    # Base Case\n",
    "    \n",
    "    if n ==1 and theta ==1:\n",
    "        circ.ch(control_list, target)\n",
    "        \n",
    "        return circ\n",
    "    \n",
    "    if n ==1:\n",
    "        circ.unitary(cu_matrix(2, 0, 1, Hp(1/theta)), [control_list, target])\n",
    "        \n",
    "        return circ \n",
    "    \n",
    "    # New Case\n",
    "    \n",
    "    # CH\n",
    "    circ.unitary(cu_matrix(2, 0, 1, Hp(1/(theta*2))), [control_list[-1], target])\n",
    "    \n",
    "    # C(n-1)X\n",
    "    circ = CnX(n-1, control_list[:-1], control_list[-1], circ)\n",
    "    \n",
    "    # CH\n",
    "    circ.unitary(cu_matrix(2, 0, 1, Hp(-1/(theta*2))), [control_list[-1], target])\n",
    "    \n",
    "    # C(n-1)X\n",
    "    circ = CnX(n-1, control_list[:-1], control_list[-1], circ)\n",
    "    \n",
    "    # C(n-1)P\n",
    "    circ = CnH(n-1, control_list[:-1], target, circ, theta*2)\n",
    "    \n",
    "    return circ\n",
    "\n",
    "def h_relief(n, no_h, return_circ = False):\n",
    "    \n",
    "    # n is the number of control qubit\n",
    "    # no_h is the number of control qubit on the side hadamard\n",
    "    circ = q(n+1)\n",
    "    circ= CnH(no_h, list(range(no_h)), n, circ)\n",
    "\n",
    "    circ = CnP(n-no_h, list(range(no_h, n)), n, circ)\n",
    "    circ= CnH(no_h, list(range(no_h)), n, circ)\n",
    "\n",
    "    '''# Test for accuracy\n",
    "    test = get(circ, nice = False)\n",
    "    unitary_check(test)'''\n",
    "    \n",
    "    if return_circ:\n",
    "        return circ\n",
    "    \n",
    "    dtp(circ, nice = False)"
   ]
  },
  {
   "cell_type": "code",
   "execution_count": null,
   "metadata": {},
   "outputs": [],
   "source": []
  },
  {
   "cell_type": "markdown",
   "metadata": {},
   "source": [
    "### Citations"
   ]
  },
  {
   "cell_type": "markdown",
   "metadata": {},
   "source": [
    "### Background"
   ]
  },
  {
   "cell_type": "markdown",
   "metadata": {},
   "source": [
    "Shende and Markov proved that the implementation of the $n$-qubit analogue of the $TOFFOLI$ requires at least $2n \\ CNOT$ gates [1]. Currently, the best known upper bound is outlined by Maslov stands at $6n-12$ with the used of $\\lceil \\frac{n-3}{2} \\rceil$ ancilla bits [2]. For implementaion without ancillae, we look at the technique outlined in Collorary 7.6 which has $\\Theta(n^2)$ complexity [3].\n",
    "\n",
    "In this notebook, we attempt to create a few examples of the $O(2n)$ lower bound without the use of ancilla. We will explore the plausibility of such task by analysing the following architecture. Note that in this notebook, $n$ qubits Toffli gates will simply be referred to as $CnX$ gate where $n$ is the number of control bits."
   ]
  },
  {
   "cell_type": "code",
   "execution_count": 16,
   "metadata": {},
   "outputs": [
    {
     "data": {
      "image/png": "[encoded data removed]",
      "text/plain": [
       "<Figure size 869.197x264.88 with 1 Axes>"
      ]
     },
     "execution_count": 16,
     "metadata": {},
     "output_type": "execute_result"
    }
   ],
   "source": [
    "circ = q(4)\n",
    "circ.u(0, 0, 0, 3)\n",
    "circ.cx(2, 3)\n",
    "circ.u(0, 0, 0, 3)\n",
    "circ.cx(0, 3)\n",
    "circ.u(0, 0, 0, 3)\n",
    "circ.cx(1, 3)\n",
    "circ.u(0, 0, 0, 3)\n",
    "circ.cx(0, 3)\n",
    "circ.u(0, 0, 0, 3)\n",
    "circ.cx(1, 3)\n",
    "circ.u(0, 0, 0, 3)\n",
    "circ.cx(2, 3)\n",
    "circ.u(0, 0, 0, 3)\n",
    "\n",
    "milk(circ)"
   ]
  },
  {
   "cell_type": "markdown",
   "metadata": {},
   "source": [
    "Note that the angle parameters of the unitary gates are not correct. The merely serves as a stand in for an arbitrary U3 gate. Our job is to determine the correct parameters for $\\theta, \\phi, \\lambda$. But first, we must prove that this structure does indeed produce the output that we want. Let's work through some examples with small values of $n$ to get a better intution of how to prove this for larger values of $n$."
   ]
  },
  {
   "cell_type": "markdown",
   "metadata": {},
   "source": [
    "### Problem"
   ]
  },
  {
   "cell_type": "markdown",
   "metadata": {},
   "source": [
    "For $n = 2$, assuming the above architecture is valid, determine the angles $\\theta, \\phi, \\lambda$ for the three $U3$ matrices."
   ]
  },
  {
   "cell_type": "markdown",
   "metadata": {},
   "source": [
    "Plan\n",
    "    \n",
    "    1. Create a quantum circuit with the desired architecture\n",
    "\n",
    "    2. Symbolically expand the q_1 unitary \n",
    "\n",
    "    3. Draw Neural Network graph\n",
    "\n",
    "    4. Create data to train/test\n",
    "\n",
    "    5. Initialized weights\n",
    "\n",
    "    6. Implement Forward Propagation\n",
    "\n",
    "    7. Define Cost function\n",
    "\n",
    "    8. Implement Backpropagation\n",
    "\n",
    "    9. Implement Gradient Descent to updates the weights in each layers\n",
    "    \n",
    "    10. Check that each layer is implemented correctly\n",
    "    \n",
    "    11. Train Model\n",
    "    \n",
    "    12. Evaluate Model\n",
    "    \n",
    "    13. Full Optimization Implementation"
   ]
  },
  {
   "cell_type": "markdown",
   "metadata": {},
   "source": [
    "### Conventions"
   ]
  },
  {
   "cell_type": "markdown",
   "metadata": {},
   "source": [
    "The unitary weights matrices can be organized in different configurations based on where the $X$ gates are placed. Let the constant $\\gamma$ denote a specific configuration of X gates for an arbitrary circuit. At the moment, when we only have $2$ configurations. This parameter has little use. However, as the size of $CnX$ increases and the number of unitary increases, the number of configurations grows by $2^n$. In little edian form, we can denote the configurations of the unitary matrices with by the distribution of the X gates. Although we have not finalized a regular of the general circuit, we can still represent the $X$ gates configurations by the set of qubits that control them.\n",
    "\n",
    "For example, we have the following circuit. And we want to represent the configuration where the $X$ gates controlled by $q_2 \\ \\& \\ q_3$ are turned on."
   ]
  },
  {
   "cell_type": "code",
   "execution_count": 17,
   "metadata": {},
   "outputs": [
    {
     "data": {
      "image/png": "[encoded data removed]",
      "text/plain": [
       "<Figure size 1110x325.08 with 1 Axes>"
      ]
     },
     "execution_count": 17,
     "metadata": {},
     "output_type": "execute_result"
    }
   ],
   "source": [
    "circ = q(5)\n",
    "\n",
    "circ.u(0, 0, 0, 4)\n",
    "circ.cx(3, 4)\n",
    "circ.u(0, 0, 0, 4)\n",
    "circ.cx(0, 4)\n",
    "circ.u(0, 0, 0, 4)\n",
    "circ.cx(1, 4)\n",
    "circ.u(0, 0, 0, 4)\n",
    "circ.cx(2, 4)\n",
    "circ.u(0, 0, 0, 4)\n",
    "circ.cx(0, 4)\n",
    "circ.u(0, 0, 0, 4)\n",
    "circ.cx(1, 4)\n",
    "circ.u(0, 0, 0, 4)\n",
    "circ.cx(2, 4)\n",
    "circ.u(0, 0, 0, 4)\n",
    "circ.cx(3, 4)\n",
    "circ.u(0, 0, 0, 4)\n",
    "\n",
    "milk(circ)"
   ]
  },
  {
   "cell_type": "markdown",
   "metadata": {},
   "source": [
    "This can be acheived by passing in the input of $|1100\\rangle$ to the first four qubits. Note that we are using the little edian convention here, so statevectors are in the form $|q_3, q_2, q_1, q_0 \\rangle$. Thus this will be the value of $\\gamma$ will be $|1100\\rangle$ or $|12\\rangle^4$ if one decides to write it in decimal form (the superscript 4 denotes the number of qubits). We can therefore represent the product of all the unitaries in a specific configuration with the $U_\\gamma$. Continuing with the above circuit. If we count the unitaries alphabetically, then $A-X-BCD-X-EFG-X-H-X-I$ can be condensed into $U_{|1100\\rangle}$."
   ]
  },
  {
   "cell_type": "markdown",
   "metadata": {},
   "source": [
    "### Step 1: Create Quantum Circuit"
   ]
  },
  {
   "cell_type": "code",
   "execution_count": 18,
   "metadata": {},
   "outputs": [
    {
     "data": {
      "image/png": "[encoded data removed]",
      "text/plain": [
       "<Figure size 387.452x144.48 with 1 Axes>"
      ]
     },
     "execution_count": 18,
     "metadata": {},
     "output_type": "execute_result"
    }
   ],
   "source": [
    "circ = q(2)\n",
    "circ.u(0, 0, 0, 1)\n",
    "circ.cx(0, 1)\n",
    "circ.u(0, 0, 0, 1)\n",
    "circ.cx(0, 1)\n",
    "circ.u(0, 0, 0, 1)\n",
    "\n",
    "milk(circ)"
   ]
  },
  {
   "cell_type": "markdown",
   "metadata": {},
   "source": [
    "### Step 2: Expand q_1 Unitary"
   ]
  },
  {
   "cell_type": "markdown",
   "metadata": {},
   "source": [
    "We symbolically expand $q_1$ unitary for when the $CX$ gate is on and off. This means that our unitary matrix will have dimension $(2, 2)$. This will be helpful when we calculate the partial derivative for gradient descent"
   ]
  },
  {
   "cell_type": "code",
   "execution_count": 19,
   "metadata": {
    "code_folding": []
   },
   "outputs": [],
   "source": [
    "# Symbols\n",
    "theta_1, phi_1, lam_1 = symbols('theta_1, phi_1, lambda_1')\n",
    "theta_2, phi_2, lam_2 = symbols('theta_2, phi_2, lambda_2')\n",
    "theta_3, phi_3, lam_3 = symbols('theta_3, phi_3, lambda_3')\n",
    "\n",
    "# U3 Matrices\n",
    "U_1 = Matrix([[cos(theta_1/2), -exp(1j*lam_1)*sin(theta_1/2)], \n",
    "                                       [exp(1j*phi_1)*sin(theta_1/2), exp(1j*lam_1 + 1j*phi_1)*cos(theta_1/2)]])\n",
    "\n",
    "U_2 = Matrix([[cos(theta_2/2), -exp(1j*lam_2)*sin(theta_2/2)], \n",
    "                                       [exp(1j*phi_2)*sin(theta_2/2), exp(1j*lam_2 + 1j*phi_2)*cos(theta_2/2)]])\n",
    "\n",
    "U_3 = Matrix([[cos(theta_3/2), -exp(1j*lam_3)*sin(theta_3/2)], \n",
    "                                       [exp(1j*phi_3)*sin(theta_3/2), exp(1j*lam_3 + 1j*phi_3)*cos(theta_3/2)]])"
   ]
  },
  {
   "cell_type": "markdown",
   "metadata": {},
   "source": [
    "#### CX Off (X gates not activated)"
   ]
  },
  {
   "cell_type": "code",
   "execution_count": 47,
   "metadata": {
    "scrolled": false
   },
   "outputs": [
    {
     "data": {
      "text/latex": [
       "$\\displaystyle \\left[\\begin{matrix}- \\left(e^{1.0 i \\lambda_{2}} \\sin{\\left(\\frac{\\theta_{2}}{2} \\right)} \\cos{\\left(\\frac{\\theta_{1}}{2} \\right)} + e^{1.0 i \\left(\\lambda_{1} + \\lambda_{2} + \\phi_{2}\\right)} \\sin{\\left(\\frac{\\theta_{1}}{2} \\right)} \\cos{\\left(\\frac{\\theta_{2}}{2} \\right)}\\right) e^{1.0 i \\phi_{3}} \\sin{\\left(\\frac{\\theta_{3}}{2} \\right)} - \\left(e^{1.0 i \\left(\\lambda_{1} + \\phi_{2}\\right)} \\sin{\\left(\\frac{\\theta_{1}}{2} \\right)} \\sin{\\left(\\frac{\\theta_{2}}{2} \\right)} - \\cos{\\left(\\frac{\\theta_{1}}{2} \\right)} \\cos{\\left(\\frac{\\theta_{2}}{2} \\right)}\\right) \\cos{\\left(\\frac{\\theta_{3}}{2} \\right)} & - \\left(e^{1.0 i \\lambda_{2}} \\sin{\\left(\\frac{\\theta_{2}}{2} \\right)} \\cos{\\left(\\frac{\\theta_{1}}{2} \\right)} + e^{1.0 i \\left(\\lambda_{1} + \\lambda_{2} + \\phi_{2}\\right)} \\sin{\\left(\\frac{\\theta_{1}}{2} \\right)} \\cos{\\left(\\frac{\\theta_{2}}{2} \\right)}\\right) e^{1.0 i \\left(\\lambda_{3} + \\phi_{3}\\right)} \\cos{\\left(\\frac{\\theta_{3}}{2} \\right)} + \\left(e^{1.0 i \\left(\\lambda_{1} + \\phi_{2}\\right)} \\sin{\\left(\\frac{\\theta_{1}}{2} \\right)} \\sin{\\left(\\frac{\\theta_{2}}{2} \\right)} - \\cos{\\left(\\frac{\\theta_{1}}{2} \\right)} \\cos{\\left(\\frac{\\theta_{2}}{2} \\right)}\\right) e^{1.0 i \\lambda_{3}} \\sin{\\left(\\frac{\\theta_{3}}{2} \\right)}\\\\\\left(e^{1.0 i \\phi_{1}} \\sin{\\left(\\frac{\\theta_{1}}{2} \\right)} \\cos{\\left(\\frac{\\theta_{2}}{2} \\right)} + e^{1.0 i \\left(\\lambda_{1} + \\phi_{1} + \\phi_{2}\\right)} \\sin{\\left(\\frac{\\theta_{2}}{2} \\right)} \\cos{\\left(\\frac{\\theta_{1}}{2} \\right)}\\right) \\cos{\\left(\\frac{\\theta_{3}}{2} \\right)} - \\left(e^{1.0 i \\left(\\lambda_{2} + \\phi_{1}\\right)} \\sin{\\left(\\frac{\\theta_{1}}{2} \\right)} \\sin{\\left(\\frac{\\theta_{2}}{2} \\right)} - e^{1.0 i \\left(\\lambda_{1} + \\lambda_{2} + \\phi_{1} + \\phi_{2}\\right)} \\cos{\\left(\\frac{\\theta_{1}}{2} \\right)} \\cos{\\left(\\frac{\\theta_{2}}{2} \\right)}\\right) e^{1.0 i \\phi_{3}} \\sin{\\left(\\frac{\\theta_{3}}{2} \\right)} & - \\left(e^{1.0 i \\phi_{1}} \\sin{\\left(\\frac{\\theta_{1}}{2} \\right)} \\cos{\\left(\\frac{\\theta_{2}}{2} \\right)} + e^{1.0 i \\left(\\lambda_{1} + \\phi_{1} + \\phi_{2}\\right)} \\sin{\\left(\\frac{\\theta_{2}}{2} \\right)} \\cos{\\left(\\frac{\\theta_{1}}{2} \\right)}\\right) e^{1.0 i \\lambda_{3}} \\sin{\\left(\\frac{\\theta_{3}}{2} \\right)} - \\left(e^{1.0 i \\left(\\lambda_{2} + \\phi_{1}\\right)} \\sin{\\left(\\frac{\\theta_{1}}{2} \\right)} \\sin{\\left(\\frac{\\theta_{2}}{2} \\right)} - e^{1.0 i \\left(\\lambda_{1} + \\lambda_{2} + \\phi_{1} + \\phi_{2}\\right)} \\cos{\\left(\\frac{\\theta_{1}}{2} \\right)} \\cos{\\left(\\frac{\\theta_{2}}{2} \\right)}\\right) e^{1.0 i \\left(\\lambda_{3} + \\phi_{3}\\right)} \\cos{\\left(\\frac{\\theta_{3}}{2} \\right)}\\end{matrix}\\right]$"
      ],
      "text/plain": [
       "Matrix([\n",
       "[                                          -(exp(1.0*I*lambda_2)*sin(theta_2/2)*cos(theta_1/2) + exp(1.0*I*(lambda_1 + lambda_2 + phi_2))*sin(theta_1/2)*cos(theta_2/2))*exp(1.0*I*phi_3)*sin(theta_3/2) - (exp(1.0*I*(lambda_1 + phi_2))*sin(theta_1/2)*sin(theta_2/2) - cos(theta_1/2)*cos(theta_2/2))*cos(theta_3/2),                                            -(exp(1.0*I*lambda_2)*sin(theta_2/2)*cos(theta_1/2) + exp(1.0*I*(lambda_1 + lambda_2 + phi_2))*sin(theta_1/2)*cos(theta_2/2))*exp(1.0*I*(lambda_3 + phi_3))*cos(theta_3/2) + (exp(1.0*I*(lambda_1 + phi_2))*sin(theta_1/2)*sin(theta_2/2) - cos(theta_1/2)*cos(theta_2/2))*exp(1.0*I*lambda_3)*sin(theta_3/2)],\n",
       "[(exp(1.0*I*phi_1)*sin(theta_1/2)*cos(theta_2/2) + exp(1.0*I*(lambda_1 + phi_1 + phi_2))*sin(theta_2/2)*cos(theta_1/2))*cos(theta_3/2) - (exp(1.0*I*(lambda_2 + phi_1))*sin(theta_1/2)*sin(theta_2/2) - exp(1.0*I*(lambda_1 + lambda_2 + phi_1 + phi_2))*cos(theta_1/2)*cos(theta_2/2))*exp(1.0*I*phi_3)*sin(theta_3/2), -(exp(1.0*I*phi_1)*sin(theta_1/2)*cos(theta_2/2) + exp(1.0*I*(lambda_1 + phi_1 + phi_2))*sin(theta_2/2)*cos(theta_1/2))*exp(1.0*I*lambda_3)*sin(theta_3/2) - (exp(1.0*I*(lambda_2 + phi_1))*sin(theta_1/2)*sin(theta_2/2) - exp(1.0*I*(lambda_1 + lambda_2 + phi_1 + phi_2))*cos(theta_1/2)*cos(theta_2/2))*exp(1.0*I*(lambda_3 + phi_3))*cos(theta_3/2)]])"
      ]
     },
     "execution_count": 47,
     "metadata": {},
     "output_type": "execute_result"
    }
   ],
   "source": [
    "simplify(U_1*U_2*U_3)"
   ]
  },
  {
   "cell_type": "markdown",
   "metadata": {},
   "source": [
    "#### CX On (X gates activated)"
   ]
  },
  {
   "cell_type": "code",
   "execution_count": 48,
   "metadata": {
    "scrolled": false
   },
   "outputs": [
    {
     "data": {
      "text/latex": [
       "$\\displaystyle \\left[\\begin{matrix}- \\left(e^{1.0 i \\lambda_{1}} \\sin{\\left(\\frac{\\theta_{1}}{2} \\right)} \\cos{\\left(\\frac{\\theta_{2}}{2} \\right)} - e^{1.0 i \\phi_{2}} \\sin{\\left(\\frac{\\theta_{2}}{2} \\right)} \\cos{\\left(\\frac{\\theta_{1}}{2} \\right)}\\right) e^{1.0 i \\phi_{3}} \\sin{\\left(\\frac{\\theta_{3}}{2} \\right)} + \\left(e^{1.0 i \\left(\\lambda_{1} + \\lambda_{2}\\right)} \\sin{\\left(\\frac{\\theta_{1}}{2} \\right)} \\sin{\\left(\\frac{\\theta_{2}}{2} \\right)} + e^{1.0 i \\left(\\lambda_{2} + \\phi_{2}\\right)} \\cos{\\left(\\frac{\\theta_{1}}{2} \\right)} \\cos{\\left(\\frac{\\theta_{2}}{2} \\right)}\\right) \\cos{\\left(\\frac{\\theta_{3}}{2} \\right)} & - \\left(e^{1.0 i \\lambda_{1}} \\sin{\\left(\\frac{\\theta_{1}}{2} \\right)} \\cos{\\left(\\frac{\\theta_{2}}{2} \\right)} - e^{1.0 i \\phi_{2}} \\sin{\\left(\\frac{\\theta_{2}}{2} \\right)} \\cos{\\left(\\frac{\\theta_{1}}{2} \\right)}\\right) e^{1.0 i \\left(\\lambda_{3} + \\phi_{3}\\right)} \\cos{\\left(\\frac{\\theta_{3}}{2} \\right)} - \\left(e^{1.0 i \\left(\\lambda_{1} + \\lambda_{2}\\right)} \\sin{\\left(\\frac{\\theta_{1}}{2} \\right)} \\sin{\\left(\\frac{\\theta_{2}}{2} \\right)} + e^{1.0 i \\left(\\lambda_{2} + \\phi_{2}\\right)} \\cos{\\left(\\frac{\\theta_{1}}{2} \\right)} \\cos{\\left(\\frac{\\theta_{2}}{2} \\right)}\\right) e^{1.0 i \\lambda_{3}} \\sin{\\left(\\frac{\\theta_{3}}{2} \\right)}\\\\\\left(e^{1.0 i \\left(\\lambda_{1} + \\phi_{1}\\right)} \\cos{\\left(\\frac{\\theta_{1}}{2} \\right)} \\cos{\\left(\\frac{\\theta_{2}}{2} \\right)} + e^{1.0 i \\left(\\phi_{1} + \\phi_{2}\\right)} \\sin{\\left(\\frac{\\theta_{1}}{2} \\right)} \\sin{\\left(\\frac{\\theta_{2}}{2} \\right)}\\right) e^{1.0 i \\phi_{3}} \\sin{\\left(\\frac{\\theta_{3}}{2} \\right)} - \\left(e^{1.0 i \\left(\\lambda_{1} + \\lambda_{2} + \\phi_{1}\\right)} \\sin{\\left(\\frac{\\theta_{2}}{2} \\right)} \\cos{\\left(\\frac{\\theta_{1}}{2} \\right)} - e^{1.0 i \\left(\\lambda_{2} + \\phi_{1} + \\phi_{2}\\right)} \\sin{\\left(\\frac{\\theta_{1}}{2} \\right)} \\cos{\\left(\\frac{\\theta_{2}}{2} \\right)}\\right) \\cos{\\left(\\frac{\\theta_{3}}{2} \\right)} & \\left(e^{1.0 i \\left(\\lambda_{1} + \\phi_{1}\\right)} \\cos{\\left(\\frac{\\theta_{1}}{2} \\right)} \\cos{\\left(\\frac{\\theta_{2}}{2} \\right)} + e^{1.0 i \\left(\\phi_{1} + \\phi_{2}\\right)} \\sin{\\left(\\frac{\\theta_{1}}{2} \\right)} \\sin{\\left(\\frac{\\theta_{2}}{2} \\right)}\\right) e^{1.0 i \\left(\\lambda_{3} + \\phi_{3}\\right)} \\cos{\\left(\\frac{\\theta_{3}}{2} \\right)} + \\left(e^{1.0 i \\left(\\lambda_{1} + \\lambda_{2} + \\phi_{1}\\right)} \\sin{\\left(\\frac{\\theta_{2}}{2} \\right)} \\cos{\\left(\\frac{\\theta_{1}}{2} \\right)} - e^{1.0 i \\left(\\lambda_{2} + \\phi_{1} + \\phi_{2}\\right)} \\sin{\\left(\\frac{\\theta_{1}}{2} \\right)} \\cos{\\left(\\frac{\\theta_{2}}{2} \\right)}\\right) e^{1.0 i \\lambda_{3}} \\sin{\\left(\\frac{\\theta_{3}}{2} \\right)}\\end{matrix}\\right]$"
      ],
      "text/plain": [
       "Matrix([\n",
       "[                                   -(exp(1.0*I*lambda_1)*sin(theta_1/2)*cos(theta_2/2) - exp(1.0*I*phi_2)*sin(theta_2/2)*cos(theta_1/2))*exp(1.0*I*phi_3)*sin(theta_3/2) + (exp(1.0*I*(lambda_1 + lambda_2))*sin(theta_1/2)*sin(theta_2/2) + exp(1.0*I*(lambda_2 + phi_2))*cos(theta_1/2)*cos(theta_2/2))*cos(theta_3/2),                                    -(exp(1.0*I*lambda_1)*sin(theta_1/2)*cos(theta_2/2) - exp(1.0*I*phi_2)*sin(theta_2/2)*cos(theta_1/2))*exp(1.0*I*(lambda_3 + phi_3))*cos(theta_3/2) - (exp(1.0*I*(lambda_1 + lambda_2))*sin(theta_1/2)*sin(theta_2/2) + exp(1.0*I*(lambda_2 + phi_2))*cos(theta_1/2)*cos(theta_2/2))*exp(1.0*I*lambda_3)*sin(theta_3/2)],\n",
       "[(exp(1.0*I*(lambda_1 + phi_1))*cos(theta_1/2)*cos(theta_2/2) + exp(1.0*I*(phi_1 + phi_2))*sin(theta_1/2)*sin(theta_2/2))*exp(1.0*I*phi_3)*sin(theta_3/2) - (exp(1.0*I*(lambda_1 + lambda_2 + phi_1))*sin(theta_2/2)*cos(theta_1/2) - exp(1.0*I*(lambda_2 + phi_1 + phi_2))*sin(theta_1/2)*cos(theta_2/2))*cos(theta_3/2), (exp(1.0*I*(lambda_1 + phi_1))*cos(theta_1/2)*cos(theta_2/2) + exp(1.0*I*(phi_1 + phi_2))*sin(theta_1/2)*sin(theta_2/2))*exp(1.0*I*(lambda_3 + phi_3))*cos(theta_3/2) + (exp(1.0*I*(lambda_1 + lambda_2 + phi_1))*sin(theta_2/2)*cos(theta_1/2) - exp(1.0*I*(lambda_2 + phi_1 + phi_2))*sin(theta_1/2)*cos(theta_2/2))*exp(1.0*I*lambda_3)*sin(theta_3/2)]])"
      ]
     },
     "execution_count": 48,
     "metadata": {},
     "output_type": "execute_result"
    }
   ],
   "source": [
    "simplify(U_1*X*U_2*X*U_3)"
   ]
  },
  {
   "cell_type": "markdown",
   "metadata": {},
   "source": [
    "### Step 3: Visualizing Neural Network"
   ]
  },
  {
   "attachments": {
    "Neural%20Network%20Model.png": {
     "image/png": "[encoded data removed]"
    }
   },
   "cell_type": "markdown",
   "metadata": {},
   "source": [
    "![Neural%20Network%20Model.png](attachment:Neural%20Network%20Model.png)"
   ]
  },
  {
   "cell_type": "markdown",
   "metadata": {},
   "source": [
    "### Step 4: Create Training Data"
   ]
  },
  {
   "cell_type": "markdown",
   "metadata": {},
   "source": [
    "Steps to creating data:\n",
    "\n",
    "1. Randomize a 2-d real unit vectors, this is our training examples $X$ (for this purpose, ignore complex number)\n",
    "2. Using the known correct matrix, take the product of the two, this is the predicted output value $\\hat{y}$\n",
    "3. Repeat the process $n$ times as deemed necessary"
   ]
  },
  {
   "cell_type": "code",
   "execution_count": 49,
   "metadata": {
    "code_folding": [
     0
    ]
   },
   "outputs": [],
   "source": [
    "def create_data(size_off = 500, size_on = 500, train_split = 0.7, seed = 0):\n",
    "    \n",
    "    \"\"\"\n",
    "    \n",
    "    Create two matrices of specified length consisting of 2-d vectors representing\n",
    "    a train and a test examples\n",
    "    \n",
    "    Parameters\n",
    "    ----------\n",
    "    size_off: int\n",
    "        Number of examples for when the cx gate is off and I is applied\n",
    "    size_on: int\n",
    "        Number of examples for when the cx gate is on and X is applied\n",
    "    train_split: float\n",
    "        Proportion of the train data to the total dataset\n",
    "        \n",
    "    \n",
    "    Returns\n",
    "    -------\n",
    "    X_train: ndarray\n",
    "        Matrix containing the x-values of all the training examples\n",
    "    y_train: ndarray\n",
    "        Matrix containing the y-values of all the training examples\n",
    "    X_test: ndarray\n",
    "        Matrix containing the x-values of all the testing examples\n",
    "    y_test: ndarray\n",
    "        Matrix containing the y-values of all the testing examples\n",
    "\n",
    "    \"\"\"\n",
    "    \n",
    "    size = size_off + size_on\n",
    "    \n",
    "    np.random.seed(seed)\n",
    "\n",
    "    # Apply I (x_off serves as both input and output)\n",
    "    x_off = np.random.rand(2, size_off)\n",
    "    x_off /= np.linalg.norm(x_off, axis = 0)\n",
    "    y_off = x_off\n",
    "\n",
    "    # Apply X (x_on serves as input)\n",
    "    x_on = np.random.rand(2, size_on)\n",
    "    x_on /= np.linalg.norm(x_on, axis = 0)\n",
    "    y_on = np.dot(X, x_on)\n",
    "\n",
    "    # Combine two input and output sets\n",
    "    X_es = np.concatenate((x_off, x_on), axis = 1)\n",
    "    y_es = np.concatenate((y_off, y_on), axis = 1)\n",
    "\n",
    "    '''    # Shuffle inputs and outputs\n",
    "    a = np.arange(size)\n",
    "    rand_list = np.random.choice(a, replace = False, size = size)\n",
    "    X_es = X_es[:, rand_list]\n",
    "    y_es = y_es[:, rand_list]'''\n",
    "    \n",
    "    # Splitting the matrix into its corresponding groups\n",
    "    X_train = X_es[:, :int(size*train_split)]\n",
    "    y_train = y_es[:, :int(size*train_split)]\n",
    "    \n",
    "    X_test = X_es[:, int(size*train_split):]\n",
    "    y_test = y_es[:, int(size*train_split):]\n",
    "    \n",
    "    return X_train, y_train, X_test, y_test"
   ]
  },
  {
   "cell_type": "markdown",
   "metadata": {},
   "source": [
    "### Step 5: Weights Initialization"
   ]
  },
  {
   "cell_type": "markdown",
   "metadata": {},
   "source": [
    "We create a general function to intialize $n$ unitary matrices. There are two options:\n",
    "\n",
    "   1. Create a set of random (2, 2) real matrices and apply Gram-Schmidt to get orthogonal matrices (unitary in R)\n",
    "   2. Create a set of random angle parameters and run them through the U3 function to get complex unitary matrices\n",
    "    \n",
    "We are going with the second approach"
   ]
  },
  {
   "cell_type": "code",
   "execution_count": 584,
   "metadata": {
    "code_folding": []
   },
   "outputs": [],
   "source": [
    "def initialize(n = 3):\n",
    "    \n",
    "    \"\"\"\n",
    "    Parameters:\n",
    "    -----------\n",
    "    n: int\n",
    "        Number of random U3 matrices\n",
    "        \n",
    "    Returns:\n",
    "    --------\n",
    "    W_list: list\n",
    "        List of U3 matrices as ndarray\n",
    "    \n",
    "    \"\"\"\n",
    "\n",
    "    angle_list = np.random.uniform(low = 0, high = 2*np.pi, size = (n, None, 3))\n",
    "    W_list = []\n",
    "\n",
    "    for packet in angle_list:\n",
    "        W = U3(*np.squeeze(packet))\n",
    "        W_list.append(W)\n",
    "        \n",
    "    return W_list"
   ]
  },
  {
   "cell_type": "markdown",
   "metadata": {},
   "source": [
    "### Step 6: Forward Propagation"
   ]
  },
  {
   "cell_type": "markdown",
   "metadata": {},
   "source": [
    "Forward propagation passes the input into the neural network to predict an output value\n",
    "\n",
    "$$\\hat{y} = \\underbrace{\\begin{bmatrix} \\alpha & \\beta \\\\ \\gamma & \\delta \\end{bmatrix}}_{W} \\begin{pmatrix} x_0 \\\\ x_1 \\end{pmatrix}$$\n",
    "\n",
    "To run multiple training examples at the same time (stochastic), put the training examples into a matrix a multiply it with the weight matrix. The index of training examples will be represented by the superscript inside the parentheses.\n",
    "\n",
    "$$W(x) \\ = \\ W \\begin{pmatrix} x_0^{(0)} & x_0^{(1)} ... & \\ x_0^{(n)} \\\\ x_1^{(0)} & x_1^{(1)} ... & \\ x_1^{(n)} \\end{pmatrix} \\ = \\ \\begin{pmatrix} \\hat{y}^{(0)} & \\hat{y}^{(1)} & ... & \\hat{y}^{(n)}\\end{pmatrix}$$\n",
    "\n",
    "Here we will only attempt to build the forward propagation function for our $n = 2$ examples. In the future, if the current architecture is promising, we will attempt to generalize the function.\n",
    "\n",
    "There are two configurations of which forward propagation is applied on the 3 unitary matrices.\n",
    "\n",
    "$$ABC = I \\ \\& \\ AXBXC = X$$"
   ]
  },
  {
   "cell_type": "code",
   "execution_count": 51,
   "metadata": {
    "code_folding": [
     0
    ]
   },
   "outputs": [],
   "source": [
    "def forward_prop(x, W_list, form):\n",
    "    \n",
    "    \"\"\"\n",
    "    \n",
    "    Parameters:\n",
    "    -----------\n",
    "    x: ndarray (2, n)\n",
    "        Matrix of x-values\n",
    "    W_list: list\n",
    "        List of unitary weights\n",
    "    form: int\n",
    "        Determine which form to apply (0: ABC, 1: AXBXC)\n",
    "        \n",
    "    \"\"\"\n",
    "    \n",
    "    A, B, C = W_list\n",
    "    \n",
    "    if form == 0:\n",
    "        W = mat_mul(A, B, C)\n",
    "    else:\n",
    "        W = mat_mul(A, X, B, X, C)\n",
    "\n",
    "    y_hat = np.dot(W, x)\n",
    "\n",
    "    return y_hat"
   ]
  },
  {
   "cell_type": "markdown",
   "metadata": {},
   "source": [
    "### Step 7: Define Cost Function"
   ]
  },
  {
   "cell_type": "markdown",
   "metadata": {},
   "source": [
    "However, since we are working with complex number, we will have to deal with the equivalence relation defined on global phase of the unitary matrix. Because of this, we choose the metrics on well-known quantum SWAP test, which can be implemented as followed."
   ]
  },
  {
   "cell_type": "code",
   "execution_count": 52,
   "metadata": {},
   "outputs": [
    {
     "data": {
      "image/png": "[encoded data removed]",
      "text/plain": [
       "<Figure size 507.997x264.88 with 1 Axes>"
      ]
     },
     "execution_count": 52,
     "metadata": {},
     "output_type": "execute_result"
    }
   ],
   "source": [
    "circ = q(3, 1)\n",
    "# SWAP Test\n",
    "circ.h(0)\n",
    "circ.barrier()\n",
    "circ.cswap(0, 1, 2)\n",
    "circ.barrier()\n",
    "circ.h(0)\n",
    "circ.barrier()\n",
    "\n",
    "# Measurement\n",
    "circ.measure(0, 0)\n",
    "\n",
    "milk(circ)"
   ]
  },
  {
   "cell_type": "markdown",
   "metadata": {},
   "source": [
    "For the circuit above, we use barriers to denotes checkpoints.\n",
    "\n",
    "Let's call the state in $q_1$, $\\delta$ (delta) and $q_2$, $\\psi$ (psi). We start with the initial state $|0, \\delta, \\psi\\rangle$.\n",
    "\n",
    "Recall that $\\delta$ is the constant state and $\\psi$ is the test state\n",
    "\n",
    "At the first check point, we apply a Hadamard gate on the first qubit\n",
    "\n",
    "$$H \\ |0, \\delta, \\psi\\rangle = \\frac{1}{\\sqrt{2}} \\ (|0\\rangle + |1\\rangle) \\ |\\delta, \\psi\\rangle = \\frac{1}{\\sqrt{2}} \\ (|0, \\delta, \\psi\\rangle + |1, \\delta, \\psi \\rangle)$$\n",
    "\n",
    "At the second check point, we apply a control SWAP gate on all three qubits (control: $q_0$, targets: $q_1, q_2$)\n",
    "\n",
    "$$\\text{CSWAP} \\frac{1}{\\sqrt{2}} \\ (|0, \\delxta, \\psi\\rangle + |1, \\delta, \\psi \\rangle) = \\frac{1}{\\sqrt{2}} \\ (|0, \\delta, \\psi \\rangle + \\underbrace{|1, \\psi, \\delta \\rangle)}_{\\delta \\text{ and } \\psi \\text{ is swapped}}$$\n",
    "\n",
    "At the third check point, we apply another Hadamard on the first qubit on the\n",
    "\n",
    "$$H \\ \\frac{1}{\\sqrt{2}} \\ (|0, \\delta, \\psi \\rangle + |1, \\psi, \\delta \\rangle) = \\frac{1}{2} \\ (|0, \\delta, \\psi \\rangle + |1, \\delta, \\psi \\rangle + |0, \\psi, \\delta \\rangle - |1, \\psi, \\delta \\rangle)$$\n",
    "\n",
    "Because we know we want to measure the state $|0\\rangle$, we can factor it out\n",
    "\n",
    "$$\\frac{1}{2} \\ (|\\delta, \\psi \\rangle + |\\psi, \\delta \\rangle) \\ |0\\rangle + (|\\delta, \\psi \\rangle - |\\psi, \\delta \\rangle) \\ |1\\rangle$$\n",
    "\n",
    "Now, to find to probability of measuring $|0\\rangle$, we take the dot product of the amplitude\n",
    "\n",
    "$$P(q_0 \\searrow 0) = \\frac{1}{2}(\\langle\\delta, \\psi | + \\langle \\psi, \\delta|) \\ \\frac{1}{2} \\ (|\\delta, \\psi \\rangle + |\\psi, \\delta \\rangle)$$\n",
    "\n",
    "$$ = \\frac{1}{4} (\\underbrace{\\langle\\delta, \\psi \\ | \\ \\delta, \\psi \\rangle}_{\\text{cancel to } 1} + \\langle\\delta, \\psi \\ | \\ \\psi, \\delta \\rangle + \\langle\\psi, \\delta \\ | \\ \\delta, \\psi \\rangle + \\underbrace{\\langle\\psi, \\delta \\ | \\ \\psi, \\delta \\rangle}_{\\text{cancel to } 1})$$\n",
    "\n",
    "$$ = \\frac{1}{4} (1 + 1 + \\underbrace{\\langle\\delta, \\psi \\ | \\ \\psi, \\delta \\rangle + \\langle\\psi, \\delta \\ | \\ \\delta, \\psi \\rangle}_{\\text{dot product is commutative}})$$\n",
    "\n",
    "Tensor product has the property\n",
    "\n",
    "$$(A\\otimes B) \\cdot (C \\otimes D) = (A \\cdot C) \\otimes (B \\cdot D)$$\n",
    "\n",
    "Which means that now\n",
    "\n",
    "$$\\langle\\delta, \\psi \\ | \\ \\psi, \\delta \\rangle = \\underbrace{\\langle \\delta \\ | \\ \\psi \\rangle \\otimes \\langle \\psi \\ | \\ \\delta \\rangle}_{\\text{dot product is commutative}} = | \\ \\langle \\psi \\ | \\ \\delta \\rangle \\ |^2$$\n",
    "\n",
    "Therefore,\n",
    "\n",
    "$$P(q_0 \\searrow |0\\rangle) = \\frac{1}{2} \\ (1 + |\\langle \\ \\psi \\ | \\ \\delta \\ \\rangle|^2)$$"
   ]
  },
  {
   "cell_type": "markdown",
   "metadata": {},
   "source": [
    "When $\\psi$ is identical to $\\delta$, \n",
    "\n",
    "$$P(q_0 \\searrow |0\\rangle) = \\frac{1}{2} \\ (1 + |\\langle \\ \\psi \\ | \\ \\psi \\ \\rangle|^2) = \\frac{1}{2} \\ (1 + 1) = 1$$\n",
    "\n",
    "We will get $|0\\rangle$ with 100% probability\n",
    "\n",
    "On the other hand, when $\\psi$ is orthogonal to $\\delta$,\n",
    "\n",
    "$$P(q_0 \\searrow |0\\rangle) = \\frac{1}{2} \\ (1 + |\\langle \\ \\psi \\ | \\ \\psi \\ \\rangle|^2) = \\frac{1}{2} \\ (1 + 0) = \\frac{1}{2}$$\n",
    "\n",
    "We will get $|0\\rangle$ with 50% probability\n",
    "\n",
    "All other states will return probability of gettin $|0\\rangle$ between 50% and 100%"
   ]
  },
  {
   "cell_type": "markdown",
   "metadata": {},
   "source": [
    "For our purposes, we can defined a loss function that returns $0$ if two states are identical and $1$ if two states are orthogonal for input $x^{(i)}$. All other combinations return values between $0$ and $1$.\n",
    "\n",
    "$$\\mathscr{L}(W^{(i)}) = 1-|\\langle \\hat{y}^{(i)} | y^{(i)} \\rangle|^2$$"
   ]
  },
  {
   "cell_type": "markdown",
   "metadata": {},
   "source": [
    "We defined a cost function that averages over the loss of all the individual training examples."
   ]
  },
  {
   "cell_type": "markdown",
   "metadata": {},
   "source": [
    "$$J(W)  = \\frac{1}{N} \\sum^{N-1}_{i=0} \\mathscr{L}(W^{(i)}) = \\frac{1}{N} \\sum^{N-1}_{i=0} 1 - |\\langle \\hat{y}^{(i)} | y^{(i)} \\rangle|^2  = 1 - \\frac{1}{N} \\sum^{N-1}_{i=0}|\\langle \\hat{y}^{(i)} | y^{(i)} \\rangle|^2$$\n",
    "\n",
    "where $N$ is the number of training examples"
   ]
  },
  {
   "cell_type": "code",
   "execution_count": 489,
   "metadata": {
    "code_folding": []
   },
   "outputs": [],
   "source": [
    "def cost(y_hat, y):\n",
    "    \n",
    "    \"\"\"\n",
    "    \n",
    "    Compute the cost function using the complex dot product\n",
    "    \n",
    "    Parameters\n",
    "    ----------\n",
    "    y: ndarray\n",
    "        The true y value generated from a preset matrix (see step 4: Create Data)\n",
    "    y_hat: ndarray\n",
    "        The predicted y value from a learned set of weights (see step 6: Forward Propagation)\n",
    "    \n",
    "    Returns\n",
    "    -------\n",
    "    J: float\n",
    "        Scalar matrix to indicate the overall performance of the current set of weights\n",
    "    \n",
    "    \"\"\"\n",
    "    \n",
    "    J = 1 - np.mean(np.abs(np.sum(np.conj(y) * y_hat, axis = 0))**2)\n",
    "    \n",
    "    return J"
   ]
  },
  {
   "cell_type": "markdown",
   "metadata": {},
   "source": [
    "### Step 8: Backpropagation"
   ]
  },
  {
   "cell_type": "markdown",
   "metadata": {},
   "source": [
    "The forward progagation on one example from Step 7 gives us\n",
    "\n",
    "$$\\hat{y}_i = W_\\gamma \\cdot x_i = \\begin{bmatrix} \\alpha_0 & \\alpha_1 \\\\ \\beta_0 & \\beta_1 \\end{bmatrix} \\begin{pmatrix} x_0 \\\\ x_1 \\end{pmatrix} = \\begin{pmatrix} \\alpha_0 x_0 + \\alpha_1 x_1 \\\\ \\beta_0 x_0 + \\beta_1 x_1 \\end{pmatrix}$$\n",
    "\n",
    "However, because $A, B, C, X$ are all elements of the group $U(2)$. We know that the product matrix of all these matrices is also a $U(2)$ matrix (from the closure property of group theory).\n",
    "\n",
    "Thus,\n",
    "\n",
    "$$\\begin{bmatrix} \\alpha_0 & \\alpha_1 \\\\ \\beta_0 & \\beta_1 \\end{bmatrix} \\begin{pmatrix} x_0 \\\\ x_1 \\end{pmatrix} = \\begin{bmatrix} {\\cos (\\frac{\\theta}{2})} & -e^{i \\lambda}\\sin \\frac{\\theta}{2} \\\\ e^{i \\phi}\\sin \\frac{\\theta}{2} & e^{i(\\phi + \\lambda)}\\cos \\frac{\\theta}{2} \\end{bmatrix} \\begin{pmatrix} x_0 \\\\ x_1 \\end{pmatrix}$$"
   ]
  },
  {
   "cell_type": "markdown",
   "metadata": {},
   "source": [
    "$$= \\begin{bmatrix}\\cos (\\frac{\\theta}{2}) \\cdot x_0 - e^{i\\lambda}\\sin (\\frac{\\theta}{2}) \\cdot x_1 \\\\ e^{i \\phi} \\ [\\sin(\\frac{\\theta}{2}) \\cdot x_0 + e^{i\\lambda}\\cos(\\frac{\\theta}{2})\\cdot x_1]\\end{bmatrix}$$"
   ]
  },
  {
   "cell_type": "markdown",
   "metadata": {},
   "source": [
    "To find the local minimum, update the parameters opposite of the direction of steepest descent. Backpropagation calculates derivative of the cost function with respect to each of the matrix parameters.\n",
    "\n",
    "From above\n",
    "\n",
    "$$J(W)  = \\frac{1}{N} \\sum^{N-1}_{i=0} 1 - |\\langle \\hat{y}^{(i)} | y^{(i)} \\rangle|^2  = 1 - \\frac{1}{N} \\sum^{N-1}_{i=0}|\\langle \\hat{y}^{(i)} | y^{(i)} \\rangle|^2$$\n",
    "\n",
    "The cost function can be rewritten as "
   ]
  },
  {
   "cell_type": "markdown",
   "metadata": {},
   "source": [
    "$$\\begin{align} J(W) &= 1 - \\frac{1}{N} \\sum^{N-1}_{i=0} \\underbrace{|\\overline{(\\alpha_0 x_0 + \\alpha_1 x_1)} \\cdot y_0 + \\overline{(\\beta_0 x_0 + \\beta_1 x_1)} \\cdot y_1|^2}_{L(W)} \\\\ &= 1 - \\frac{1}{N} \\sum^{N-1}_{i=0} \\big{|} \\ \\overline{ (\\cos (\\theta/2) \\cdot x_0 - e^{i\\lambda}\\sin (\\theta/2) \\cdot x_1)} \\cdot y_0 + \\overline{e^{i \\phi} \\ [\\sin(\\theta/2) \\cdot x_0 + e^{i\\lambda}\\cos(\\theta/2)\\cdot x_1]} \\cdot y_1 \\ \\big{|}^{\\ 2} \\\\ &= 1 - \\frac{1}{N} \\sum^{N-1}_{i=0} \\big{|} \\ (\\cos (\\theta/2) \\cdot x_0 - e^{-i\\lambda}\\sin (\\theta/2) \\cdot x_1) \\cdot y_0 + e^{-i \\phi} \\ [\\sin(\\theta/2) \\cdot x_0 + e^{-i\\lambda}\\cos(\\theta/2)\\cdot x_1] \\cdot y_1 \\ \\big{|}^{\\ 2} \\end{align}$$"
   ]
  },
  {
   "cell_type": "markdown",
   "metadata": {},
   "source": [
    "Taking partial derivative with respect to the general parameters $w$\n",
    "\n",
    "$$\\begin{align} \\frac{\\partial}{\\partial w}J(W) &= -\\frac{1}{N} \\sum^{N-1}_{i=0} \\frac{\\partial}{\\partial w} |\\langle \\hat{y}^{(i)} | y^{(i)} \\rangle|^2 \\\\ &= -\\frac{2}{N} \\sum^{N-1}_{i=0}\\langle \\hat{y}^{(i)} | y^{(i)} \\rangle \\cdot \\frac{\\partial}{\\partial w} \\langle \\hat{y}^{(i)} | y^{(i)} \\rangle \\end{align}$$ "
   ]
  },
  {
   "cell_type": "markdown",
   "metadata": {},
   "source": [
    "With\n",
    "\n",
    "$$\\langle \\hat{y}^{(i)} | y^{(i)} \\rangle = [\\cos (\\theta/2) \\cdot x_0 - e^{-i\\lambda}\\sin (\\theta/2) \\cdot x_1] \\cdot y_0 + e^{-i \\phi} \\ [\\sin(\\theta/2) \\cdot x_0 + e^{-i\\lambda}\\cos(\\theta/2)\\cdot x_1] \\cdot y_1$$"
   ]
  },
  {
   "cell_type": "markdown",
   "metadata": {},
   "source": [
    "For each of the matrix parameters ($\\theta, \\phi, \\lambda$), we get\n",
    "\n",
    "$$\\begin{align} \\frac{\\partial}{\\partial \\theta} \\langle \\hat{y}^{(i)} | y^{(i)} \\rangle &= -\\frac{1}{2} \\big{(} \\sin(\\theta/2)\\cdot x_0y_0 + e^{-i \\lambda} \\cos(\\theta/2)\\cdot x_1y_0 - e^{-i\\phi}\\cos({\\theta/2})\\cdot x_0y_1 + e^{-i (\\phi + \\lambda)} \\sin(\\theta/2)\\cdot x_1y_1\\big{)} \\\\\\\\ \\frac{\\partial}{\\partial \\phi} \\langle \\hat{y}^{(i)} | y^{(i)} \\rangle &= -i e^{-i\\phi} \\ [\\sin(\\theta/2) \\cdot x_0 + e^{-i\\lambda}\\cos(\\theta/2)\\cdot x_1] \\cdot y_1 \\\\\\\\ \\frac{\\partial}{\\partial \\lambda} \\langle \\hat{y}^{(i)} | y^{(i)} \\rangle &= i e^{-i\\lambda} \\ [\\sin(\\theta/2)\\cdot y_0 - \\cos(\\theta/2)\\cdot y_1]\\cdot x_1\\end{align}$$"
   ]
  }
 ],
 "metadata": {
  "kernelspec": {
   "display_name": "Python 3",
   "language": "python",
   "name": "python3"
  },
  "language_info": {
   "codemirror_mode": {
    "name": "ipython",
    "version": 3
   },
   "file_extension": ".py",
   "mimetype": "text/x-python",
   "name": "python",
   "nbconvert_exporter": "python",
   "pygments_lexer": "ipython3",
   "version": "3.8.3"
  }
 },
 "nbformat": 4,
 "nbformat_minor": 2
}
