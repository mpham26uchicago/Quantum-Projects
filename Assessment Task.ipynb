{
 "cells": [
  {
   "cell_type": "markdown",
   "metadata": {},
   "source": [
    "### Import"
   ]
  },
  {
   "cell_type": "code",
   "execution_count": 67,
   "metadata": {},
   "outputs": [],
   "source": [
    "import numpy as np\n",
    "import sympy as sp\n",
    "\n",
    "import matplotlib\n",
    "import matplotlib.pyplot as plt \n",
    "matplotlib.use('Agg')\n",
    "\n",
    "from sympy import Matrix, init_printing\n",
    "\n",
    "import qiskit\n",
    "from qiskit import *\n",
    "\n",
    "# Representing Data\n",
    "from qiskit.providers.aer import QasmSimulator, StatevectorSimulator, UnitarySimulator\n",
    "from qiskit.tools.visualization import plot_histogram, plot_state_city, plot_bloch_multivector\n",
    "\n",
    "# Monitor Job on Real Machine\n",
    "from qiskit.tools.monitor import job_monitor\n",
    "\n",
    "from functools import reduce # perform sucessive tensor product\n",
    "\n",
    "# Calculating cost\n",
    "from sklearn.metrics import mean_squared_error\n",
    "\n",
    "# Generating random unitary matrix\n",
    "from scipy.stats import unitary_group\n",
    "\n",
    "# Measure run time\n",
    "import time\n",
    "\n",
    "# Almost Equal\n",
    "from numpy.testing import assert_almost_equal as aae"
   ]
  },
  {
   "cell_type": "markdown",
   "metadata": {},
   "source": [
    "### Useful Resources"
   ]
  },
  {
   "cell_type": "markdown",
   "metadata": {},
   "source": [
    "###### Helpful Linear Algebra Matrices and Methods"
   ]
  },
  {
   "cell_type": "code",
   "execution_count": 68,
   "metadata": {},
   "outputs": [],
   "source": [
    "# Matrices\n",
    "I = np.array([[1, 0], [0, 1]])\n",
    "X = np.array([[0, 1], [1, 0]])\n",
    "Y = np.array([[0, -1j], [1j, 0]])\n",
    "Z = np.array([[1, 0], [0, -1]])\n",
    "H = 1/np.sqrt(2)*np.array([[1, 1], [1, -1]])\n",
    "\n",
    "CX = np.array([[1, 0, 0, 0], [0, 0, 0, 1], [0, 0, 1, 0], [0, 1, 0, 0]])\n",
    "\n",
    "# Eigenvectors of Pauli Matrices\n",
    "zero = np.array([[1], [0]]) # Z plus basis state\n",
    "one = np.array([[0], [1]]) # Z plus basis state\n",
    "\n",
    "plus = np.array([[1], [1]])/np.sqrt(2) # X plus basis state\n",
    "minus = np.array([[1], [-1]])/np.sqrt(2) # X minus basis state\n",
    "\n",
    "up = np.array([[1], [1j]])/np.sqrt(2) # Y plus basis state\n",
    "down = np.array([[1], [-1j]])/np.sqrt(2) # Y plus basis state\n",
    "\n",
    "# Bell States\n",
    "B00 = np.array([[1], [0], [0], [1]])/np.sqrt(2) # Bell of 00\n",
    "B01 = np.array([[1], [0], [0], [-1]])/np.sqrt(2) # Bell of 01\n",
    "B10 = np.array([[0], [1], [1], [0]])/np.sqrt(2) # Bell of 10\n",
    "B11 = np.array([[0], [-1], [1], [0]])/np.sqrt(2) # Bell of 11\n",
    "\n",
    "# Rn Matrix Function\n",
    "Rx = lambda theta: np.array([[np.cos(theta/2), -1j*np.sin(theta/2)], [-1j*np.sin(theta/2), np.cos(theta/2)]])\n",
    "Ry = lambda theta: np.array([[np.cos(theta/2), -np.sin(theta/2)], [np.sin(theta/2), np.cos(theta/2)]])\n",
    "Rz = lambda theta: np.array([[np.exp(-1j*theta/2), 0], [0, np.exp(1j*theta/2)]])\n",
    "\n",
    "# Tensor Product of 2+ matrices/ vectors\n",
    "tensor = lambda *initial_state: reduce(lambda x, y: np.kron(x, y), initial_state)"
   ]
  },
  {
   "cell_type": "markdown",
   "metadata": {},
   "source": [
    "###### CX Matrix"
   ]
  },
  {
   "cell_type": "code",
   "execution_count": 69,
   "metadata": {},
   "outputs": [],
   "source": [
    "def cx_matrix(no_qubits, control, target):\n",
    "    \n",
    "    \"\"\"\n",
    "    Manually build the unitary matrix for non-adjacent CX gates\n",
    "    \n",
    "    Parameters:\n",
    "    -----------\n",
    "    no_qubits: int\n",
    "        Number of qubits in the circuit\n",
    "    control: int\n",
    "        Index of the control qubit (1st qubit is index 0)\n",
    "    target: int\n",
    "        Index of the target qubit (1st qubit is index 0)\n",
    "        \n",
    "    Returns:\n",
    "    --------\n",
    "    cx_out:\n",
    "        Unitary matrix for non-adjacent CX gate\n",
    "    \"\"\"\n",
    "\n",
    "    \n",
    "    left = [I]*no_qubits\n",
    "    right = [I]*no_qubits\n",
    "\n",
    "    left[control] = np.dot(zero, zero.T)\n",
    "    right[control] = np.dot(one, one.T)\n",
    "\n",
    "    right[target] = X\n",
    "    \n",
    "    cx_out = tensor(*left) + tensor(*right)\n",
    "          \n",
    "    return cx_out"
   ]
  },
  {
   "cell_type": "markdown",
   "metadata": {},
   "source": [
    "###### View Matrix"
   ]
  },
  {
   "cell_type": "code",
   "execution_count": 70,
   "metadata": {},
   "outputs": [],
   "source": [
    "def view(mat):\n",
    "    display(Matrix(mat))"
   ]
  },
  {
   "cell_type": "markdown",
   "metadata": {},
   "source": [
    "###### Get Unitary/StateVector Function"
   ]
  },
  {
   "cell_type": "code",
   "execution_count": 744,
   "metadata": {},
   "outputs": [],
   "source": [
    "def get(circ, types = 'unitary', nice = True):\n",
    "    \n",
    "    \"\"\"\n",
    "    This function return the statevector or the unitary of the inputted circuit\n",
    "    \n",
    "    Parameters:\n",
    "    -----------\n",
    "    circ: QuantumCircuit\n",
    "        Inputted circuit without measurement gate\n",
    "    types: str ('unitary')\n",
    "        Get 'unitary' or 'statevector' option\n",
    "    nice: bool\n",
    "        Display the result nicely option or just return unitary/statevector as ndarray\n",
    "        \n",
    "    Returns:\n",
    "    --------\n",
    "    out: ndarray\n",
    "        Outputted unitary of statevector\n",
    "        \n",
    "    \"\"\"\n",
    "    \n",
    "    if types == 'statevector':\n",
    "        backend = BasicAer.get_backend('statevector_simulator')\n",
    "        out = execute(circ, backend).result().get_statevector()\n",
    "    else: \n",
    "        backend = BasicAer.get_backend('unitary_simulator')\n",
    "        out = execute(circ, backend).result().get_unitary()\n",
    "        \n",
    "    if nice:\n",
    "        display(Matrix(np.round(out, 10))) \n",
    "    else:\n",
    "        return out"
   ]
  },
  {
   "cell_type": "markdown",
   "metadata": {},
   "source": [
    "###### Milk (Draw Circuit in Reversed Order)"
   ]
  },
  {
   "cell_type": "code",
   "execution_count": 676,
   "metadata": {},
   "outputs": [],
   "source": [
    "def milk(circ):\n",
    "    return circ.draw(output = 'mpl', reverse_bits='false')"
   ]
  },
  {
   "cell_type": "markdown",
   "metadata": {},
   "source": [
    "###### Convert ndarray to list"
   ]
  },
  {
   "cell_type": "code",
   "execution_count": 73,
   "metadata": {},
   "outputs": [],
   "source": [
    "to_list = lambda array: list(np.squeeze(array))"
   ]
  },
  {
   "cell_type": "markdown",
   "metadata": {},
   "source": [
    "###### Displaying Output"
   ]
  },
  {
   "cell_type": "code",
   "execution_count": 568,
   "metadata": {},
   "outputs": [],
   "source": [
    "def sim(circ, visual = 'hist'):\n",
    "    \n",
    "    \"\"\"\n",
    "    Displaying output of quantum circuit\n",
    "    \n",
    "    Parameters:\n",
    "    -----------\n",
    "    circ: QuantumCircuit\n",
    "        QuantumCircuit with or without measurement gates\n",
    "    visual: str ('hist')\n",
    "        'hist' (counts on histogram) or 'bloch' (statevectors on Bloch sphere) or None (get counts only)\n",
    "        \n",
    "    Returns:\n",
    "    --------\n",
    "    counts: dict\n",
    "        Counts of each CBS state\n",
    "    \"\"\"\n",
    "    \n",
    "    # Simulate circuit and display counts on a histogram\n",
    "    if visual == 'hist':\n",
    "        simulator = Aer.get_backend('qasm_simulator')\n",
    "        results = execute(circ, simulator).result()\n",
    "        counts = results.get_counts(circ)\n",
    "        plot_histogram(counts)\n",
    "        \n",
    "        return counts\n",
    "        \n",
    "    # Get the statevector and display on a Bloch sphere\n",
    "    elif visual == 'bloch':\n",
    "        backend = BasicAer.get_backend('statevector_simulator')\n",
    "        statevector = execute(circ, backend).result().get_statevector()\n",
    "        get(circ)\n",
    "        plot_bloch_multivector(statevector)\n",
    "        \n",
    "    # Just get counts\n",
    "    else:\n",
    "        simulator = Aer.get_backend('qasm_simulator')\n",
    "        results = execute(circ, simulator).result()\n",
    "        counts = results.get_counts(circ)\n",
    "        \n",
    "        return counts"
   ]
  },
  {
   "cell_type": "markdown",
   "metadata": {},
   "source": [
    "### Problem\n",
    "\n",
    "The Swap test is a simple quantum circuit which, given two states, allows to compute how much do they differ from each other.\n",
    "\n",
    "1) Provide a variational (also called parametric) circuit which is able to generate the most general 1 qubit state. By most general 1 qubit state we mean that there exists a set of the parameters in the circuit such that any point in the Bloch sphere can be reached. Check that the circuit works correctly by showing that by varying randomly the parameters of your circuit you can reproduce correctly the Bloch sphere.\n",
    "\n",
    "2) Use the circuit built in step 1) and, using the SWAP test, find the best choice of your parameters to reproduce a randomly generated quantum state made with 1 qubit.\n",
    "\n",
    "3) Suppose you are given with a random state, made by N qubits, for which you only know that it is a product state and each of the qubits are in the state | 0 > or | 1>. By product state we mean that it can be written as the product of single qubit states, without the need to do any summation. For example, the state $|a\\rangle = |01\\rangle$ is a product state, while the state $|b\\rangle = |00\\rangle + |11\\rangle$ is not.\n",
    "\n",
    "Perform a qubit by qubit SWAP test to reconstruct the state. This part of the problem can be solved via a simple grid search.\n",
    "\n",
    "\n",
    "### Research\n",
    "   - https://en.wikipedia.org/wiki/Swap_test\n",
    "\n",
    "   - http://www.vcpc.univie.ac.at/~ian/hotlist/qc/talks/bloch-sphere-rotations.pdf"
   ]
  },
  {
   "cell_type": "markdown",
   "metadata": {},
   "source": [
    "### Plan\n",
    "\n",
    "#### Part 1:\n",
    "\n",
    "a. Create a circuit with two rotation gates\n",
    "\n",
    "b. Create a method to calculate the angles of the two gates based on the desired output.\n",
    "\n",
    "c. Check correct implementation by displaying statevector on the Bloch sphere\n",
    "\n",
    "#### Part 2:\n",
    "\n",
    "a. Build SWAP test complex\n",
    "\n",
    "b. Create a method for getting the probability of measurement\n",
    "\n",
    "c. Initialize Circuit Method\n",
    "\n",
    "d. Full SWAP Circuit + Probability Output\n",
    "\n",
    "e. Random Search Method\n",
    "\n",
    "#### Part 3:\n",
    "\n",
    "a. Method to product hidden product state\n",
    "\n",
    "b. SWAP test on product state method"
   ]
  },
  {
   "cell_type": "markdown",
   "metadata": {},
   "source": [
    "### Part 1:"
   ]
  },
  {
   "cell_type": "markdown",
   "metadata": {},
   "source": [
    "#### a. Create a circuit with two rotation gates"
   ]
  },
  {
   "cell_type": "markdown",
   "metadata": {},
   "source": [
    "Using the geometric representation of a Bloch sphere, we can see that any ray can be transform from $|0\\rangle$ by rotations about two different axes.\n",
    "\n",
    "In this case, we will use an x-rotation followed an y-rotation"
   ]
  },
  {
   "cell_type": "markdown",
   "metadata": {},
   "source": [
    "The two rotations used have the following matrix\n",
    "\n",
    "#### X-axis Rotation\n",
    "\n",
    "$$R_X( \\theta ) = \\begin{bmatrix} \\cos \\frac{\\theta}{2} & -i \\sin \\frac{\\theta}{2} \\\\ -i \\sin \\frac{\\theta}{2} & \\cos \\frac{\\theta}{2}  \\end{bmatrix}$$\n",
    "\n",
    "#### Y-axis Rotation\n",
    "\n",
    "$$R_Y( \\phi ) = \\begin{bmatrix} \\cos \\frac{\\phi}{2} & -\\sin \\frac{\\phi}{2} \\\\ \\sin \\frac{\\phi}{2} & \\cos \\frac{\\phi}{2}  \\end{bmatrix}$$\n",
    "\n",
    "The product of the two $R_y(\\phi)R_x(\\theta)$ gives\n",
    "\n",
    "$$R_y(\\phi)R_x(\\theta) = \\begin{bmatrix} a & b \\\\ c & d \\end{bmatrix}$$"
   ]
  },
  {
   "cell_type": "markdown",
   "metadata": {},
   "source": [
    "where,\n",
    "\n",
    "$$a = \\cos \\frac{\\phi}{2}\\cos \\frac{\\theta}{2} + i \\sin \\frac{\\phi}{2}\\sin \\frac{\\theta}{2}$$\n",
    "\n",
    "$$b = - \\sin \\frac{\\phi}{2}\\cos \\frac{\\theta}{2} - i \\cos \\frac{\\phi}{2}\\sin \\frac{\\theta}{2}$$\n",
    "\n",
    "$$c = \\sin \\frac{\\phi}{2}\\cos \\frac{\\theta}{2} - i \\cos \\frac{\\phi}{2}\\sin \\frac{\\theta}{2}$$\n",
    "\n",
    "$$d = \\cos \\frac{\\phi}{2}\\cos \\frac{\\theta}{2} - i \\sin \\frac{\\phi}{2}\\sin \\frac{\\theta}{2}$$"
   ]
  },
  {
   "cell_type": "markdown",
   "metadata": {},
   "source": [
    "We can implement this on a quantum circuit"
   ]
  },
  {
   "cell_type": "code",
   "execution_count": 883,
   "metadata": {},
   "outputs": [],
   "source": [
    "def r_circ(phi, theta, measure_gate = False, visual = True):\n",
    "    \n",
    "    \"\"\"\n",
    "    Build a Quantum Circuit with the rotation gates initialized to the correct angles\n",
    "    \n",
    "    Parameters:\n",
    "    -----------\n",
    "    phi: float\n",
    "        Angle to initialize the R_y matrix [0, 2pi)\n",
    "    theta: float\n",
    "        Angle to initialize the R_x matrix [0, 2pi)\n",
    "    measure_gate: bool (False)\n",
    "        Add measurement gate at the end option\n",
    "    visual: bool (True)\n",
    "        Draw circuit option\n",
    "    \n",
    "    Returns:\n",
    "    --------\n",
    "    circ: QuantumCircuit\n",
    "        Rotation circuit with inputted angles\n",
    "    \n",
    "    \"\"\"\n",
    "    \n",
    "    circ = QuantumCircuit(1, 1)\n",
    "\n",
    "    # Parametric gates\n",
    "    circ.rx(theta, 0)\n",
    "    circ.ry(phi, 0)\n",
    "\n",
    "    # Measure\n",
    "    if measure_gate:\n",
    "        circ.measure(0, 0)\n",
    "\n",
    "    # Draw Circuit\n",
    "    if visual:\n",
    "        circ.draw('mpl')\n",
    "        \n",
    "    return circ"
   ]
  },
  {
   "cell_type": "code",
   "execution_count": 884,
   "metadata": {},
   "outputs": [
    {
     "data": {
      "image/png": "[encoded data removed]",
      "text/plain": [
       "<Figure size 253.926x144.48 with 1 Axes>"
      ]
     },
     "metadata": {},
     "output_type": "display_data"
    }
   ],
   "source": [
    "c = r_circ(np.pi, 0, True)"
   ]
  },
  {
   "cell_type": "markdown",
   "metadata": {},
   "source": [
    "#### b. Create a method to calculate the angles of the two gates based on the desired output."
   ]
  },
  {
   "cell_type": "markdown",
   "metadata": {},
   "source": [
    "The assesment task requires that this circuit can generate the most general 1-qubit states. To show this, we have to devise a way to find the appropriate $\\phi$ and $\\theta$ for any output statevector.\n",
    "\n",
    "More rigorously, find $\\phi$, $\\theta$ such that\n",
    "\n",
    "$$R_y(\\phi)R_x(\\theta) \\ |0\\rangle \\longrightarrow \\vec{v} \\in \\mathcal{H}$$"
   ]
  },
  {
   "cell_type": "markdown",
   "metadata": {},
   "source": [
    "First, we can separate each component of the rotation composition into its real and complex part\n",
    "\n",
    "$$R_y(\\phi)R_x(\\theta) = \\begin{bmatrix} \\cos \\frac{\\phi}{2}\\cos \\frac{\\theta}{2} & - \\sin \\frac{\\phi}{2}\\cos \\frac{\\theta}{2} \\\\ \\sin \\frac{\\phi}{2}\\cos \\frac{\\theta}{2} & \\cos \\frac{\\phi}{2}\\cos \\frac{\\theta}{2}\\end{bmatrix} + i \\begin{bmatrix} \\sin \\frac{\\phi}{2}\\sin \\frac{\\theta}{2} & - \\cos \\frac{\\phi}{2}\\sin \\frac{\\theta}{2} \\\\ -\\cos \\frac{\\phi}{2}\\sin \\frac{\\theta}{2} & \\sin \\frac{\\phi}{2}\\sin \\frac{\\theta}{2}\\end{bmatrix}$$ "
   ]
  },
  {
   "cell_type": "markdown",
   "metadata": {},
   "source": [
    "We can represent an arbitrary output statevector as\n",
    "\n",
    "$$\\begin{pmatrix} x + y i \\\\ z + wi \\end{pmatrix} = R_y(\\phi)R_x(\\theta) \\ |0\\rangle = \\begin{pmatrix} \\cos \\frac{\\phi}{2}\\cos \\frac{\\theta}{2} + i \\sin \\frac{\\phi}{2}\\sin \\frac{\\theta}{2} \\\\ \\sin \\frac{\\phi}{2}\\cos \\frac{\\theta}{2} - i \\cos \\frac{\\phi}{2}\\sin \\frac{\\theta}{2}\\end{pmatrix}$$"
   ]
  },
  {
   "cell_type": "markdown",
   "metadata": {},
   "source": [
    "From which we can outline 4 equalities,\n",
    "\n",
    "$$x = \\cos \\frac{\\phi}{2}\\cos \\frac{\\theta}{2}$$\n",
    "\n",
    "$$y = \\sin \\frac{\\phi}{2}\\sin \\frac{\\theta}{2}$$\n",
    "\n",
    "$$z = \\sin \\frac{\\phi}{2}\\cos \\frac{\\theta}{2}$$\n",
    "\n",
    "$$w = -\\cos \\frac{\\phi}{2}\\sin \\frac{\\theta}{2}$$"
   ]
  },
  {
   "cell_type": "markdown",
   "metadata": {},
   "source": [
    "Which follows that,\n",
    "\n",
    "$$\\frac{z}{x} = \\tan{\\frac{\\phi}{2}}$$\n",
    "\n",
    "$$\\frac{y}{z} = \\tan{\\frac{\\theta}{2}}$$\n",
    "\n",
    "And we can finally solve for $\\phi, \\theta$, \n",
    "\n",
    "Keep in mind that $\\textbf{atan2}$ is used here"
   ]
  },
  {
   "cell_type": "markdown",
   "metadata": {},
   "source": [
    "$$\\phi = 2\\tan^{-1}\\frac{z}{x}$$\n",
    "\n",
    "$$\\theta = 2\\tan^{-1}\\frac{y}{z}$$"
   ]
  },
  {
   "cell_type": "markdown",
   "metadata": {},
   "source": [
    "The code below test for correctness $10,000$ times\n",
    "```python\n",
    "\n",
    "for i in range(10_000):\n",
    "\n",
    "    # Random Angle\n",
    "\n",
    "    phi = np.random.uniform(low = -np.pi, high = np.pi)\n",
    "    theta = np.random.uniform(low = -np.pi, high = np.pi)\n",
    "\n",
    "    ## Original Matrix\n",
    "\n",
    "    a = np.cos(phi/2)*np.cos(theta/2)+1j*np.sin(phi/2)*np.sin(theta/2)\n",
    "    b = -(1j*np.cos(phi/2)*np.sin(theta/2)+np.sin(phi/2)*np.cos(theta/2))\n",
    "    c = np.sin(phi/2)*np.cos(theta/2)-1j*np.cos(phi/2)*np.sin(theta/2)\n",
    "    d = -1j*np.sin(phi/2)*np.sin(theta/2)+np.cos(phi/2)*np.cos(theta/2)\n",
    "\n",
    "    ## Extracted elements\n",
    "\n",
    "    x = np.cos(phi/2)*np.cos(theta/2)\n",
    "    y = np.sin(phi/2)*np.sin(theta/2)\n",
    "    z = np.sin(phi/2)*np.cos(theta/2)\n",
    "    w = -np.cos(phi/2)*np.sin(theta/2)\n",
    "\n",
    "    # Assert that the element is a, c\n",
    "\n",
    "    aae(x+1j*y, a)\n",
    "    aae(z+1j*w, c)\n",
    "\n",
    "    # Assert that phi, theta is found\n",
    "\n",
    "    phi_test = 2*np.arctan2(z,x)\n",
    "    theta_test = 2*np.arctan2(y,z)\n",
    "\n",
    "    aae(np.tan(phi_test), np.tan(phi))\n",
    "    aae(np.tan(theta_test), np.tan(theta))\n",
    "    \n",
    "```"
   ]
  },
  {
   "cell_type": "markdown",
   "metadata": {},
   "source": [
    "The function below calculate the correct $\\phi$, $\\theta$ from an arbitrary output statevector"
   ]
  },
  {
   "cell_type": "code",
   "execution_count": 887,
   "metadata": {},
   "outputs": [],
   "source": [
    "def angles_from_statevectors(output_statevector):\n",
    "    \n",
    "    \"\"\"\n",
    "    Calculate correct x, y rotation angles from an arbitrary output statevector\n",
    "    \n",
    "    Paramters:\n",
    "    ----------\n",
    "    output_statevector: ndarray\n",
    "        Desired output state\n",
    "        \n",
    "    Returns:\n",
    "    --------\n",
    "    phi: float\n",
    "        Angle to rotate about the y-axis [0, 2pi)\n",
    "    theta: float\n",
    "        Angle to rotate about the x-axis [0, 2pi)\n",
    "    \n",
    "    \"\"\"\n",
    "    \n",
    "    # Extract the components\n",
    "    x, z = output_statevector.real\n",
    "    y, w = output_statevector.imag\n",
    "    \n",
    "    # Calculate the correct angles\n",
    "    phi = 2*np.arctan2(z,x)[0]\n",
    "    theta = 2*np.arctan2(y,z)[0]\n",
    "    \n",
    "    print(f'phi: {phi}')\n",
    "    print(f'theta: {theta}')\n",
    "    \n",
    "    return phi, theta"
   ]
  },
  {
   "cell_type": "code",
   "execution_count": 888,
   "metadata": {},
   "outputs": [
    {
     "name": "stdout",
     "output_type": "stream",
     "text": [
      "phi: 3.141592653589793\n",
      "theta: 0.0\n"
     ]
    },
    {
     "data": {
      "text/plain": [
       "(3.141592653589793, 0.0)"
      ]
     },
     "execution_count": 888,
     "metadata": {},
     "output_type": "execute_result"
    }
   ],
   "source": [
    "angles_from_statevectors(one)"
   ]
  },
  {
   "cell_type": "markdown",
   "metadata": {},
   "source": [
    "#### c. Check correct implementation by displaying statevector on the Bloch sphere"
   ]
  },
  {
   "cell_type": "markdown",
   "metadata": {},
   "source": [
    "By varying the parameters of the circuit, all the rays on the Bloch sphere can be reached."
   ]
  },
  {
   "cell_type": "markdown",
   "metadata": {},
   "source": [
    "First, generate random values for $\\phi$, $\\theta$ in the range $[0, 2\\pi)$ "
   ]
  },
  {
   "cell_type": "code",
   "execution_count": 889,
   "metadata": {},
   "outputs": [
    {
     "name": "stdout",
     "output_type": "stream",
     "text": [
      "phi: 5.757231886607886\n",
      "theta: 5.617508387450708\n"
     ]
    }
   ],
   "source": [
    "phi = np.random.uniform(low = 0, high = 2*np.pi)\n",
    "theta = np.random.uniform(low = 0, high = 2*np.pi)\n",
    "\n",
    "print(f'phi: {phi}')\n",
    "print(f'theta: {theta}')"
   ]
  },
  {
   "cell_type": "markdown",
   "metadata": {},
   "source": [
    "Second, create a quantum circuit with these states using the method from part 1a."
   ]
  },
  {
   "cell_type": "code",
   "execution_count": 890,
   "metadata": {},
   "outputs": [
    {
     "data": {
      "image/png": "[encoded data removed]",
      "text/plain": [
       "<Figure size 193.726x144.48 with 1 Axes>"
      ]
     },
     "metadata": {},
     "output_type": "display_data"
    }
   ],
   "source": [
    "circ = r_circ(phi, theta, measure_gate = False)"
   ]
  },
  {
   "cell_type": "markdown",
   "metadata": {},
   "source": [
    "Finally measure the output and represent the statevector on a Bloch sphere using the method from the 'Displaying Output' section."
   ]
  },
  {
   "cell_type": "code",
   "execution_count": 893,
   "metadata": {
    "scrolled": true
   },
   "outputs": [
    {
     "data": {
      "text/latex": [
       "$\\displaystyle \\left[\\begin{matrix}0.9165697415 & 0.2738677548 + 0.2913698027 i\\\\-0.2153966894 + 0.3369038071 i & 0.9008286616 - 0.1691384443 i\\end{matrix}\\right]$"
      ],
      "text/plain": [
       "Matrix([\n",
       "[                  0.9165697415, 0.2738677548 + 0.2913698027*I],\n",
       "[-0.2153966894 + 0.3369038071*I, 0.9008286616 - 0.1691384443*I]])"
      ]
     },
     "metadata": {},
     "output_type": "display_data"
    },
    {
     "data": {
      "image/png": "[encoded data removed]",
      "text/plain": [
       "<Figure size 288x288 with 1 Axes>"
      ]
     },
     "metadata": {},
     "output_type": "display_data"
    }
   ],
   "source": [
    "sim(circ, visual = 'bloch')"
   ]
  },
  {
   "cell_type": "markdown",
   "metadata": {},
   "source": [
    "### Part 2:"
   ]
  },
  {
   "cell_type": "markdown",
   "metadata": {},
   "source": [
    "#### a. Build SWAP test complex"
   ]
  },
  {
   "cell_type": "markdown",
   "metadata": {},
   "source": [
    "We start with building the SWAP test complex. Later we can build a function to initialize the constant and the test qubit.\n",
    "\n",
    "For this circuit, the 2nd qubit will be the constant qubit, and the 3rd qubit will be the the test qubit"
   ]
  },
  {
   "cell_type": "code",
   "execution_count": 894,
   "metadata": {},
   "outputs": [],
   "source": [
    "def SWAP_circ(visual = True):\n",
    "    \n",
    "    \"\"\"\n",
    "    Build SWAP test complex\n",
    "    \n",
    "    Parameters:\n",
    "    -----------\n",
    "    \n",
    "    visual: bool (True)\n",
    "        Draw circuit option\n",
    "    \n",
    "    Returns:\n",
    "    --------\n",
    "    circ: QuantumCircuit\n",
    "        SWAP complex circuit with measurement gate\n",
    "    \n",
    "    \"\"\"\n",
    "\n",
    "    # Initialize\n",
    "    circ = QuantumCircuit(3, 1)\n",
    "\n",
    "    # SWAP Test\n",
    "    circ.h(0)\n",
    "    circ.barrier()\n",
    "    circ.cswap(0, 1, 2)\n",
    "    circ.barrier()\n",
    "    circ.h(0)\n",
    "    circ.barrier()\n",
    "\n",
    "    # Measurement\n",
    "    circ.measure(0, 0)\n",
    "\n",
    "    if visual:  \n",
    "        circ.draw('mpl')\n",
    "        \n",
    "    return circ"
   ]
  },
  {
   "cell_type": "code",
   "execution_count": 895,
   "metadata": {},
   "outputs": [
    {
     "data": {
      "image/png": "[encoded data removed]",
      "text/plain": [
       "<Figure size 507.997x264.88 with 1 Axes>"
      ]
     },
     "metadata": {},
     "output_type": "display_data"
    }
   ],
   "source": [
    "c = SWAP_circ()"
   ]
  },
  {
   "cell_type": "markdown",
   "metadata": {},
   "source": [
    "#### b. Create a method for getting the probability of measurement"
   ]
  },
  {
   "cell_type": "markdown",
   "metadata": {},
   "source": [
    "For the circuit above, we use barriers to denotes checkpoints.\n",
    "\n",
    "Let's call the state in $q_1$, $\\delta$ (delta) and $q_2$, $\\psi$ (psi). We start with the initial state $|0, \\delta, \\psi\\rangle$.\n",
    "\n",
    "Recall that $\\delta$ is the constant state and $\\psi$ is the test state\n",
    "\n",
    "At the first check point, we apply a Hadamard gate on the first qubit\n",
    "\n",
    "$$H \\ |0, \\delta, \\psi\\rangle = \\frac{1}{\\sqrt{2}} \\ (|0\\rangle + |1\\rangle) \\ |\\delta, \\psi\\rangle = \\frac{1}{\\sqrt{2}} \\ (|0, \\delta, \\psi\\rangle + |1, \\delta, \\psi \\rangle)$$\n",
    "\n",
    "At the second check point, we apply a control SWAP gate on all three qubits (control: $q_0$, targets: $q_1, q_2$)\n",
    "\n",
    "$$\\text{CSWAP} \\frac{1}{\\sqrt{2}} \\ (|0, \\delta, \\psi\\rangle + |1, \\delta, \\psi \\rangle) = \\frac{1}{\\sqrt{2}} \\ (|0, \\delta, \\psi \\rangle + \\underbrace{|1, \\psi, \\delta \\rangle)}_{\\delta \\text{ and } \\psi \\text{ is swapped}}$$\n",
    "\n",
    "At the third check point, we apply another Hadamard on the first qubit on the\n",
    "\n",
    "$$H \\ \\frac{1}{\\sqrt{2}} \\ (|0, \\delta, \\psi \\rangle + |1, \\psi, \\delta \\rangle) = \\frac{1}{2} \\ (|0, \\delta, \\psi \\rangle + |1, \\delta, \\psi \\rangle + |0, \\psi, \\delta \\rangle - |1, \\psi, \\delta \\rangle)$$\n",
    "\n",
    "Because we know we want to measure the state $|0\\rangle$, we can factor it out\n",
    "\n",
    "$$\\frac{1}{2} \\ (|\\delta, \\psi \\rangle + |\\psi, \\delta \\rangle) \\ |0\\rangle + (|\\delta, \\psi \\rangle - |\\psi, \\delta \\rangle) \\ |1\\rangle$$"
   ]
  },
  {
   "cell_type": "markdown",
   "metadata": {},
   "source": [
    "Now, to find to probability of measuring $|0\\rangle$, we take the dot product of the amplitude\n",
    "\n",
    "$$P(q_0 \\searrow 0) = \\frac{1}{2}(\\langle\\delta, \\psi | + \\langle \\psi, \\delta|) \\ \\frac{1}{2} \\ (|\\delta, \\psi \\rangle + |\\psi, \\delta \\rangle)$$"
   ]
  },
  {
   "cell_type": "markdown",
   "metadata": {},
   "source": [
    "$$ = \\frac{1}{4} (\\underbrace{\\langle\\delta, \\psi \\ | \\ \\delta, \\psi \\rangle}_{\\text{cancel to } 1} + \\langle\\delta, \\psi \\ | \\ \\psi, \\delta \\rangle + \\langle\\psi, \\delta \\ | \\ \\delta, \\psi \\rangle + \\underbrace{\\langle\\psi, \\delta \\ | \\ \\psi, \\delta \\rangle}_{\\text{cancel to } 1})$$"
   ]
  },
  {
   "cell_type": "markdown",
   "metadata": {},
   "source": [
    "$$ = \\frac{1}{4} (1 + 1 + \\underbrace{\\langle\\delta, \\psi \\ | \\ \\psi, \\delta \\rangle + \\langle\\psi, \\delta \\ | \\ \\delta, \\psi \\rangle}_{\\text{dot product is commutative}})$$"
   ]
  },
  {
   "cell_type": "markdown",
   "metadata": {},
   "source": [
    "$$= \\frac{1}{2}(1 + \\langle\\delta, \\psi \\ | \\ \\psi, \\delta \\rangle)$$"
   ]
  },
  {
   "cell_type": "markdown",
   "metadata": {},
   "source": [
    "Tensor product has the property\n",
    "\n",
    "$$(A\\otimes B) \\cdot (C \\otimes D) = (A \\cdot C) \\otimes (B \\cdot D)$$"
   ]
  },
  {
   "cell_type": "markdown",
   "metadata": {},
   "source": [
    "Which means that now\n",
    "\n",
    "$$\\langle\\delta, \\psi \\ | \\ \\psi, \\delta \\rangle = \\underbrace{\\langle \\delta \\ | \\ \\psi \\rangle \\otimes \\langle \\psi \\ | \\ \\delta \\rangle}_{\\text{dot product is commutative}} = | \\ \\langle \\psi \\ | \\ \\delta \\rangle \\ |^2$$\n",
    "\n",
    "Therefore,\n",
    "\n",
    "$$P(q_0 \\searrow |0\\rangle) = \\frac{1}{2} \\ (1 + |\\langle \\ \\psi \\ | \\ \\delta \\ \\rangle|^2)$$"
   ]
  },
  {
   "cell_type": "markdown",
   "metadata": {},
   "source": [
    "Now, we devise a way to measure the probability of getting $|0\\rangle$. We can use the 'sim' method from above to get the counts after measurements"
   ]
  },
  {
   "cell_type": "code",
   "execution_count": 595,
   "metadata": {},
   "outputs": [],
   "source": [
    "def prob_0(circ, visual = 'hist'):\n",
    "    \n",
    "    \"\"\"\n",
    "    Calculate the probability of getting |0> from simulating SWAP test circuit\n",
    "    \n",
    "    Parameters:\n",
    "    -----------\n",
    "    circ: QuantumCircuit\n",
    "        SWAP test circuit with initialized states and measurement gates\n",
    "        \n",
    "    visual: str ('hist')\n",
    "        Draw histogram option {'hist' (histogram), False (just counts)}\n",
    "        \n",
    "    Returns:\n",
    "    --------\n",
    "    P_0: float\n",
    "        Probability of getting |0>\n",
    "        \n",
    "    \"\"\"\n",
    "\n",
    "    # Measure the circuit to get counts\n",
    "        \n",
    "    zeroes = sim(circ, visual)\n",
    "\n",
    "    ## Calculate probability\n",
    "    P_0 = np.array(list(zeroes.values())[0]) / np.sum(np.array(list(zeroes.values())))\n",
    "    \n",
    "    return P_0"
   ]
  },
  {
   "cell_type": "code",
   "execution_count": 596,
   "metadata": {},
   "outputs": [
    {
     "data": {
      "text/plain": [
       "1.0"
      ]
     },
     "execution_count": 596,
     "metadata": {},
     "output_type": "execute_result"
    },
    {
     "data": {
      "image/png": "[encoded data removed]",
      "text/plain": [
       "<Figure size 504x360 with 1 Axes>"
      ]
     },
     "metadata": {
      "needs_background": "light"
     },
     "output_type": "display_data"
    }
   ],
   "source": [
    "prob_0(circ)"
   ]
  },
  {
   "cell_type": "markdown",
   "metadata": {},
   "source": [
    "#### c. Initialize Circuit Method"
   ]
  },
  {
   "cell_type": "markdown",
   "metadata": {},
   "source": [
    "The initialize method will initialize the constant qubit using an inputted statevector, and the test qubit by the two angles for its $R_x$ and $R_y$ gates"
   ]
  },
  {
   "cell_type": "code",
   "execution_count": 896,
   "metadata": {},
   "outputs": [],
   "source": [
    "def init_circ(constant_vector, phi_test, theta_test, visual = True):\n",
    "    \n",
    "    \"\"\"\n",
    "    Parameters:\n",
    "    -----------\n",
    "    constant_vector: ndarray\n",
    "        Initial statevector for the constant qubit\n",
    "        \n",
    "    phi_test: float \n",
    "        Angle of rotation for R_y gate [0, 2*np.pi)\n",
    "        \n",
    "    theta_test: float\n",
    "        Angle of rotation for R_x gate [0, 2*np.pi)\n",
    "    \n",
    "    visual: bool (True)\n",
    "        Draw circuit option\n",
    "    \n",
    "    Returns:\n",
    "    --------\n",
    "    circ: QuantumCircuit\n",
    "        Circuit initialized with constant statevector, phi on R_y, theta on R_x\n",
    "        \n",
    "    \"\"\"\n",
    "    \n",
    "    circ = QuantumCircuit(3, 1)\n",
    "\n",
    "    # Initialize constant qubit\n",
    "    circ.initialize(to_list(constant_vector), 1)\n",
    "\n",
    "    # Initialize test qubit\n",
    "    circ.rx(theta_test, 2)\n",
    "    circ.ry(phi_test, 2)\n",
    "\n",
    "    circ.barrier()\n",
    "\n",
    "    if visual:\n",
    "        circ.draw('mpl')\n",
    "    \n",
    "    return circ"
   ]
  },
  {
   "cell_type": "code",
   "execution_count": 897,
   "metadata": {},
   "outputs": [
    {
     "data": {
      "text/plain": [
       "<qiskit.circuit.quantumcircuit.QuantumCircuit at 0x7f844da52e90>"
      ]
     },
     "execution_count": 897,
     "metadata": {},
     "output_type": "execute_result"
    },
    {
     "data": {
      "image/png": "[encoded data removed]",
      "text/plain": [
       "<Figure size 267.197x264.88 with 1 Axes>"
      ]
     },
     "metadata": {},
     "output_type": "display_data"
    }
   ],
   "source": [
    "init_circ(zero, np.pi, 3/2*np.pi)"
   ]
  },
  {
   "cell_type": "markdown",
   "metadata": {},
   "source": [
    "#### d. Full SWAP Circuit + Probability Output"
   ]
  },
  {
   "cell_type": "markdown",
   "metadata": {},
   "source": [
    "This method combines all the previous method to create a full SWAP test circuit from start to finish"
   ]
  },
  {
   "cell_type": "code",
   "execution_count": 898,
   "metadata": {},
   "outputs": [],
   "source": [
    "def SWAP_test(constant_vector, phi_test, theta_test, visual = True):\n",
    "    \n",
    "    \"\"\"\n",
    "    Full SWAP test circuit\n",
    "    \n",
    "    Parameter:\n",
    "    ----------\n",
    "    constant_vector: ndarray\n",
    "        Initial statevector for the constant qubit\n",
    "        \n",
    "    phi_test: float \n",
    "        Angle of rotation for R_y gate [0, 2*np.pi)\n",
    "        \n",
    "    theta_test: float\n",
    "        Angle of rotation for R_x gate [0, 2*np.pi)\n",
    "    \n",
    "    visual: bool (True)\n",
    "        Draw circuit option\n",
    "        \n",
    "    Returns:\n",
    "    --------\n",
    "    P_0: float\n",
    "        Probability of getting |0>\n",
    "    \n",
    "    \"\"\"\n",
    "\n",
    "    # Build Full Circuit\n",
    "    circ = init_circ(constant_vector, phi_test, theta_test, False) + SWAP_circ(False)\n",
    "\n",
    "    # Calculate probability\n",
    "    P_0 = prob_0(circ, False)\n",
    "    \n",
    "    # Draw Circuit\n",
    "    if visual:\n",
    "        circ.draw('mpl')\n",
    "\n",
    "    return P_0"
   ]
  },
  {
   "cell_type": "markdown",
   "metadata": {},
   "source": [
    "#### e. Random Search Method\n",
    "\n",
    "We are going to find the best values for $\\phi, \\theta$ using a random search.\n",
    "\n",
    "The random search method will randomly generate a $\\phi$ and $\\theta$ values from a uniform distribution. This is better than a normal grid search, because we get to interact with a bigger number of different values."
   ]
  },
  {
   "cell_type": "markdown",
   "metadata": {},
   "source": [
    "The random generator method generates a list of $\\phi, \\theta$ as a 2-d vectors"
   ]
  },
  {
   "cell_type": "code",
   "execution_count": 842,
   "metadata": {},
   "outputs": [],
   "source": [
    "random_generator = lambda n: np.random.uniform(low = 0, high = 2*np.pi, size = (n, 2))\n",
    "random_generator.__doc__ = \"n: the number of phi, theta pairs\""
   ]
  },
  {
   "cell_type": "markdown",
   "metadata": {},
   "source": [
    "Finally, to random search for the optimal parameters, loop over each pair fo $\\phi, \\theta$  in the list"
   ]
  },
  {
   "cell_type": "markdown",
   "metadata": {},
   "source": [
    "Recall that for a constant state $\\delta$ and a test state $\\psi$, the SWAP test tells us\n",
    "\n",
    "$$P(q_0 \\searrow |0\\rangle) = \\frac{1}{2} \\ (1 + |\\langle \\ \\psi \\ | \\ \\delta \\ \\rangle|^2)$$\n",
    "\n",
    "When $\\psi$ is identical to $\\delta$, \n",
    "\n",
    "$$P(q_0 \\searrow |0\\rangle) = \\frac{1}{2} \\ (1 + |\\langle \\ \\psi \\ | \\ \\psi \\ \\rangle|^2) = \\frac{1}{2} \\ (1 + 1) = 1$$\n",
    "\n",
    "We will get $|0\\rangle$ with 100% probability\n",
    "\n",
    "On the other hand, when $\\psi$ is orthogonal to $\\delta$,\n",
    "\n",
    "$$P(q_0 \\searrow |0\\rangle) = \\frac{1}{2} \\ (1 + |\\langle \\ \\psi \\ | \\ \\psi \\ \\rangle|^2) = \\frac{1}{2} \\ (1 + 0) = \\frac{1}{2}$$\n",
    "\n",
    "We will get $0\\rangle$ with 50% probability\n",
    "\n",
    "All other states will return probability of gettin $|0\\rangle$ between 50% and 100%"
   ]
  },
  {
   "cell_type": "markdown",
   "metadata": {},
   "source": [
    "For our random search, we want to find values of $\\phi, \\theta$ that return $\\psi$ that most closely ressembles $\\delta$, so we want to maximize the probability of getting $|0\\rangle$."
   ]
  },
  {
   "cell_type": "code",
   "execution_count": 905,
   "metadata": {},
   "outputs": [],
   "source": [
    "# Constant Vector\n",
    "constant_vector = one\n",
    "\n",
    "n = 5\n",
    "\n",
    "def random_search(constant_vector, no_pairs):\n",
    "    \n",
    "    \"\"\"\n",
    "    Find the optimal values of phi, and theta using random search\n",
    "    \n",
    "    Parameters:\n",
    "    -----------\n",
    "    constant_vector: ndarray\n",
    "        Initial statevector for the constant qubit\n",
    "    no_pairs: int\n",
    "        number of phi, theta pairs\"\n",
    "        \n",
    "    Returns:\n",
    "    --------\n",
    "    phi_max: float [0, 2pi)\n",
    "        Value of Ry rotation that produces the most similar qubit to the constant state\n",
    "    theta_max: float [0, 2pi)\n",
    "        Value of Rx rotation that produces the most similar qubit to the constant state\n",
    "    \n",
    "    \"\"\"\n",
    "    \n",
    "    # Create empty probability list\n",
    "    prob_list = np.array([])\n",
    "\n",
    "    # Create table of values\n",
    "    table = random_generator(n)\n",
    "\n",
    "    # Iterate over each phi, theta pair\n",
    "    for pair in table:\n",
    "\n",
    "        phi_test, theta_test = pair\n",
    "        prob_ex = SWAP_test(constant_vector, phi_test, theta_test, visual = False)\n",
    "\n",
    "        prob_list = np.append(prob_list, prob_ex)\n",
    "\n",
    "    # Get the index of the the max probability, and locate phi, theta\n",
    "    phi_max, theta_max = np.squeeze(table[np.where(prob_list == max(prob_list))])\n",
    "\n",
    "    print(f'Optimal phi: {phi_max}')\n",
    "    print(f'Optimal theta: {theta_max}')\n",
    "    \n",
    "    return phi_max, theta_max"
   ]
  },
  {
   "cell_type": "code",
   "execution_count": 906,
   "metadata": {},
   "outputs": [
    {
     "name": "stdout",
     "output_type": "stream",
     "text": [
      "Optimal phi: 0.16289931889153858\n",
      "Optimal theta: 3.4536312049154296\n"
     ]
    }
   ],
   "source": [
    "# Test with constant vector as |1>\n",
    "constant_vector = one\n",
    "\n",
    "phi, theta = random_search(constant_vector, 1000)"
   ]
  },
  {
   "cell_type": "code",
   "execution_count": 907,
   "metadata": {},
   "outputs": [
    {
     "data": {
      "text/plain": [
       "0.98828125"
      ]
     },
     "execution_count": 907,
     "metadata": {},
     "output_type": "execute_result"
    }
   ],
   "source": [
    "# Run it back through the SWAP test circuit\n",
    "SWAP_test(constant_vector, phi, theta, visual = False)"
   ]
  },
  {
   "cell_type": "markdown",
   "metadata": {},
   "source": [
    "### Part 3:"
   ]
  },
  {
   "cell_type": "markdown",
   "metadata": {},
   "source": [
    "#### a. Method to product hidden product state\n",
    "\n",
    "Here, an 'n' qubits product state is generated. In this case, the process looks very similar to generating a random binary string."
   ]
  },
  {
   "cell_type": "code",
   "execution_count": 908,
   "metadata": {},
   "outputs": [],
   "source": [
    "hidden_CBS = lambda no_qubits: np.array([zero if np.random.randint(0, 2) == 0 else one for _ in range(no_qubits)])"
   ]
  },
  {
   "cell_type": "code",
   "execution_count": 914,
   "metadata": {},
   "outputs": [
    {
     "data": {
      "text/latex": [
       "$\\displaystyle \\left[\\begin{matrix}0 & 1\\\\0 & 1\\\\1 & 0\\end{matrix}\\right]$"
      ],
      "text/plain": [
       "Matrix([\n",
       "[0, 1],\n",
       "[0, 1],\n",
       "[1, 0]])"
      ]
     },
     "metadata": {},
     "output_type": "display_data"
    }
   ],
   "source": [
    "view(np.squeeze(hidden_CBS(3)))"
   ]
  },
  {
   "cell_type": "markdown",
   "metadata": {},
   "source": [
    "#### b. SWAP test on product state method"
   ]
  },
  {
   "cell_type": "markdown",
   "metadata": {},
   "source": [
    "We can use the random search SWAP test method from part '2e' above to find the correct product state"
   ]
  },
  {
   "cell_type": "code",
   "execution_count": 919,
   "metadata": {},
   "outputs": [],
   "source": [
    "def SWAP_product(hidden_box):\n",
    "    \n",
    "    \"\"\"\n",
    "    Find the hidden product state using SWAP test on individual qubits\n",
    "    \n",
    "    Parameters:\n",
    "    -----------\n",
    "    product_state: list\n",
    "        List of |0> or |1> qubits\n",
    "    \n",
    "    Returns:\n",
    "    --------\n",
    "    guess_list: list\n",
    "        List of guesses\n",
    "        \n",
    "    \"\"\"\n",
    "    \n",
    "    # Initialize the list of guesses\n",
    "    guess_list = []\n",
    "\n",
    "    # Iterate over qubits in the product state\n",
    "    for constant_vector in hidden_box:\n",
    "\n",
    "        # Test for |0>\n",
    "        test_zero = SWAP_test(constant_vector, 0, 0, visual = False)\n",
    "\n",
    "        # Set a threshold to distinguish between the two output states\n",
    "        if test_zero > 0.75:\n",
    "            guess_list.append(0)\n",
    "        else:\n",
    "            guess_list.append(1)\n",
    "\n",
    "    # Represent the hidden box as binary for verification\n",
    "    hidden_box_bin = [0 if np.all(elem == zero) else 1 for elem in hidden_box]\n",
    "\n",
    "    # Assert that our guesses are correct\n",
    "    assert guess_list == hidden_box_bin\n",
    "    \n",
    "    return guess_list"
   ]
  },
  {
   "cell_type": "code",
   "execution_count": 920,
   "metadata": {},
   "outputs": [],
   "source": [
    "product_state = hidden_CBS(3)"
   ]
  },
  {
   "cell_type": "code",
   "execution_count": 921,
   "metadata": {},
   "outputs": [
    {
     "data": {
      "text/plain": [
       "[1, 0, 0]"
      ]
     },
     "execution_count": 921,
     "metadata": {},
     "output_type": "execute_result"
    }
   ],
   "source": [
    "# Discover the product state using the 'SWAP_product' method\n",
    "SWAP_product(product_state)"
   ]
  }
 ],
 "metadata": {
  "kernelspec": {
   "display_name": "Python 3",
   "language": "python",
   "name": "python3"
  },
  "language_info": {
   "codemirror_mode": {
    "name": "ipython",
    "version": 3
   },
   "file_extension": ".py",
   "mimetype": "text/x-python",
   "name": "python",
   "nbconvert_exporter": "python",
   "pygments_lexer": "ipython3",
   "version": "3.7.4"
  }
 },
 "nbformat": 4,
 "nbformat_minor": 2
}
