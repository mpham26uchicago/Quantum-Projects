{
 "cells": [
  {
   "cell_type": "markdown",
   "id": "407d4b0a",
   "metadata": {},
   "source": [
    "### Pre-Requisites"
   ]
  },
  {
   "cell_type": "markdown",
   "id": "60a27d49",
   "metadata": {},
   "source": [
    "###### Note that this notebook is written entirely in little-edian notation\n",
    "\n",
    "The standard gates set in quantum literature uses CX and U gates. They are defined in terms of matrices, which represents their actions on basis states. $U$ gates are parameterized single-qubit local gates\n",
    "\n",
    "\n",
    "$$U\\big{(}\\theta, \\phi, \\lambda\\big{)} = \\begin{bmatrix} \\cos\\big{(}\\frac{\\theta}{2}\\big{)} & -e^{i\\lambda}\\sin\\big{(}\\frac{\\theta}{2}\\big{)} \\\\ e^{i\\phi}\\sin\\big{(}\\frac{\\theta}{2}\\big{)} & e^{i(\\phi+\\lambda)}\\cos\\big{(}\\frac{\\theta}{2}\\big{)}\\end{bmatrix}$$\n",
    "\n",
    "Whereas $CX$ are two-qubit entangler gates.\n",
    "\n",
    "$$CX = \\begin{bmatrix} 1&0&0&0&0&0&0&0 \\\\ 0&1&0&0&0&0&0&0 \\\\ 0&0&1&0&0&0&0&0 \\\\ 0&0&0&0&0&0&0&1 \\\\ 0&0&0&0&1&0&0&0 \\\\ 0&0&0&0&0&1&0&0 \\\\ 0&0&0&0&0&0&1&0 \\\\ 0&0&0&1&0&0&0&0\\end{bmatrix}$$\n",
    "\n",
    "Some notable $U$ gates include:\n",
    "\n",
    "$$U(0, 0, 0) = I, \\quad U(\\pi, 0, \\pi) = X, \\quad U(\\frac{\\pi}{2}, 0, -\\frac{\\pi}{2}) = H$$\n",
    "\n",
    "$$U(0, 0, \\pi) = Z, \\quad U(0, 0, \\frac{\\pi}{2}) = S, \\quad U(0, 0, \\frac{\\pi}{4}) = T$$\n",
    "\n",
    "Note that the bottom three gates are collectively called phase gates, defined as\n",
    "\n",
    "$$P(\\alpha) = U(0, 0, \\alpha) = \\begin{bmatrix} 1&0 \\\\ 0&e^{i\\alpha} \\end{bmatrix}$$"
   ]
  },
  {
   "cell_type": "markdown",
   "id": "ef434b32",
   "metadata": {},
   "source": [
    "### Problem 1: Inter-Basis Computation"
   ]
  },
  {
   "cell_type": "markdown",
   "id": "106572ff",
   "metadata": {},
   "source": [
    "One of the novelty of quantum computing over classical computing is the expansive state space that it has access to for computation. Whereas a classical bit is a binary system, qubits operates within the complex 2D Hilbert. This offers the advantage of quantum superposition, which allows for parallel computation of an exponential number of state at the same time. \n",
    "\n",
    "$$|\\psi\\rangle = \\alpha|0\\rangle + \\beta|1\\rangle$$\n",
    "\n",
    "The majority of quantum algorithm employs superposition by computing in a different basis. For example, in both Shor's factoring, and Grover's search algorithm. The $n$-qubits circuit starts out with $n$ Hadmard gate in parralel, with the intention of transforming the qubits from the $Z$ basis to the $X$ basis.\n",
    "\n",
    "As a quantum computing scientist, it is important to know how to take advantage of basis-equivalence computation. This when a gate in basis A has the same action on an intial state as another gate in basis B. In the $X$-basis, we have two identities for basis-equivalence gates. These are widely used in phase-kickback oracle and multi-qubit gates decomposition.\n",
    "\n",
    "$$HZH = X, \\quad HXH = Z$$"
   ]
  },
  {
   "cell_type": "markdown",
   "id": "6c410ac2",
   "metadata": {},
   "source": [
    "### Part 1"
   ]
  },
  {
   "cell_type": "markdown",
   "id": "af0e7645",
   "metadata": {},
   "source": [
    "###### 1.1 Given $3$ arbitrary unitary matrices $A, B, C$, find a triplet of unique unitary matrices $U, V, W$ that satisfies\n",
    "\n",
    "$$ABC = H(UVW)H$$\n",
    "\n",
    "where $H$ is the Hadamard matrix"
   ]
  },
  {
   "cell_type": "markdown",
   "id": "6598e6c6",
   "metadata": {},
   "source": [
    "##### 1.2 Given arbitrary unitary matrices $A, B, C, D, E, F $, find unitary matrices $H, I, J, K, L, M$, such that \n",
    "\n",
    "$$ABCDEF = U(HIJKLM)U^{\\dagger}$$\n",
    "\n",
    "where U = \\begin{bmatrix} 0 & -\\frac{\\sqrt{2}}{2}-\\frac{\\sqrt{2}}{2}i \\\\ i & 0\\end{bmatrix}"
   ]
  },
  {
   "cell_type": "markdown",
   "id": "cba795cb",
   "metadata": {},
   "source": [
    "##### 1.3 Given a set $S$ of $n$ arbitrary unitary matrices and an arbitrary unitary matrix $U$, find a set $M$ with the same number of unitary matrices that satisfies\n",
    "\n",
    "$$\\prod_{A\\in S} A = U\\big{(}\\prod_{B\\in M}M \\big{)}U^{\\dagger}$$\n",
    "\n",
    "where $\\prod$ is matrix multiplication"
   ]
  },
  {
   "cell_type": "markdown",
   "id": "dc1e611b",
   "metadata": {},
   "source": [
    "### Part 2"
   ]
  },
  {
   "cell_type": "markdown",
   "id": "48bca2c2",
   "metadata": {},
   "source": [
    "##### 2. Design a circuit made of $3$ qubits $(q_0, q_1, q_2)$ all initialized in the $|+\\rangle$ states, such that whenever\n",
    "\n",
    "- $q_0$ measure $|0\\rangle$, $q_1$ measures $|0\\rangle$ and q2 measure $|1\\rangle$\n",
    "\n",
    "- $q_0$ measures $|1\\rangle$, $q_1$ measures $|1\\rangle$ and $q_2$ measure $|0\\rangle$ \n",
    "\n",
    "Using the standard gates set $U, CX$.\n",
    "\n"
   ]
  },
  {
   "cell_type": "markdown",
   "id": "63c25c06",
   "metadata": {},
   "source": [
    "### Part 3"
   ]
  },
  {
   "cell_type": "markdown",
   "id": "d8a1c64e",
   "metadata": {},
   "source": [
    "#### 3. Design an oracle $U_f$ which implements the function $f$ on 5 qubits such that \n",
    "\n",
    "$$f(|q_0q_1q_2q_3q_4)\\rangle = |q_0\\bar{q_1}q_2\\bar{q_3}\\rangle|(\\bar{q_0}\\wedge q_1 \\wedge \\bar{q_2} \\wedge q_3)\\oplus q_4 \\rangle$$\n",
    "\n",
    "where $\\bar{q_i}$ is the bit-flipped of $q_i$. Using the standard gate set with the lowerst cost possible calculated by the cost function.\n",
    "\n",
    "$$cost = 20n_{\\text{ancilla}} + 10n_{\\text{cx}} + n_{\\text{local gates}} $$"
   ]
  },
  {
   "cell_type": "markdown",
   "id": "02b63dca",
   "metadata": {},
   "source": [
    "### Part 4"
   ]
  },
  {
   "cell_type": "markdown",
   "id": "6e5a1736",
   "metadata": {},
   "source": [
    "#### 4. Given the following mapping of computational basis, find the least expensive $3$-qubits circuit that performs the same mapping using only $CCX, CX, X$ gates. The total cost will combined gates from all $3$ mappings, using the metric.\n",
    "\n",
    "$$cost = 30n_{ccx} + 10n_{cx} + n_x$$\n",
    "\n",
    "##### Mapping a)\n",
    "\n",
    "$$000 ---> 110$$\n",
    "$$001 ---> 001$$\n",
    "$$010 ---> 000$$\n",
    "$$011 ---> 011$$\n",
    "$$100 ---> 010$$\n",
    "$$101 ---> 101$$\n",
    "$$110 ---> 100$$\n",
    "$$111 ---> 111$$\n",
    "\n",
    "##### Mapping b)\n",
    "\n",
    "$$000 ---> 000$$\n",
    "$$001 ---> 010$$\n",
    "$$010 ---> 011$$\n",
    "$$011 ---> 101$$\n",
    "$$100 ---> 100$$\n",
    "$$101 ---> 110$$\n",
    "$$110 ---> 111$$\n",
    "$$111 ---> 001$$\n",
    "\n",
    "##### Mapping c)\n",
    "\n",
    "$$000 ---> 100$$\n",
    "$$001 ---> 001$$\n",
    "$$010 ---> 110$$\n",
    "$$011 ---> 011$$\n",
    "$$100 ---> 111$$\n",
    "$$101 ---> 010$$\n",
    "$$110 ---> 101$$\n",
    "$$111 ---> 000$$"
   ]
  },
  {
   "cell_type": "code",
   "execution_count": null,
   "id": "b0d360b9",
   "metadata": {},
   "outputs": [],
   "source": []
  }
 ],
 "metadata": {
  "kernelspec": {
   "display_name": "Python 3",
   "language": "python",
   "name": "python3"
  },
  "language_info": {
   "codemirror_mode": {
    "name": "ipython",
    "version": 3
   },
   "file_extension": ".py",
   "mimetype": "text/x-python",
   "name": "python",
   "nbconvert_exporter": "python",
   "pygments_lexer": "ipython3",
   "version": "3.8.3"
  }
 },
 "nbformat": 4,
 "nbformat_minor": 5
}
