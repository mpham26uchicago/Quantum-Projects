{
 "cells": [
  {
   "cell_type": "markdown",
   "metadata": {},
   "source": [
    "### Import"
   ]
  },
  {
   "cell_type": "code",
   "execution_count": 1029,
   "metadata": {},
   "outputs": [],
   "source": [
    "import numpy as np\n",
    "import sympy as sp\n",
    "\n",
    "import matplotlib\n",
    "import matplotlib.pyplot as plt \n",
    "matplotlib.use('Agg')\n",
    "\n",
    "from sympy import Matrix, init_printing\n",
    "\n",
    "import qiskit\n",
    "from qiskit import *\n",
    "\n",
    "# Representing Data\n",
    "from qiskit.providers.aer import QasmSimulator, StatevectorSimulator, UnitarySimulator\n",
    "from qiskit.tools.visualization import plot_histogram, plot_state_city, plot_bloch_multivector\n",
    "\n",
    "# Monitor Job on Real Machine\n",
    "from qiskit.tools.monitor import job_monitor\n",
    "\n",
    "from functools import reduce # perform sucessive tensor product\n",
    "\n",
    "# Calculating cost\n",
    "from sklearn.metrics import mean_squared_error\n",
    "\n",
    "# Generating random unitary matrix\n",
    "from scipy.stats import unitary_group\n",
    "\n",
    "# Measure run time\n",
    "import time\n",
    "\n",
    "# Almost Equal\n",
    "from numpy.testing import assert_almost_equal as aae"
   ]
  },
  {
   "cell_type": "markdown",
   "metadata": {},
   "source": [
    "### Useful Resources"
   ]
  },
  {
   "cell_type": "markdown",
   "metadata": {},
   "source": [
    "###### Helpful Linear Algebra Matrices and Methods"
   ]
  },
  {
   "cell_type": "code",
   "execution_count": 645,
   "metadata": {},
   "outputs": [],
   "source": [
    "# Matrices\n",
    "I = np.array([[1, 0], [0, 1]])\n",
    "X = np.array([[0, 1], [1, 0]])\n",
    "Y = np.array([[0, -1j], [1j, 0]])\n",
    "Z = np.array([[1, 0], [0, -1]])\n",
    "H = 1/np.sqrt(2)*np.array([[1, 1], [1, -1]])\n",
    "S = np.array([[1, 0], [0, 1j]])\n",
    "\n",
    "CX = np.array([[1, 0, 0, 0], [0, 0, 0, 1], [0, 0, 1, 0], [0, 1, 0, 0]])\n",
    "\n",
    "# Eigenvectors of Pauli Matrices\n",
    "zero = np.array([[1], [0]]) # Z plus basis state\n",
    "one = np.array([[0], [1]]) # Z plus basis state\n",
    "\n",
    "plus = np.array([[1], [1]])/np.sqrt(2) # X plus basis state\n",
    "minus = np.array([[1], [-1]])/np.sqrt(2) # X minus basis state\n",
    "\n",
    "up = np.array([[1], [1j]])/np.sqrt(2) # Y plus basis state\n",
    "down = np.array([[1], [-1j]])/np.sqrt(2) # Y plus basis state\n",
    "\n",
    "# Bell States\n",
    "B00 = np.array([[1], [0], [0], [1]])/np.sqrt(2) # Bell of 00\n",
    "B01 = np.array([[1], [0], [0], [-1]])/np.sqrt(2) # Bell of 01\n",
    "B10 = np.array([[0], [1], [1], [0]])/np.sqrt(2) # Bell of 10\n",
    "B11 = np.array([[0], [-1], [1], [0]])/np.sqrt(2) # Bell of 11\n",
    "\n",
    "# Rn Matrix Function\n",
    "Rx = lambda theta: np.array([[np.cos(theta/2), -1j*np.sin(theta/2)], [-1j*np.sin(theta/2), np.cos(theta/2)]])\n",
    "Ry = lambda theta: np.array([[np.cos(theta/2), -np.sin(theta/2)], [np.sin(theta/2), np.cos(theta/2)]])\n",
    "Rz = lambda theta: np.array([[np.exp(-1j*theta/2), 0], [0, np.exp(1j*theta/2)]])\n",
    "\n",
    "# Tensor Product of 2+ matrices/ vectors\n",
    "tensor = lambda *initial_state: reduce(lambda x, y: np.kron(x, y), initial_state)\n",
    "\n",
    "# Matrix Multiplicaton of 2+ matrices / vectors\n",
    "mat_mul = lambda *initial_state: reduce(lambda x, y: np.dot(x, y), initial_state)"
   ]
  },
  {
   "cell_type": "markdown",
   "metadata": {},
   "source": [
    "###### CU Matrix"
   ]
  },
  {
   "cell_type": "code",
   "execution_count": 625,
   "metadata": {},
   "outputs": [],
   "source": [
    "def cu_matrix(no_qubits, control, target, U, little_edian = True):\n",
    "    \n",
    "    \"\"\"\n",
    "    Manually build the unitary matrix for non-adjacent CX gates\n",
    "    \n",
    "    Parameters:\n",
    "    -----------\n",
    "    no_qubits: int\n",
    "        Number of qubits in the circuit\n",
    "    control: int\n",
    "        Index of the control qubit (1st qubit is index 0)\n",
    "    target: int\n",
    "        Index of the target qubit (1st qubit is index 0)\n",
    "    U: ndarray\n",
    "        Target unitary matrix\n",
    "    edian: bool (True: qiskit convention)\n",
    "        Qubits order convention\n",
    "        \n",
    "    Returns:\n",
    "    --------\n",
    "    cx_out:\n",
    "        Unitary matrix for CU gate\n",
    "    \"\"\"\n",
    "    \n",
    "    left = [I]*no_qubits\n",
    "    right = [I]*no_qubits\n",
    "    \n",
    "    left[control] = np.dot(zero, zero.T)\n",
    "    right[control] = np.dot(one, one.T)\n",
    "\n",
    "    right[target] = U\n",
    "\n",
    "    if little_edian:\n",
    "        cx_out = tensor(*reversed(left)) + tensor(*reversed(right))\n",
    "    else:\n",
    "        cx_out = tensor(*left) + tensor(*right)\n",
    "    \n",
    "    # This returns a unitary in qiskit 'little eddian', to switch back, simply switch the target for control\n",
    "          \n",
    "    return cx_out"
   ]
  },
  {
   "cell_type": "markdown",
   "metadata": {},
   "source": [
    "###### View Matrix"
   ]
  },
  {
   "cell_type": "code",
   "execution_count": 760,
   "metadata": {},
   "outputs": [],
   "source": [
    "def view(mat, rounding = 10):\n",
    "    display(Matrix(np.round(mat, rounding)))"
   ]
  },
  {
   "cell_type": "markdown",
   "metadata": {},
   "source": [
    "###### Get Unitary/StateVector Function"
   ]
  },
  {
   "cell_type": "code",
   "execution_count": 9,
   "metadata": {},
   "outputs": [],
   "source": [
    "def get(circ, types = 'unitary', nice = True):\n",
    "    \n",
    "    \"\"\"\n",
    "    This function return the statevector or the unitary of the inputted circuit\n",
    "    \n",
    "    Parameters:\n",
    "    -----------\n",
    "    circ: QuantumCircuit\n",
    "        Inputted circuit without measurement gate\n",
    "    types: str ('unitary')\n",
    "        Get 'unitary' or 'statevector' option\n",
    "    nice: bool\n",
    "        Display the result nicely option or just return unitary/statevector as ndarray\n",
    "        \n",
    "    Returns:\n",
    "    --------\n",
    "    out: ndarray\n",
    "        Outputted unitary of statevector\n",
    "        \n",
    "    \"\"\"\n",
    "    \n",
    "    if types == 'statevector':\n",
    "        backend = BasicAer.get_backend('statevector_simulator')\n",
    "        out = execute(circ, backend).result().get_statevector()\n",
    "    else: \n",
    "        backend = BasicAer.get_backend('unitary_simulator')\n",
    "        out = execute(circ, backend).result().get_unitary()\n",
    "        \n",
    "    if nice:\n",
    "        display(Matrix(np.round(out, 10))) \n",
    "    else:\n",
    "        return out"
   ]
  },
  {
   "cell_type": "markdown",
   "metadata": {},
   "source": [
    "###### Draw Circuit"
   ]
  },
  {
   "cell_type": "code",
   "execution_count": 1020,
   "metadata": {},
   "outputs": [],
   "source": [
    "def milk(circ):\n",
    "    return circ.draw('mpl')"
   ]
  },
  {
   "cell_type": "markdown",
   "metadata": {},
   "source": [
    "###### Convert ndarray to list"
   ]
  },
  {
   "cell_type": "code",
   "execution_count": 11,
   "metadata": {},
   "outputs": [],
   "source": [
    "to_list = lambda array: list(np.squeeze(array))"
   ]
  },
  {
   "cell_type": "markdown",
   "metadata": {},
   "source": [
    "###### Displaying Output"
   ]
  },
  {
   "cell_type": "code",
   "execution_count": 12,
   "metadata": {},
   "outputs": [],
   "source": [
    "def sim(circ, visual = 'hist'):\n",
    "    \n",
    "    \"\"\"\n",
    "    Displaying output of quantum circuit\n",
    "    \n",
    "    Parameters:\n",
    "    -----------\n",
    "    circ: QuantumCircuit\n",
    "        QuantumCircuit with or without measurement gates\n",
    "    visual: str ('hist')\n",
    "        'hist' (counts on histogram) or 'bloch' (statevectors on Bloch sphere) or None (get counts only)\n",
    "        \n",
    "    Returns:\n",
    "    --------\n",
    "    counts: dict\n",
    "        Counts of each CBS state\n",
    "    \"\"\"\n",
    "    \n",
    "    # Simulate circuit and display counts on a histogram\n",
    "    if visual == 'hist':\n",
    "        simulator = Aer.get_backend('qasm_simulator')\n",
    "        results = execute(circ, simulator).result()\n",
    "        counts = results.get_counts(circ)\n",
    "        plot_histogram(counts)\n",
    "        \n",
    "        return counts\n",
    "        \n",
    "    # Get the statevector and display on a Bloch sphere\n",
    "    elif visual == 'bloch':\n",
    "        backend = BasicAer.get_backend('statevector_simulator')\n",
    "        statevector = execute(circ, backend).result().get_statevector()\n",
    "        get(circ)\n",
    "        plot_bloch_multivector(statevector)\n",
    "        \n",
    "    # Just get counts\n",
    "    else:\n",
    "        simulator = Aer.get_backend('qasm_simulator')\n",
    "        results = execute(circ, simulator).result()\n",
    "        counts = results.get_counts(circ)\n",
    "        \n",
    "        return counts"
   ]
  },
  {
   "cell_type": "markdown",
   "metadata": {},
   "source": [
    "#### Draw Transpiled Circuit"
   ]
  },
  {
   "cell_type": "code",
   "execution_count": 1030,
   "metadata": {},
   "outputs": [],
   "source": [
    "def dtp(circ, print_details = True, visual = True, return_values = False):\n",
    "    \n",
    "    \"\"\"\n",
    "    Draw and/or return information about the transpiled circuit\n",
    "    \n",
    "    Parameters:\n",
    "    -----------\n",
    "    circ: QuantumCircuit\n",
    "        QuantumCircuit to br transpiled\n",
    "    print_details: bool (True)\n",
    "        Print the number of u3 and cx gates used\n",
    "    visual: bool (True)\n",
    "        Show the transpiled circuit\n",
    "    return_values: bool (True)\n",
    "        Return the number of u3 and cx gates used\n",
    "        \n",
    "    Returns:\n",
    "    --------\n",
    "    no_cx: int\n",
    "        Number of cx gates used\n",
    "    no_u3: int\n",
    "        Number of u3 gates used\n",
    "    \n",
    "    \"\"\"\n",
    "    \n",
    "    # Transpile Circuit\n",
    "    circ = transpile(circ, basis_gates=['u3', 'cx'], optimization_level=3)\n",
    "\n",
    "    # Count operations\n",
    "    gates = circ.count_ops()\n",
    "\n",
    "    # Compute cost\n",
    "    try:\n",
    "        no_u3 = gates['u3']\n",
    "    except:\n",
    "        no_u3 = 0\n",
    "        \n",
    "    try:\n",
    "        no_cx = gates['cx']\n",
    "    except:\n",
    "        no_cx = 0\n",
    "    \n",
    "    cost = no_u3 + 10*no_cx\n",
    "\n",
    "    if print_details:\n",
    "        # Print Circuit Details\n",
    "        print(f'cx: {no_cx}')\n",
    "\n",
    "        print(f'u3: {no_u3}')\n",
    "        print(f'Total cost: {cost}')\n",
    "    \n",
    "    if visual:\n",
    "        return circ.draw('mpl')\n",
    "    \n",
    "    if return_values:\n",
    "        return no_cx, no_u3"
   ]
  },
  {
   "cell_type": "markdown",
   "metadata": {},
   "source": [
    "#### Angles From Statevector"
   ]
  },
  {
   "cell_type": "code",
   "execution_count": 14,
   "metadata": {},
   "outputs": [],
   "source": [
    "def angles_from_statevectors(output_statevector):\n",
    "    \n",
    "    \"\"\"\n",
    "    Calculate correct x, y rotation angles from an arbitrary output statevector\n",
    "    \n",
    "    Paramters:\n",
    "    ----------\n",
    "    output_statevector: ndarray\n",
    "        Desired output state\n",
    "        \n",
    "    Returns:\n",
    "    --------\n",
    "    phi: float\n",
    "        Angle to rotate about the y-axis [0, 2pi)\n",
    "    theta: float\n",
    "        Angle to rotate about the x-axis [0, 2pi)\n",
    "    \n",
    "    \"\"\"\n",
    "    \n",
    "    # Extract the components\n",
    "    x, z = output_statevector.real\n",
    "    y, w = output_statevector.imag\n",
    "    \n",
    "    # Calculate the correct angles\n",
    "    phi = 2*np.arctan2(z,x)[0]\n",
    "    theta = 2*np.arctan2(y,z)[0]\n",
    "    \n",
    "    print(f'phi: {phi}')\n",
    "    print(f'theta: {theta}')\n",
    "    \n",
    "    return phi, theta"
   ]
  },
  {
   "cell_type": "markdown",
   "metadata": {},
   "source": [
    "### $C^nX$ Unitary"
   ]
  },
  {
   "cell_type": "markdown",
   "metadata": {},
   "source": [
    "## C = 2"
   ]
  },
  {
   "cell_type": "markdown",
   "metadata": {},
   "source": [
    "### Toffoli Gate (C2X)\n",
    "\n",
    "#### Circuit"
   ]
  },
  {
   "cell_type": "code",
   "execution_count": 124,
   "metadata": {},
   "outputs": [
    {
     "data": {
      "image/png": "[encoded data removed]",
      "text/plain": [
       "<Figure size 146.797x204.68 with 1 Axes>"
      ]
     },
     "execution_count": 124,
     "metadata": {},
     "output_type": "execute_result"
    }
   ],
   "source": [
    "circ = QuantumCircuit(3)\n",
    "circ.ccx(0, 1, 2)\n",
    "\n",
    "milk(circ)"
   ]
  },
  {
   "cell_type": "markdown",
   "metadata": {},
   "source": [
    "#### Cost"
   ]
  },
  {
   "cell_type": "code",
   "execution_count": 128,
   "metadata": {},
   "outputs": [
    {
     "name": "stdout",
     "output_type": "stream",
     "text": [
      "cx: 6\n",
      "u3: 8\n",
      "Total cost: 68\n"
     ]
    },
    {
     "data": {
      "image/png": "[encoded data removed]",
      "text/plain": [
       "<Figure size 808.997x204.68 with 1 Axes>"
      ]
     },
     "execution_count": 128,
     "metadata": {},
     "output_type": "execute_result"
    },
    {
     "data": {
      "image/png": "[encoded data removed]",
      "text/plain": [
       "<Figure size 808.997x204.68 with 1 Axes>"
      ]
     },
     "metadata": {},
     "output_type": "display_data"
    }
   ],
   "source": [
    "dtp(circ)"
   ]
  },
  {
   "cell_type": "markdown",
   "metadata": {},
   "source": [
    "### Pseudo-Toffoli Gate (p-C2X)"
   ]
  },
  {
   "cell_type": "markdown",
   "metadata": {},
   "source": [
    "#### Circuit\n",
    "\n",
    "The Pseudo-Toffoli gate have a very similar unitary. The only difference is the negative phase when the input is $|110\\rangle$."
   ]
  },
  {
   "cell_type": "code",
   "execution_count": 125,
   "metadata": {},
   "outputs": [],
   "source": [
    "def C2X(circ, control_qubit1, control_qubit2, target_qubit):\n",
    "    \n",
    "    circ.ch(control_qubit1, target_qubit)\n",
    "    circ.cz(control_qubit2, target_qubit)\n",
    "    circ.ch(control_qubit1, target_qubit)\n",
    "    \n",
    "    return circ"
   ]
  },
  {
   "cell_type": "code",
   "execution_count": 126,
   "metadata": {},
   "outputs": [
    {
     "data": {
      "image/png": "[encoded data removed]",
      "text/plain": [
       "<Figure size 267.197x204.68 with 1 Axes>"
      ]
     },
     "execution_count": 126,
     "metadata": {},
     "output_type": "execute_result"
    }
   ],
   "source": [
    "circ = QuantumCircuit(3)\n",
    "\n",
    "circ = C2X(circ, 0, 1, 2)\n",
    "\n",
    "milk(circ)"
   ]
  },
  {
   "cell_type": "code",
   "execution_count": 127,
   "metadata": {},
   "outputs": [
    {
     "data": {
      "text/latex": [
       "$\\displaystyle \\left[\\begin{matrix}1.0 & 0 & 0 & 0 & 0 & 0 & 0 & 0\\\\0 & 1.0 & 0 & 0 & 0 & 0 & 0 & 0\\\\0 & 0 & 1.0 & 0 & 0 & 0 & 0 & 0\\\\0 & 0 & 0 & 0 & 0 & 0 & 0 & 1.0\\\\0 & 0 & 0 & 0 & 1.0 & 0 & 0 & 0\\\\0 & 0 & 0 & 0 & 0 & 1.0 & 0 & 0\\\\0 & 0 & 0 & 0 & 0 & 0 & -1.0 & 0\\\\0 & 0 & 0 & 1.0 & 0 & 0 & 0 & 0\\end{matrix}\\right]$"
      ],
      "text/plain": [
       "Matrix([\n",
       "[1.0,   0,   0,   0,   0,   0,    0,   0],\n",
       "[  0, 1.0,   0,   0,   0,   0,    0,   0],\n",
       "[  0,   0, 1.0,   0,   0,   0,    0,   0],\n",
       "[  0,   0,   0,   0,   0,   0,    0, 1.0],\n",
       "[  0,   0,   0,   0, 1.0,   0,    0,   0],\n",
       "[  0,   0,   0,   0,   0, 1.0,    0,   0],\n",
       "[  0,   0,   0,   0,   0,   0, -1.0,   0],\n",
       "[  0,   0,   0, 1.0,   0,   0,    0,   0]])"
      ]
     },
     "metadata": {},
     "output_type": "display_data"
    }
   ],
   "source": [
    "get(circ)"
   ]
  },
  {
   "cell_type": "markdown",
   "metadata": {},
   "source": [
    "#### Cost\n",
    "\n",
    "The pseudo-Toffoli gate is half as expensive as the normal Toffoli gate, with the drawback of a single negative phase difference."
   ]
  },
  {
   "cell_type": "code",
   "execution_count": 128,
   "metadata": {},
   "outputs": [
    {
     "name": "stdout",
     "output_type": "stream",
     "text": [
      "cx: 3\n",
      "u3: 4\n",
      "Total cost: 34\n"
     ]
    },
    {
     "data": {
      "image/png": "[encoded data removed]",
      "text/plain": [
       "<Figure size 748.797x204.68 with 1 Axes>"
      ]
     },
     "execution_count": 128,
     "metadata": {},
     "output_type": "execute_result"
    }
   ],
   "source": [
    "dtp(circ)"
   ]
  },
  {
   "cell_type": "markdown",
   "metadata": {},
   "source": [
    "### C3X Gate"
   ]
  },
  {
   "cell_type": "markdown",
   "metadata": {},
   "source": [
    "First we start of with the classic implementation using MCT gate. This uses 4 qubits"
   ]
  },
  {
   "cell_type": "markdown",
   "metadata": {},
   "source": [
    "#### Circuit"
   ]
  },
  {
   "cell_type": "code",
   "execution_count": 78,
   "metadata": {
    "scrolled": true
   },
   "outputs": [
    {
     "data": {
      "image/png": "[encoded data removed]",
      "text/plain": [
       "<Figure size 146.797x264.88 with 1 Axes>"
      ]
     },
     "execution_count": 78,
     "metadata": {},
     "output_type": "execute_result"
    }
   ],
   "source": [
    "circ = QuantumCircuit(4)\n",
    "circ.mct([0, 1, 2] , 3)\n",
    "milk(circ)"
   ]
  },
  {
   "cell_type": "markdown",
   "metadata": {},
   "source": [
    "#### Cost"
   ]
  },
  {
   "cell_type": "code",
   "execution_count": 79,
   "metadata": {
    "scrolled": true
   },
   "outputs": [
    {
     "name": "stdout",
     "output_type": "stream",
     "text": [
      "cx: 20\n",
      "u3: 22\n",
      "Total cost: 222\n"
     ]
    }
   ],
   "source": [
    "dtp(circ, False)"
   ]
  },
  {
   "cell_type": "markdown",
   "metadata": {},
   "source": [
    "Another possible implementation is a little bit less expensive in CXs but uses 5 qubits"
   ]
  },
  {
   "cell_type": "markdown",
   "metadata": {},
   "source": [
    "#### Circuit"
   ]
  },
  {
   "cell_type": "code",
   "execution_count": 80,
   "metadata": {},
   "outputs": [
    {
     "data": {
      "image/png": "[encoded data removed]",
      "text/plain": [
       "<Figure size 267.197x325.08 with 1 Axes>"
      ]
     },
     "execution_count": 80,
     "metadata": {},
     "output_type": "execute_result"
    }
   ],
   "source": [
    "circ = QuantumCircuit(5)\n",
    "circ.ccx(0, 1, 2)\n",
    "circ.ccx(2, 3, 4)\n",
    "circ.ccx(0, 1, 2)\n",
    "\n",
    "milk(circ)"
   ]
  },
  {
   "cell_type": "markdown",
   "metadata": {},
   "source": [
    "#### Cost"
   ]
  },
  {
   "cell_type": "code",
   "execution_count": 81,
   "metadata": {},
   "outputs": [
    {
     "name": "stdout",
     "output_type": "stream",
     "text": [
      "cx: 18\n",
      "u3: 24\n",
      "Total cost: 204\n"
     ]
    }
   ],
   "source": [
    "dtp(circ, False)"
   ]
  },
  {
   "cell_type": "markdown",
   "metadata": {},
   "source": [
    "### p-C3X Gate"
   ]
  },
  {
   "cell_type": "markdown",
   "metadata": {},
   "source": [
    "The first approach aims to mirror the MCT gate above and uses 4 qubits"
   ]
  },
  {
   "cell_type": "code",
   "execution_count": 1192,
   "metadata": {},
   "outputs": [],
   "source": [
    "# Controlled-S\n",
    "def CS(n):\n",
    "    circ = QuantumCircuit(1)\n",
    "    circ.s(0)\n",
    "    circ = circ.control(n)\n",
    "    \n",
    "    return circ\n",
    "\n",
    "def CS_dagger(n):\n",
    "    circ = QuantumCircuit(1)\n",
    "    circ.sdg(0)\n",
    "    circ = circ.control(n)\n",
    "    \n",
    "    return circ\n",
    "\n",
    "def CCZ(circ, c1, c2, t):\n",
    "    circ = circ.compose(CS(1), [c2, t])\n",
    "    circ.cx(c1, c2)\n",
    "    circ = circ.compose(CS_dagger(1), [c2, t])\n",
    "    circ.cx(c1, c2)\n",
    "    circ = circ.compose(CS(1), [c1, t])\n",
    "\n",
    "    return circ\n",
    "\n",
    "def C3X(circ, c1, c2, c3, t):\n",
    "\n",
    "    circ.ch(c1, t)\n",
    "\n",
    "    circ = CCZ(circ, c2, c3, t)\n",
    "\n",
    "    circ.ch(c1, t)\n",
    "\n",
    "    return circ"
   ]
  },
  {
   "cell_type": "code",
   "execution_count": 1193,
   "metadata": {},
   "outputs": [
    {
     "data": {
      "image/png": "[encoded data removed]",
      "text/plain": [
       "<Figure size 869.197x264.88 with 1 Axes>"
      ]
     },
     "execution_count": 1193,
     "metadata": {},
     "output_type": "execute_result"
    },
    {
     "data": {
      "image/png": "[encoded data removed]",
      "text/plain": [
       "<Figure size 869.197x264.88 with 1 Axes>"
      ]
     },
     "metadata": {},
     "output_type": "display_data"
    }
   ],
   "source": [
    "circ = QuantumCircuit(4)\n",
    "circ = C3X(circ, 0, 1, 2, 3)\n",
    "\n",
    "milk(circ)"
   ]
  },
  {
   "cell_type": "code",
   "execution_count": 1135,
   "metadata": {},
   "outputs": [
    {
     "name": "stdout",
     "output_type": "stream",
     "text": [
      "cx: 10\n",
      "u3: 13\n",
      "Total cost: 113\n"
     ]
    }
   ],
   "source": [
    "dtp(circ, visual = False)"
   ]
  },
  {
   "cell_type": "markdown",
   "metadata": {},
   "source": [
    "The second approach uses 1 ancilla but is less expensive in terms of CXs"
   ]
  },
  {
   "cell_type": "markdown",
   "metadata": {},
   "source": [
    "#### Circuit"
   ]
  },
  {
   "cell_type": "code",
   "execution_count": 122,
   "metadata": {},
   "outputs": [
    {
     "data": {
      "image/png": "[encoded data removed]",
      "text/plain": [
       "<Figure size 628.397x325.08 with 1 Axes>"
      ]
     },
     "execution_count": 122,
     "metadata": {},
     "output_type": "execute_result"
    }
   ],
   "source": [
    "circ = QuantumCircuit(5)\n",
    "\n",
    "circ = C2X(circ, 0, 1, 2)\n",
    "#circ.ccx(0, 1, 2)\n",
    "\n",
    "circ = C2X(circ, 2, 3, 4)\n",
    "#circ.ccx(2, 3, 4)\n",
    "\n",
    "circ = C2X(circ, 0, 1, 2)\n",
    "#circ.ccx(0, 1, 2)\n",
    "\n",
    "milk(circ)"
   ]
  },
  {
   "cell_type": "markdown",
   "metadata": {},
   "source": [
    "#### Cost"
   ]
  },
  {
   "cell_type": "code",
   "execution_count": 123,
   "metadata": {},
   "outputs": [
    {
     "name": "stdout",
     "output_type": "stream",
     "text": [
      "cx: 9\n",
      "u3: 12\n",
      "Total cost: 102\n"
     ]
    }
   ],
   "source": [
    "dtp(circ, False)"
   ]
  },
  {
   "cell_type": "markdown",
   "metadata": {},
   "source": [
    "### C4X Gate"
   ]
  },
  {
   "cell_type": "markdown",
   "metadata": {},
   "source": [
    "The first approach uses MCT gates"
   ]
  },
  {
   "cell_type": "markdown",
   "metadata": {},
   "source": [
    "#### Circuit"
   ]
  },
  {
   "cell_type": "code",
   "execution_count": 109,
   "metadata": {},
   "outputs": [
    {
     "data": {
      "image/png": "[encoded data removed]",
      "text/plain": [
       "<Figure size 146.797x325.08 with 1 Axes>"
      ]
     },
     "execution_count": 109,
     "metadata": {},
     "output_type": "execute_result"
    }
   ],
   "source": [
    "circ = QuantumCircuit(5)\n",
    "circ.mct([0, 1, 2, 3] , 4)\n",
    "milk(circ)"
   ]
  },
  {
   "cell_type": "markdown",
   "metadata": {},
   "source": [
    "#### Cost"
   ]
  },
  {
   "cell_type": "code",
   "execution_count": 111,
   "metadata": {
    "scrolled": true
   },
   "outputs": [
    {
     "name": "stdout",
     "output_type": "stream",
     "text": [
      "cx: 44\n",
      "u3: 46\n",
      "Total cost: 486\n"
     ]
    }
   ],
   "source": [
    "dtp(circ, False)"
   ]
  },
  {
   "cell_type": "markdown",
   "metadata": {},
   "source": [
    "The second approach uses 2 ancillas but is less expensive in terms of CXs"
   ]
  },
  {
   "cell_type": "markdown",
   "metadata": {},
   "source": [
    "#### Circuit"
   ]
  },
  {
   "cell_type": "code",
   "execution_count": 104,
   "metadata": {},
   "outputs": [
    {
     "data": {
      "image/png": "[encoded data removed]",
      "text/plain": [
       "<Figure size 447.797x445.48 with 1 Axes>"
      ]
     },
     "execution_count": 104,
     "metadata": {},
     "output_type": "execute_result"
    }
   ],
   "source": [
    "circ = QuantumCircuit(7)\n",
    "circ.ccx(0, 1, 4)\n",
    "circ.ccx(2, 3, 5)\n",
    "circ.ccx(4, 5, 6)\n",
    "\n",
    "# Reverse\n",
    "circ.barrier()\n",
    "circ.ccx(2, 3, 5)\n",
    "circ.ccx(0, 1, 4)\n",
    "\n",
    "milk(circ)"
   ]
  },
  {
   "cell_type": "markdown",
   "metadata": {},
   "source": [
    "#### Cost"
   ]
  },
  {
   "cell_type": "code",
   "execution_count": 105,
   "metadata": {},
   "outputs": [
    {
     "name": "stdout",
     "output_type": "stream",
     "text": [
      "cx: 30\n",
      "u3: 40\n",
      "Total cost: 340\n"
     ]
    }
   ],
   "source": [
    "a = get(circ, nice = False)\n",
    "\n",
    "dtp(circ, False)"
   ]
  },
  {
   "cell_type": "markdown",
   "metadata": {},
   "source": [
    "### p-C4X"
   ]
  },
  {
   "cell_type": "markdown",
   "metadata": {},
   "source": [
    "This uses the same architecture as above, with an $MCT(n-1)$ gate"
   ]
  },
  {
   "cell_type": "markdown",
   "metadata": {},
   "source": [
    "#### Circuit"
   ]
  },
  {
   "cell_type": "code",
   "execution_count": 119,
   "metadata": {},
   "outputs": [
    {
     "data": {
      "image/png": "[encoded data removed]",
      "text/plain": [
       "<Figure size 507.997x325.08 with 1 Axes>"
      ]
     },
     "execution_count": 119,
     "metadata": {},
     "output_type": "execute_result"
    }
   ],
   "source": [
    "circ = QuantumCircuit(5)\n",
    "circ.ch(0, 4)\n",
    "\n",
    "circ.barrier()\n",
    "circ.h(4)\n",
    "circ.mct([1, 2, 3] , 4)\n",
    "circ.h(4)\n",
    "circ.barrier()\n",
    "circ.ch(0, 4)\n",
    "\n",
    "milk(circ)"
   ]
  },
  {
   "cell_type": "markdown",
   "metadata": {},
   "source": [
    "#### Cost"
   ]
  },
  {
   "cell_type": "code",
   "execution_count": 120,
   "metadata": {},
   "outputs": [
    {
     "name": "stdout",
     "output_type": "stream",
     "text": [
      "cx: 22\n",
      "u3: 25\n",
      "Total cost: 245\n"
     ]
    }
   ],
   "source": [
    "dtp(circ, False)"
   ]
  },
  {
   "cell_type": "markdown",
   "metadata": {},
   "source": [
    "#### Circuit"
   ]
  },
  {
   "cell_type": "markdown",
   "metadata": {},
   "source": [
    "The second approach uses 2 ancillas but is less expensive in terms of CXs"
   ]
  },
  {
   "cell_type": "code",
   "execution_count": 113,
   "metadata": {},
   "outputs": [
    {
     "data": {
      "image/png": "[encoded data removed]",
      "text/plain": [
       "<Figure size 1290.6x445.48 with 1 Axes>"
      ]
     },
     "execution_count": 113,
     "metadata": {},
     "output_type": "execute_result"
    }
   ],
   "source": [
    "circ = QuantumCircuit(7)\n",
    "circ = C2X(circ, 0, 1, 4)\n",
    "circ.barrier()\n",
    "circ = C2X(circ, 2, 3, 5)\n",
    "circ.barrier()\n",
    "circ = C2X(circ, 4, 5, 6)\n",
    "\n",
    "# Reverse\n",
    "circ.barrier()\n",
    "circ = C2X(circ, 2, 3, 5)\n",
    "circ.barrier()\n",
    "circ = C2X(circ, 0, 1, 4)\n",
    "circ.barrier()\n",
    "\n",
    "milk(circ)"
   ]
  },
  {
   "cell_type": "markdown",
   "metadata": {},
   "source": [
    "#### Cost"
   ]
  },
  {
   "cell_type": "code",
   "execution_count": 114,
   "metadata": {},
   "outputs": [
    {
     "name": "stdout",
     "output_type": "stream",
     "text": [
      "cx: 15\n",
      "u3: 20\n",
      "Total cost: 170\n"
     ]
    }
   ],
   "source": [
    "b = get(circ, nice = False)\n",
    "dtp(circ, False)"
   ]
  },
  {
   "cell_type": "markdown",
   "metadata": {},
   "source": [
    "### Discussions"
   ]
  },
  {
   "cell_type": "markdown",
   "metadata": {},
   "source": [
    "So far we have seen that there are two methods for building n-Toffoli. Number $1$ uses MCT, with no acilla qubits, and number $2$ uses exclusively Toffoli gate with $1$ or more ancilla qubits.\n",
    "\n",
    "For the pseudo-circuit, for approach $1$, up to $n = 3$, it is possible to decompose the CCZ into simple CX gates which makes reducing the cost possible. However, for $n > 3$, the best method so far is to use MCT with n-1 control gates and add on the $CH$ architecture. The cost reduced by this is a little bit more than $0.5$.\n",
    "\n",
    "For approach number $2$, all the Toffoli gates are replaced with pseudo-C2X and the cost is strictly reduced to $0.5$"
   ]
  },
  {
   "cell_type": "markdown",
   "metadata": {},
   "source": [
    "Now the discussion will continue in the linear algebra form. The first function generates the CnX gate. This can be used to check correctness of any proposed algorithms."
   ]
  },
  {
   "cell_type": "code",
   "execution_count": 130,
   "metadata": {},
   "outputs": [],
   "source": [
    "def CnX(n):\n",
    "    \n",
    "    \"\"\"\n",
    "    Return the unitary of the CnX gate\n",
    "    \n",
    "    Parameters:\n",
    "    -----------\n",
    "    n: int\n",
    "        Number of control bits\n",
    "    \n",
    "    Returns:\n",
    "    --------\n",
    "    U: ndarray\n",
    "    \n",
    "    \n",
    "    \"\"\"\n",
    "\n",
    "    # Build Identity\n",
    "    size = 2**(n+1)\n",
    "    U = np.identity(size)\n",
    "\n",
    "    # Change up the controlled elements\n",
    "\n",
    "    # 0\n",
    "    U[int(size/2)-1, int(size/2)-1] = 0\n",
    "    U[size-1, int(size/2)-1] = 1\n",
    "\n",
    "    # 1\n",
    "    U[size-1, size-1] = 0\n",
    "    U[int(size/2)-1, size-1] = 1\n",
    "    \n",
    "    return U"
   ]
  },
  {
   "cell_type": "markdown",
   "metadata": {},
   "source": [
    "### Proposed Architecture"
   ]
  },
  {
   "cell_type": "markdown",
   "metadata": {},
   "source": [
    "1. Nested CH-CZ Architecture"
   ]
  },
  {
   "cell_type": "markdown",
   "metadata": {},
   "source": [
    "#### 1. Nested CH-CZ architecture"
   ]
  },
  {
   "cell_type": "markdown",
   "metadata": {},
   "source": [
    "##### a. Pseudo-C2X Core"
   ]
  },
  {
   "cell_type": "markdown",
   "metadata": {},
   "source": [
    "Let's go through some examples of this. For the core, we use the pseudo-C2X. Note that the $CZ$ in the middle can be replaced by the $H-CX-H$ structure"
   ]
  },
  {
   "cell_type": "code",
   "execution_count": 135,
   "metadata": {},
   "outputs": [
    {
     "data": {
      "image/png": "[encoded data removed]",
      "text/plain": [
       "<Figure size 267.197x204.68 with 1 Axes>"
      ]
     },
     "execution_count": 135,
     "metadata": {},
     "output_type": "execute_result"
    }
   ],
   "source": [
    "# Circuit\n",
    "\n",
    "## n=2\n",
    "circ = QuantumCircuit(3)\n",
    "circ.ch(0, 2)\n",
    "circ.cz(1, 2)\n",
    "circ.ch(0, 2)\n",
    "\n",
    "milk(circ)"
   ]
  },
  {
   "cell_type": "code",
   "execution_count": 136,
   "metadata": {},
   "outputs": [
    {
     "data": {
      "text/latex": [
       "$\\displaystyle \\left[\\begin{matrix}1.0 & 0 & 0 & 0 & 0 & 0 & 0 & 0\\\\0 & 1.0 & 0 & 0 & 0 & 0 & 0 & 0\\\\0 & 0 & 1.0 & 0 & 0 & 0 & 0 & 0\\\\0 & 0 & 0 & 0 & 0 & 0 & 0 & 1.0\\\\0 & 0 & 0 & 0 & 1.0 & 0 & 0 & 0\\\\0 & 0 & 0 & 0 & 0 & 1.0 & 0 & 0\\\\0 & 0 & 0 & 0 & 0 & 0 & -1.0 & 0\\\\0 & 0 & 0 & 1.0 & 0 & 0 & 0 & 0\\end{matrix}\\right]$"
      ],
      "text/plain": [
       "Matrix([\n",
       "[1.0,   0,   0,   0,   0,   0,    0,   0],\n",
       "[  0, 1.0,   0,   0,   0,   0,    0,   0],\n",
       "[  0,   0, 1.0,   0,   0,   0,    0,   0],\n",
       "[  0,   0,   0,   0,   0,   0,    0, 1.0],\n",
       "[  0,   0,   0,   0, 1.0,   0,    0,   0],\n",
       "[  0,   0,   0,   0,   0, 1.0,    0,   0],\n",
       "[  0,   0,   0,   0,   0,   0, -1.0,   0],\n",
       "[  0,   0,   0, 1.0,   0,   0,    0,   0]])"
      ]
     },
     "metadata": {},
     "output_type": "display_data"
    }
   ],
   "source": [
    "# Unitary\n",
    "get(circ)"
   ]
  },
  {
   "cell_type": "markdown",
   "metadata": {},
   "source": [
    "Here we take the previous pseudo $C2X$ and add two Hadamard on both sides, and repeat the $CH$s. Recall that that $CH-Z-CH = \\text{pseudo-}X$, and $HXH = \\text{pseudo-}Z$"
   ]
  },
  {
   "cell_type": "code",
   "execution_count": 245,
   "metadata": {},
   "outputs": [
    {
     "data": {
      "image/png": "[encoded data removed]",
      "text/plain": [
       "<Figure size 628.397x264.88 with 1 Axes>"
      ]
     },
     "execution_count": 245,
     "metadata": {},
     "output_type": "execute_result"
    }
   ],
   "source": [
    "# Circuit\n",
    "\n",
    "## n=3\n",
    "circ = QuantumCircuit(4)\n",
    "\n",
    "circ.ch(0, 3)\n",
    "\n",
    "# pesudo-CCZ\n",
    "circ.barrier()\n",
    "circ.h(3)\n",
    "circ.ch(1, 3)\n",
    "circ.cz(2, 3)\n",
    "circ.ch(1, 3)\n",
    "circ.h(3)\n",
    "circ.barrier()\n",
    "\n",
    "circ.ch(0, 3)\n",
    "\n",
    "milk(circ)"
   ]
  },
  {
   "cell_type": "code",
   "execution_count": 246,
   "metadata": {
    "scrolled": false
   },
   "outputs": [
    {
     "data": {
      "text/latex": [
       "$\\displaystyle \\left[\\begin{array}{cccccccccccccccc}1.0 & 0 & 0 & 0 & 0 & 0 & 0 & 0 & 0 & 0 & 0 & 0 & 0 & 0 & 0 & 0\\\\0 & 1.0 & 0 & 0 & 0 & 0 & 0 & 0 & 0 & 0 & 0 & 0 & 0 & 0 & 0 & 0\\\\0 & 0 & 1.0 & 0 & 0 & 0 & 0 & 0 & 0 & 0 & 0 & 0 & 0 & 0 & 0 & 0\\\\0 & 0 & 0 & 1.0 & 0 & 0 & 0 & 0 & 0 & 0 & 0 & 0 & 0 & 0 & 0 & 0\\\\0 & 0 & 0 & 0 & 0 & 0 & 0 & 0 & 0 & 0 & 0 & 0 & 1.0 & 0 & 0 & 0\\\\0 & 0 & 0 & 0 & 0 & 1.0 & 0 & 0 & 0 & 0 & 0 & 0 & 0 & 0 & 0 & 0\\\\0 & 0 & 0 & 0 & 0 & 0 & 1.0 & 0 & 0 & 0 & 0 & 0 & 0 & 0 & 0 & 0\\\\0 & 0 & 0 & 0 & 0 & 0 & 0 & 0 & 0 & 0 & 0 & 0 & 0 & 0 & 0 & 1.0\\\\0 & 0 & 0 & 0 & 0 & 0 & 0 & 0 & 1.0 & 0 & 0 & 0 & 0 & 0 & 0 & 0\\\\0 & 0 & 0 & 0 & 0 & 0 & 0 & 0 & 0 & 1.0 & 0 & 0 & 0 & 0 & 0 & 0\\\\0 & 0 & 0 & 0 & 0 & 0 & 0 & 0 & 0 & 0 & 1.0 & 0 & 0 & 0 & 0 & 0\\\\0 & 0 & 0 & 0 & 0 & 0 & 0 & 0 & 0 & 0 & 0 & 1.0 & 0 & 0 & 0 & 0\\\\0 & 0 & 0 & 0 & 1.0 & 0 & 0 & 0 & 0 & 0 & 0 & 0 & 0 & 0 & 0 & 0\\\\0 & 0 & 0 & 0 & 0 & 0 & 0 & 0 & 0 & 0 & 0 & 0 & 0 & -1.0 & 0 & 0\\\\0 & 0 & 0 & 0 & 0 & 0 & 0 & 0 & 0 & 0 & 0 & 0 & 0 & 0 & -1.0 & 0\\\\0 & 0 & 0 & 0 & 0 & 0 & 0 & 1.0 & 0 & 0 & 0 & 0 & 0 & 0 & 0 & 0\\end{array}\\right]$"
      ],
      "text/plain": [
       "Matrix([\n",
       "[1.0,   0,   0,   0,   0,   0,   0,   0,   0,   0,   0,   0,   0,    0,    0,   0],\n",
       "[  0, 1.0,   0,   0,   0,   0,   0,   0,   0,   0,   0,   0,   0,    0,    0,   0],\n",
       "[  0,   0, 1.0,   0,   0,   0,   0,   0,   0,   0,   0,   0,   0,    0,    0,   0],\n",
       "[  0,   0,   0, 1.0,   0,   0,   0,   0,   0,   0,   0,   0,   0,    0,    0,   0],\n",
       "[  0,   0,   0,   0,   0,   0,   0,   0,   0,   0,   0,   0, 1.0,    0,    0,   0],\n",
       "[  0,   0,   0,   0,   0, 1.0,   0,   0,   0,   0,   0,   0,   0,    0,    0,   0],\n",
       "[  0,   0,   0,   0,   0,   0, 1.0,   0,   0,   0,   0,   0,   0,    0,    0,   0],\n",
       "[  0,   0,   0,   0,   0,   0,   0,   0,   0,   0,   0,   0,   0,    0,    0, 1.0],\n",
       "[  0,   0,   0,   0,   0,   0,   0,   0, 1.0,   0,   0,   0,   0,    0,    0,   0],\n",
       "[  0,   0,   0,   0,   0,   0,   0,   0,   0, 1.0,   0,   0,   0,    0,    0,   0],\n",
       "[  0,   0,   0,   0,   0,   0,   0,   0,   0,   0, 1.0,   0,   0,    0,    0,   0],\n",
       "[  0,   0,   0,   0,   0,   0,   0,   0,   0,   0,   0, 1.0,   0,    0,    0,   0],\n",
       "[  0,   0,   0,   0, 1.0,   0,   0,   0,   0,   0,   0,   0,   0,    0,    0,   0],\n",
       "[  0,   0,   0,   0,   0,   0,   0,   0,   0,   0,   0,   0,   0, -1.0,    0,   0],\n",
       "[  0,   0,   0,   0,   0,   0,   0,   0,   0,   0,   0,   0,   0,    0, -1.0,   0],\n",
       "[  0,   0,   0,   0,   0,   0,   0, 1.0,   0,   0,   0,   0,   0,    0,    0,   0]])"
      ]
     },
     "metadata": {},
     "output_type": "display_data"
    }
   ],
   "source": [
    "get(circ)"
   ]
  },
  {
   "cell_type": "markdown",
   "metadata": {},
   "source": [
    "Now we define a matrix to compare the accuracy of a proposed unitary. \n",
    "\n",
    "Let $A$ be the correct $CnX$ matrix and $B$ be a proposed unitary. Both matrices has dimension $(2^{n+1}, 2^{n+1})$, where $n$ is the number of control qubits.\n",
    "\n",
    "The number of errors is defined as the number of non-zeros on the proposed unitary that is on a different position compared to the original matrix\n",
    "\n",
    "$$acc = 1 - \\frac{E}{2^{(n+1)}}$$ \n",
    "\n",
    "For example, despite the phase difference,\n",
    "\n",
    "$$\\begin{bmatrix} 1 & 0 \\\\ 0 & 1 \\end{bmatrix} \\ \\cong \\ \\begin{bmatrix} 1 & 0 \\\\ 0 & -1 \\end{bmatrix}$$\n",
    "\n",
    "However, when the non-zero is in a different position\n",
    "\n",
    "$$\\begin{bmatrix} 1 & 0 \\\\ 0 & 1 \\end{bmatrix} \\ \\not\\cong \\ \\begin{bmatrix} 1 & 1 \\\\ 0 & 0 \\end{bmatrix}$$"
   ]
  },
  {
   "cell_type": "code",
   "execution_count": 875,
   "metadata": {},
   "outputs": [],
   "source": [
    "acc = lambda n, a, b: np.sum(np.all(np.abs(a) == np.round(np.abs(b)), axis = 1)) / 2**(n+1)"
   ]
  },
  {
   "cell_type": "markdown",
   "metadata": {},
   "source": [
    "Now we build a function that generates the general $CH-CZ$ architecture. First, we start off with building the visual qiskit circuit"
   ]
  },
  {
   "cell_type": "code",
   "execution_count": 1191,
   "metadata": {},
   "outputs": [],
   "source": [
    "def nested_C2X(n):\n",
    "    \n",
    "    ### n has to minimum 2\n",
    "\n",
    "    circ = QuantumCircuit(n+1)\n",
    "\n",
    "    for i in range(n-1):\n",
    "        circ.ch(i, n)\n",
    "        circ.h(n)\n",
    "\n",
    "    circ.cx(n-1, n)\n",
    "\n",
    "    for i in reversed(range(n-1)): \n",
    "        circ.h(n)\n",
    "        circ.ch(i, n)\n",
    "        \n",
    "    return circ"
   ]
  },
  {
   "cell_type": "code",
   "execution_count": 1039,
   "metadata": {},
   "outputs": [
    {
     "data": {
      "text/latex": [
       "$\\displaystyle \\left[\\begin{matrix}1.0 & 0 & 0 & 0 & 0 & 0 & 0 & 0\\\\0 & 1.0 & 0 & 0 & 0 & 0 & 0 & 0\\\\0 & 0 & 1.0 & 0 & 0 & 0 & 0 & 0\\\\0 & 0 & 0 & 0 & 0 & 0 & 0 & 1.0\\\\0 & 0 & 0 & 0 & 1.0 & 0 & 0 & 0\\\\0 & 0 & 0 & 0 & 0 & 1.0 & 0 & 0\\\\0 & 0 & 0 & 0 & 0 & 0 & -1.0 & 0\\\\0 & 0 & 0 & 1.0 & 0 & 0 & 0 & 0\\end{matrix}\\right]$"
      ],
      "text/plain": [
       "Matrix([\n",
       "[1.0,   0,   0,   0,   0,   0,    0,   0],\n",
       "[  0, 1.0,   0,   0,   0,   0,    0,   0],\n",
       "[  0,   0, 1.0,   0,   0,   0,    0,   0],\n",
       "[  0,   0,   0,   0,   0,   0,    0, 1.0],\n",
       "[  0,   0,   0,   0, 1.0,   0,    0,   0],\n",
       "[  0,   0,   0,   0,   0, 1.0,    0,   0],\n",
       "[  0,   0,   0,   0,   0,   0, -1.0,   0],\n",
       "[  0,   0,   0, 1.0,   0,   0,    0,   0]])"
      ]
     },
     "metadata": {},
     "output_type": "display_data"
    },
    {
     "data": {
      "image/png": "[encoded data removed]",
      "text/plain": [
       "<Figure size 507.997x204.68 with 1 Axes>"
      ]
     },
     "metadata": {},
     "output_type": "display_data"
    }
   ],
   "source": [
    "circ= nested_C2X(2)\n",
    "milk(circ)\n",
    "get(circ)"
   ]
  },
  {
   "cell_type": "markdown",
   "metadata": {},
   "source": [
    "Now we compare the unitary of this circuit to the correct $CnX$ unitary, from where we can find the accuracy"
   ]
  },
  {
   "cell_type": "code",
   "execution_count": 922,
   "metadata": {},
   "outputs": [],
   "source": [
    "acc_list = []\n",
    "\n",
    "for n in range(2, 11):\n",
    "\n",
    "    a = CnX(n)\n",
    "\n",
    "    b = get(nested_C2X(n), nice = False)\n",
    "\n",
    "    acc_list.append(acc(n, a, b))"
   ]
  },
  {
   "cell_type": "markdown",
   "metadata": {},
   "source": [
    "Plotting the accuracy as a function of control gates, we see that the accuracy is monotonic decreasing but it seems to asymptotes at 0.75 or $\\frac{3}{4}$"
   ]
  },
  {
   "cell_type": "code",
   "execution_count": 923,
   "metadata": {},
   "outputs": [
    {
     "data": {
      "text/plain": [
       "[<matplotlib.lines.Line2D at 0x7f859725d810>]"
      ]
     },
     "execution_count": 923,
     "metadata": {},
     "output_type": "execute_result"
    },
    {
     "data": {
      "image/png": "[encoded data removed]",
      "text/plain": [
       "<Figure size 432x288 with 1 Axes>"
      ]
     },
     "metadata": {
      "needs_background": "light"
     },
     "output_type": "display_data"
    }
   ],
   "source": [
    "plt.plot(range(2, 11), acc_list)"
   ]
  },
  {
   "cell_type": "code",
   "execution_count": 910,
   "metadata": {},
   "outputs": [
    {
     "data": {
      "text/plain": [
       "[1.0,\n",
       " 0.875,\n",
       " 0.8125,\n",
       " 0.78125,\n",
       " 0.765625,\n",
       " 0.7578125,\n",
       " 0.75390625,\n",
       " 0.751953125,\n",
       " 0.7509765625]"
      ]
     },
     "execution_count": 910,
     "metadata": {},
     "output_type": "execute_result"
    }
   ],
   "source": [
    "acc_list"
   ]
  },
  {
   "cell_type": "markdown",
   "metadata": {},
   "source": [
    "Now we can retreive the number of errors from the accuracy list"
   ]
  },
  {
   "cell_type": "code",
   "execution_count": 911,
   "metadata": {},
   "outputs": [
    {
     "data": {
      "text/plain": [
       "array([  0.,   2.,   6.,  14.,  30.,  62., 126., 254., 510.])"
      ]
     },
     "execution_count": 911,
     "metadata": {},
     "output_type": "execute_result"
    }
   ],
   "source": [
    "acc_list = np.array(acc_list)\n",
    "(1 - acc_list) * 2**np.arange(3, 12)"
   ]
  },
  {
   "cell_type": "markdown",
   "metadata": {},
   "source": [
    "We can express the number of errors as a sequence. We start at $s = 2$"
   ]
  },
  {
   "cell_type": "markdown",
   "metadata": {},
   "source": [
    "$$a_s = 2^{s-1} - 2$$\n",
    "\n",
    "And we can express the number of vectors in the matrix as another sequence\n",
    "\n",
    "$$b_s = 2^{s+1}$$\n",
    "\n",
    "As $s$ increases $\\frac{a_s}{b_s}$ approaches $\\frac{1}{4}$\n",
    "\n",
    "$$\\lim_{s\\to \\infty} = \\frac{2^{s-1} - 2}{2^{s+1}} = \\frac{2^{s-1}}{2^{s+1}} - \\frac{2}{2^{s+1}} = 2^{(s-1-s-1)} - 0 = 2^{-2} = \\frac{1}{4}$$"
   ]
  },
  {
   "cell_type": "markdown",
   "metadata": {},
   "source": [
    "##### b. Pseudo-C3X Core"
   ]
  },
  {
   "cell_type": "markdown",
   "metadata": {},
   "source": [
    "Now instead, if we set the core circuit as the pseudo-C3X built above."
   ]
  },
  {
   "cell_type": "code",
   "execution_count": 1189,
   "metadata": {},
   "outputs": [],
   "source": [
    "def nested_C3X(n):\n",
    "    \n",
    "    ## n has minimum of 3\n",
    "\n",
    "    circ = QuantumCircuit(n+1)\n",
    "\n",
    "    for i in range(n-3):\n",
    "        circ.ch(i, n)\n",
    "        circ.h(n)\n",
    "\n",
    "    circ = C3X(circ, n-3, n-2, n-1, n)\n",
    "\n",
    "    for i in reversed(range(n-3)): \n",
    "        circ.h(n)\n",
    "        circ.ch(i, n)\n",
    "        \n",
    "    return circ"
   ]
  },
  {
   "cell_type": "code",
   "execution_count": 1190,
   "metadata": {},
   "outputs": [
    {
     "data": {
      "image/png": "[encoded data removed]",
      "text/plain": [
       "<Figure size 989.597x264.88 with 1 Axes>"
      ]
     },
     "execution_count": 1190,
     "metadata": {},
     "output_type": "execute_result"
    },
    {
     "data": {
      "image/png": "[encoded data removed]",
      "text/plain": [
       "<Figure size 989.597x264.88 with 1 Axes>"
      ]
     },
     "metadata": {},
     "output_type": "display_data"
    }
   ],
   "source": [
    "circ = nested_C3X(3)\n",
    "\n",
    "milk(circ)"
   ]
  },
  {
   "cell_type": "markdown",
   "metadata": {},
   "source": [
    "We again calculate the accuracy at different value of $n$."
   ]
  },
  {
   "cell_type": "code",
   "execution_count": 924,
   "metadata": {},
   "outputs": [],
   "source": [
    "acc_list = []\n",
    "\n",
    "for n in range(3, 11):\n",
    "\n",
    "    a = CnX(n)\n",
    "\n",
    "    b = get(nested_C3X(n), nice = False)\n",
    "\n",
    "    acc_list.append(acc(n, a, b))"
   ]
  },
  {
   "cell_type": "code",
   "execution_count": 925,
   "metadata": {},
   "outputs": [
    {
     "data": {
      "text/plain": [
       "[1.0,\n",
       " 0.9375,\n",
       " 0.90625,\n",
       " 0.890625,\n",
       " 0.8828125,\n",
       " 0.87890625,\n",
       " 0.876953125,\n",
       " 0.8759765625]"
      ]
     },
     "execution_count": 925,
     "metadata": {},
     "output_type": "execute_result"
    }
   ],
   "source": [
    "acc_list"
   ]
  },
  {
   "cell_type": "markdown",
   "metadata": {},
   "source": [
    "As a function of the number of control gates, the graph seems to asymptote at $\\frac{7}{8}$"
   ]
  },
  {
   "cell_type": "code",
   "execution_count": 926,
   "metadata": {},
   "outputs": [
    {
     "data": {
      "text/plain": [
       "[<matplotlib.lines.Line2D at 0x7f8596190350>]"
      ]
     },
     "execution_count": 926,
     "metadata": {},
     "output_type": "execute_result"
    },
    {
     "data": {
      "image/png": "[encoded data removed]",
      "text/plain": [
       "<Figure size 432x288 with 1 Axes>"
      ]
     },
     "metadata": {
      "needs_background": "light"
     },
     "output_type": "display_data"
    }
   ],
   "source": [
    "plt.plot(range(3, 11), acc_list)"
   ]
  },
  {
   "cell_type": "markdown",
   "metadata": {},
   "source": [
    "Calculate the number of errors"
   ]
  },
  {
   "cell_type": "code",
   "execution_count": 927,
   "metadata": {},
   "outputs": [
    {
     "data": {
      "text/plain": [
       "array([  0.,   2.,   6.,  14.,  30.,  62., 126., 254.])"
      ]
     },
     "execution_count": 927,
     "metadata": {},
     "output_type": "execute_result"
    }
   ],
   "source": [
    "acc_list = np.array(acc_list)\n",
    "(1 - acc_list) * 2**np.arange(4, 12)"
   ]
  },
  {
   "cell_type": "markdown",
   "metadata": {},
   "source": [
    "The sequence of the number of errors is the same as above. Here, we start with $s = 3$\n",
    "\n",
    "$$a_s = 2^{s-2} - 2$$\n",
    "\n",
    "And we can express the number of vectors in the matrix as another sequence\n",
    "\n",
    "$$b_s = 2^{s+1}$$\n",
    "\n",
    "As $s$ increases $\\frac{a_s}{b_s}$ approaches $\\frac{1}{8}$\n",
    "\n",
    "$$\\lim_{s\\to \\infty} = \\frac{2^{s-2} - 2}{2^{s+1}} = \\frac{2^{s-2}}{2^{s+1}} - \\frac{2}{2^{s+1}} = 2^{(s-2-s-1)} - 0 = 2^{-3} = \\frac{1}{8}$$"
   ]
  },
  {
   "cell_type": "markdown",
   "metadata": {},
   "source": [
    "##### c. Pseudo-CnX Core"
   ]
  },
  {
   "cell_type": "markdown",
   "metadata": {},
   "source": [
    "Using the two examples aboved as reference, we can infer the following\n",
    "\n",
    "The sequence of the number of errors starting with $s = n$ is defined as\n",
    "\n",
    "$$a_s = 2^{s-n+1} - 2$$\n",
    "\n",
    "And we can express the number of vectors in the matrix as another sequence\n",
    "\n",
    "$$b_s = 2^{s+1}$$\n",
    "\n",
    "As $s$ increases $\\frac{a_s}{b_s}$ approaches $\\frac{1}{2^n}$. We can define this ratio as the max single gate error.\n",
    "\n",
    "$$\\lim_{s\\to \\infty} = \\frac{2^{s-n+1} - 2}{2^{s+1}} = \\frac{2^{s-n+1}}{2^{s+1}} - \\frac{2}{2^{s+1}} = 2^{(s-n+1-s-1)} - 0 = 2^{-n} = \\frac{1}{2^n}$$\n",
    "\n",
    "To find the value of minimum value of $n$ of the pseudo $CnX$ core that has an error ($E$) less than the threshold $\\delta$\n",
    "\n",
    "$$E = \\frac{1}{2^n} \\leq \\delta$$\n",
    "\n",
    "This means that we have to set\n",
    "\n",
    "$$n \\geq \\lfloor -\\log_2(\\delta) \\rfloor$$"
   ]
  },
  {
   "cell_type": "markdown",
   "metadata": {},
   "source": [
    "##### d. Cost"
   ]
  },
  {
   "cell_type": "markdown",
   "metadata": {},
   "source": [
    "The biggest incentives to using pseudo-$CnX$ gate over normal $MCT$ is the cost reduction. As demonstrated in the first section. If we use the $MCT(n-1)$ core with $CH$s and $H$s. Here we are counting the number of $U3$ and $CX$ gates used.\n",
    "\n",
    "First, we start off by counting the cost of the normal $MCT(n)$ gates for $n\\geq 2$."
   ]
  },
  {
   "cell_type": "code",
   "execution_count": 978,
   "metadata": {},
   "outputs": [],
   "source": [
    "cx_list = []\n",
    "u3_list = []\n",
    "\n",
    "for n in range(2, 9):\n",
    "\n",
    "    circ = QuantumCircuit(n+1)\n",
    "    circ.mct(list(range(n)),n)\n",
    "\n",
    "    a, b = dtp(circ, print_details=False, visual=False, return_values=True)\n",
    "\n",
    "    cx_list.append(a)\n",
    "    u3_list.append(b)"
   ]
  },
  {
   "cell_type": "code",
   "execution_count": 979,
   "metadata": {},
   "outputs": [
    {
     "data": {
      "text/plain": [
       "[6, 20, 44, 92, 188, 380, 764]"
      ]
     },
     "execution_count": 979,
     "metadata": {},
     "output_type": "execute_result"
    }
   ],
   "source": [
    "cx_list"
   ]
  },
  {
   "cell_type": "code",
   "execution_count": 980,
   "metadata": {},
   "outputs": [
    {
     "data": {
      "text/plain": [
       "[8, 22, 46, 94, 190, 382, 766]"
      ]
     },
     "execution_count": 980,
     "metadata": {},
     "output_type": "execute_result"
    }
   ],
   "source": [
    "u3_list"
   ]
  },
  {
   "cell_type": "markdown",
   "metadata": {},
   "source": [
    "Plotting the number of $CX$s used as a function of number of control qubits"
   ]
  },
  {
   "cell_type": "code",
   "execution_count": 968,
   "metadata": {},
   "outputs": [
    {
     "data": {
      "text/plain": [
       "[<matplotlib.lines.Line2D at 0x7f8494bdcc50>]"
      ]
     },
     "execution_count": 968,
     "metadata": {},
     "output_type": "execute_result"
    },
    {
     "data": {
      "image/png": "[encoded data removed]",
      "text/plain": [
       "<Figure size 432x288 with 1 Axes>"
      ]
     },
     "metadata": {
      "needs_background": "light"
     },
     "output_type": "display_data"
    }
   ],
   "source": [
    "plt.plot(np.arange(6), cx_list)"
   ]
  },
  {
   "cell_type": "markdown",
   "metadata": {},
   "source": [
    "From these two lists, we can model the number of gates in each list as a function of the number of control"
   ]
  },
  {
   "cell_type": "markdown",
   "metadata": {},
   "source": [
    "The sequence appears to be piece-wise. \n",
    "\n",
    "For $n = 2$,\n",
    "\n",
    "$$cx_n = 6$$\n",
    "\n",
    "$$u3_n = 8$$\n",
    "\n",
    "For $n>2$, \n",
    "\n",
    "$$cx_n = 3 \\cdot2^{n} - 4$$\n",
    "\n",
    "$$u3_n = 3 \\cdot2^{n} - 2$$\n",
    "\n"
   ]
  },
  {
   "cell_type": "markdown",
   "metadata": {},
   "source": [
    "Now on to our pseudo-$CnX$ gate"
   ]
  },
  {
   "cell_type": "markdown",
   "metadata": {},
   "source": [
    "First, starting with the $C2X$ core."
   ]
  },
  {
   "cell_type": "code",
   "execution_count": 985,
   "metadata": {},
   "outputs": [],
   "source": [
    "cx_list = []\n",
    "u3_list = []\n",
    "\n",
    "for n in range(2, 9):\n",
    "\n",
    "    circ = nested_C2X(n)\n",
    "\n",
    "    a, b = dtp(circ, print_details=False, visual=False, return_values=True)\n",
    "\n",
    "    cx_list.append(a)\n",
    "    u3_list.append(b)"
   ]
  },
  {
   "cell_type": "code",
   "execution_count": 986,
   "metadata": {},
   "outputs": [
    {
     "data": {
      "text/plain": [
       "[3, 5, 7, 9, 11, 13, 15]"
      ]
     },
     "execution_count": 986,
     "metadata": {},
     "output_type": "execute_result"
    }
   ],
   "source": [
    "cx_list"
   ]
  },
  {
   "cell_type": "code",
   "execution_count": 987,
   "metadata": {},
   "outputs": [
    {
     "data": {
      "text/plain": [
       "[4, 8, 12, 16, 20, 24, 28]"
      ]
     },
     "execution_count": 987,
     "metadata": {},
     "output_type": "execute_result"
    }
   ],
   "source": [
    "u3_list"
   ]
  },
  {
   "cell_type": "markdown",
   "metadata": {},
   "source": [
    "We can easily see that starting with $n=2$\n",
    "\n",
    "$$cx_n = 2n-1$$\n",
    "\n",
    "$$u3_n = 2n$$\n",
    "\n",
    "This is a huge improvement compared to the $MCT(n)$ from above"
   ]
  },
  {
   "cell_type": "markdown",
   "metadata": {},
   "source": [
    "Now onto the $C3X$ core"
   ]
  },
  {
   "cell_type": "code",
   "execution_count": 1011,
   "metadata": {},
   "outputs": [],
   "source": [
    "cx_list = []\n",
    "u3_list = []\n",
    "\n",
    "for n in range(3, 9):\n",
    "\n",
    "    circ = nested_C3X(n)\n",
    "\n",
    "    a, b = dtp(circ, print_details=False, visual=False, return_values=True)\n",
    "\n",
    "    cx_list.append(a)\n",
    "    u3_list.append(b)"
   ]
  },
  {
   "cell_type": "code",
   "execution_count": 1012,
   "metadata": {},
   "outputs": [
    {
     "data": {
      "text/plain": [
       "[10, 12, 14, 16, 18, 20]"
      ]
     },
     "execution_count": 1012,
     "metadata": {},
     "output_type": "execute_result"
    }
   ],
   "source": [
    "cx_list"
   ]
  },
  {
   "cell_type": "code",
   "execution_count": 1013,
   "metadata": {},
   "outputs": [
    {
     "data": {
      "text/plain": [
       "[13, 17, 21, 25, 29, 33]"
      ]
     },
     "execution_count": 1013,
     "metadata": {},
     "output_type": "execute_result"
    }
   ],
   "source": [
    "u3_list"
   ]
  },
  {
   "cell_type": "markdown",
   "metadata": {},
   "source": [
    "Again, the sequence can be easily spotted. Starting with $n=3$,\n",
    "\n",
    "$$cx_n = 2n+4$$\n",
    "\n",
    "$$u3_n = 4n+1$$\n",
    "\n"
   ]
  },
  {
   "cell_type": "markdown",
   "metadata": {},
   "source": [
    "As of now, we know of no efficient way to create the $C4X$ core, much less $CnX$ core for $n>3$. \n",
    "\n",
    "If we did, we would not have to use the pseudo-$CnX$ method anymore. However, looking at the previous two results, one can come up with the postulate that the total number of gate (u3 + cx) to create $C4X$ is $ > 54$"
   ]
  },
  {
   "cell_type": "markdown",
   "metadata": {},
   "source": [
    "#### Pseudo-C4X Attempt"
   ]
  },
  {
   "cell_type": "code",
   "execution_count": 1163,
   "metadata": {},
   "outputs": [],
   "source": [
    "# Controlled-T\n",
    "def CT(n):\n",
    "    circ = QuantumCircuit(1)\n",
    "    circ.t(0)\n",
    "    circ = circ.control(n)\n",
    "    \n",
    "    return circ\n",
    "\n",
    "def CT_dagger(n):\n",
    "    circ = QuantumCircuit(1)\n",
    "    circ.tdg(0)\n",
    "    circ = circ.control(n)\n",
    "    \n",
    "    return circ\n",
    "\n",
    "def CCS(circ, c1, c2, t):\n",
    "    circ = circ.compose(CT(1), [c2, t])\n",
    "    circ.cx(c1, c2)\n",
    "    circ = circ.compose(CT_dagger(1), [c2, t])\n",
    "    circ.cx(c1, c2)\n",
    "    circ = circ.compose(CT(1), [c1, t])\n",
    "\n",
    "    return circ"
   ]
  },
  {
   "cell_type": "code",
   "execution_count": 1178,
   "metadata": {
    "scrolled": false
   },
   "outputs": [],
   "source": [
    "def C4X(circ, c1, c2, c3, c4, t):\n",
    "\n",
    "    circ.ch(c1, t)\n",
    "\n",
    "    circ = circ.compose(CS(1), [c4, t])\n",
    "\n",
    "    circ.barrier()\n",
    "\n",
    "    # circ.ccx(0, 1, 2)\n",
    "    circ = C2X(circ, c2, c3, c4)\n",
    "\n",
    "    circ.barrier()\n",
    "\n",
    "    circ = circ.compose(CS_dagger(1), [c4, t])\n",
    "\n",
    "    circ.barrier()\n",
    "\n",
    "    # circ.ccx(0, 1, 2)\n",
    "    circ = C2X(circ, c2, c3, c4)\n",
    "\n",
    "    circ.barrier()\n",
    "\n",
    "    circ = CCS(circ, c2, c3, t)\n",
    "\n",
    "    circ.barrier()\n",
    "\n",
    "    circ.ch(c1, t)\n",
    "    \n",
    "    return circ"
   ]
  },
  {
   "cell_type": "code",
   "execution_count": 1194,
   "metadata": {},
   "outputs": [
    {
     "data": {
      "image/png": "[encoded data removed]",
      "text/plain": [
       "<Figure size 1591.6x686.28 with 1 Axes>"
      ]
     },
     "metadata": {},
     "output_type": "display_data"
    }
   ],
   "source": [
    "circ = QuantumCircuit(5)\n",
    "\n",
    "circ = C4X(circ, 0, 1, 2, 3, 4)\n",
    "\n",
    "if True:\n",
    "    milk(circ)"
   ]
  },
  {
   "cell_type": "code",
   "execution_count": 1183,
   "metadata": {},
   "outputs": [
    {
     "name": "stdout",
     "output_type": "stream",
     "text": [
      "cx: 20\n",
      "u3: 26\n",
      "Total cost: 226\n"
     ]
    }
   ],
   "source": [
    "dtp(circ, visual = False)"
   ]
  },
  {
   "cell_type": "markdown",
   "metadata": {},
   "source": [
    "Improve on the micro-phase, now it's 2*phase"
   ]
  },
  {
   "cell_type": "markdown",
   "metadata": {},
   "source": [
    "#### Pseudo-C5X"
   ]
  },
  {
   "cell_type": "code",
   "execution_count": 1222,
   "metadata": {},
   "outputs": [],
   "source": [
    "# Controlled-T\n",
    "def CP(n, phase):\n",
    "    circ = QuantumCircuit(1)\n",
    "    circ.p(phase, 0)\n",
    "    circ = circ.control(n)\n",
    "    \n",
    "    return circ\n",
    "\n",
    "def CP_dagger(n, phase):\n",
    "    circ = QuantumCircuit(1)\n",
    "    circ.p(-phase, 0)\n",
    "    circ = circ.control(n)\n",
    "    \n",
    "    return circ\n",
    "\n",
    "def CCP(circ, c1, c2, t, phase):\n",
    "    circ = circ.compose(CP(1, phase), [c2, t])\n",
    "    circ.cx(c1, c2)\n",
    "    circ = circ.compose(CP_dagger(1, phase), [c2, t])\n",
    "    circ.cx(c1, c2)\n",
    "    circ = circ.compose(CP(1, phase), [c1, t])\n",
    "\n",
    "    return circ"
   ]
  },
  {
   "cell_type": "code",
   "execution_count": 1240,
   "metadata": {
    "scrolled": false
   },
   "outputs": [
    {
     "data": {
      "image/png": "[encoded data removed]",
      "text/plain": [
       "<Figure size 1591.6x806.68 with 1 Axes>"
      ]
     },
     "metadata": {},
     "output_type": "display_data"
    }
   ],
   "source": [
    "circ = QuantumCircuit(6)\n",
    "\n",
    "circ.ch(0, 5)\n",
    "\n",
    "circ.barrier()\n",
    "\n",
    "circ = circ.compose(CS(1), [4, 5])\n",
    "\n",
    "circ.barrier()\n",
    "\n",
    "# C3X\n",
    "circ = C3X(circ, 1, 2, 3, 4)\n",
    "\n",
    "circ.barrier()\n",
    "\n",
    "circ = circ.compose(CS_dagger(1), [4, 5])\n",
    "\n",
    "circ.barrier()\n",
    "\n",
    "# C3X\n",
    "circ = C3X(circ, 1, 2, 3, 4)\n",
    "\n",
    "circ.barrier()\n",
    "\n",
    "# C(n-2)S\n",
    "\n",
    "circ = circ.compose(CS(3), [1, 2, 3, 5])\n",
    "\n",
    "circ.barrier()\n",
    "\n",
    "circ.ch(0, 5)\n",
    "\n",
    "if True:\n",
    "    milk(circ)"
   ]
  },
  {
   "cell_type": "code",
   "execution_count": 1268,
   "metadata": {},
   "outputs": [
    {
     "data": {
      "image/png": "[encoded data removed]",
      "text/plain": [
       "<Figure size 1290.6x385.28 with 1 Axes>"
      ]
     },
     "metadata": {},
     "output_type": "display_data"
    }
   ],
   "source": [
    "## Improvement already\n",
    "\n",
    "circ = QuantumCircuit(n+1)\n",
    "\n",
    "# CH\n",
    "circ.ch(0, n)\n",
    "circ.barrier()\n",
    "\n",
    "# CS\n",
    "circ = circ.compose(CS(1), [n-1, n])\n",
    "circ.barrier()\n",
    "\n",
    "# CX\n",
    "circ.mct(list(range(1, n-1)), n-1)\n",
    "circ.barrier()\n",
    "\n",
    "# CS_dagger\n",
    "circ = circ.compose(CS_dagger(1), [n-1, n])\n",
    "circ.barrier()\n",
    "\n",
    "# CX\n",
    "circ.mct(list(range(1, n-1)), n-1)\n",
    "circ.barrier()\n",
    "\n",
    "# Final CS\n",
    "circ = circ.compose(CS(n-2), list(range(1, n-1))+[n])\n",
    "circ.barrier()\n",
    "\n",
    "# CH\n",
    "circ.ch(0, n)\n",
    "circ.barrier()\n",
    "\n",
    "if True:\n",
    "    milk(circ)"
   ]
  },
  {
   "cell_type": "code",
   "execution_count": 1266,
   "metadata": {},
   "outputs": [
    {
     "name": "stdout",
     "output_type": "stream",
     "text": [
      "cx: 66\n",
      "u3: 75\n",
      "Total cost: 735\n"
     ]
    }
   ],
   "source": [
    "dtp(circ, visual = False)"
   ]
  },
  {
   "cell_type": "code",
   "execution_count": null,
   "metadata": {},
   "outputs": [],
   "source": []
  }
 ],
 "metadata": {
  "kernelspec": {
   "display_name": "Python 3",
   "language": "python",
   "name": "python3"
  },
  "language_info": {
   "codemirror_mode": {
    "name": "ipython",
    "version": 3
   },
   "file_extension": ".py",
   "mimetype": "text/x-python",
   "name": "python",
   "nbconvert_exporter": "python",
   "pygments_lexer": "ipython3",
   "version": "3.7.4"
  }
 },
 "nbformat": 4,
 "nbformat_minor": 2
}
